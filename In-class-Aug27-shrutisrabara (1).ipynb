{
 "cells": [
  {
   "cell_type": "code",
   "execution_count": 17,
   "metadata": {
    "slideshow": {
     "slide_type": "skip"
    }
   },
   "outputs": [],
   "source": [
    "#In Class Aug. 27 Submission\n",
    "#8/27/19\n",
    "#Shruti Rabara "
   ]
  },
  {
   "cell_type": "markdown",
   "metadata": {
    "slideshow": {
     "slide_type": "slide"
    }
   },
   "source": [
    "# Functions #\n",
    "\n",
    "Functions are just small blocks of code that do a task that you're likely to want to repeat. By isolating the task in a function, you can connect it to other code like beads on a string, and if you want, you can pop that bead out and use it in a different string later.\n",
    "\n",
    "In some cases, the python developers knew that a function would be so common that they made a \"built-in\" function for it. For example, print()."
   ]
  },
  {
   "cell_type": "markdown",
   "metadata": {
    "slideshow": {
     "slide_type": "slide"
    }
   },
   "source": [
    "# Function arguments #\n",
    "\n",
    "Functions take arguments. That's what goes inside the parentheses after the function name. You have to pass something to them, whether it's a variable, a value, a filename, or whatever. \n",
    "\n",
    "No function is called without the parentheses, even if they're empty. \n",
    "\n",
    "Often, functions also return values. We'll get used to arguments first since you can't do even the most basic print operation without using an argument.\n",
    "\n",
    "In the statement print(\"My Name\") \"My Name\" (which is a string) is the argument.\n",
    "\n",
    "If you assigned a value to the variable my_name and then printed that, you'd type print(my_name)."
   ]
  },
  {
   "cell_type": "markdown",
   "metadata": {
    "slideshow": {
     "slide_type": "slide"
    }
   },
   "source": [
    "# Print statements #\n",
    "\n",
    "Python has a built-in function that dumps text to the screen while the script is running. You can use as many print statements as you want in a python script. Mostly when you really get into analyzing data, you're going to want to write output to files so that it can be saved. Print to the screen is ephemeral, files are saved to the disk. \n",
    "\n",
    "But print statements serve a very important purpose. Namely, you can \"check in\" on your script with a print statement at any point where you are not sure if things are going correctly. Check the value of a variable? Sure. Check to be sure a list isn't empty? That's what print is for.\n",
    "\n",
    "- print(\"A string of text\")\n",
    "- print(variablename)\n",
    "- print(nameoflist)\n",
    "- print(anythingyouwant)\n",
    "\n",
    "Write code to print your name in the input cell below. Remember, your name is a string!"
   ]
  },
  {
   "cell_type": "code",
   "execution_count": 1,
   "metadata": {
    "slideshow": {
     "slide_type": "skip"
    }
   },
   "outputs": [
    {
     "name": "stdout",
     "output_type": "stream",
     "text": [
      "Shruti\n"
     ]
    }
   ],
   "source": [
    "print(\"Shruti\")"
   ]
  },
  {
   "cell_type": "markdown",
   "metadata": {
    "slideshow": {
     "slide_type": "slide"
    }
   },
   "source": [
    "# Input statements #\n",
    "\n",
    "Python has a built-in function for a script to interactively get input from the user. It's called input(). The argument to the input function is usually some text that you want the user to see to prompt them to give input. Like \"Give me some input: \"\n",
    "\n",
    "Try calling the input function with that text as the argument in the code cell below and see what happens when you run it."
   ]
  },
  {
   "cell_type": "code",
   "execution_count": 2,
   "metadata": {},
   "outputs": [
    {
     "name": "stdout",
     "output_type": "stream",
     "text": [
      "Give me some input here\n"
     ]
    },
    {
     "data": {
      "text/plain": [
       "'here'"
      ]
     },
     "execution_count": 2,
     "metadata": {},
     "output_type": "execute_result"
    }
   ],
   "source": [
    "input(\"Give me some input \")"
   ]
  },
  {
   "cell_type": "markdown",
   "metadata": {
    "slideshow": {
     "slide_type": "slide"
    }
   },
   "source": [
    "# Comments #\n",
    "\n",
    "We already saw how to make a simple single line comment in the prep work exercise.\n",
    "\n",
    "You can also use comments as part of a line of code -- after you have everything you need for the code, you can add a comment:\n",
    "\n",
    "print(my_name) #prints the value of the my_name variable\n",
    "\n",
    "You can also create multi-line comments if you have something really complicated to explain that needs more than one line. The python style guide suggests just creating a series of single line comments to accomplish this, and most text editors that have syntax highlighting capabilities have features to make this easier.\n",
    "\n",
    "In the cell below, type an example of each type of comment -- single line, in-line, and multi-line. "
   ]
  },
  {
   "cell_type": "code",
   "execution_count": 3,
   "metadata": {
    "slideshow": {
     "slide_type": "skip"
    }
   },
   "outputs": [
    {
     "name": "stdout",
     "output_type": "stream",
     "text": [
      "Shruti\n"
     ]
    }
   ],
   "source": [
    "#single line commment\n",
    "print(\"Shruti\") #inline comment\n",
    "#multi line comment\n",
    "#multi line comment"
   ]
  },
  {
   "cell_type": "markdown",
   "metadata": {
    "slideshow": {
     "slide_type": "slide"
    }
   },
   "source": [
    "# Variable assignment #\n",
    "\n",
    "A variable is the name of a container that can have many types of content. Python is an object-oriented language, so every variable is an object, and you don't have to declare what type of object it is before you start using it. \n",
    "\n",
    "To assign a value to a variable, you use the = sign, which is the ASSIGNMENT OPERATOR. There are other equals sign operators in python. \n",
    "\n",
    "= is for TELLING (when you are assigning the value of the variable) and == is for ASKING (an evaluation operator used when you are testing to see if the variable contains a certain value).\n",
    "\n",
    "If it is a mutable type of variable (one that can change once assigned) it might even end up being more than one type of object in its lifetime in your code, if that's what you want.\n",
    "\n",
    "- Variable names must start with a letter or an underscore\n",
    "- The rest of your variable name can be made up of letters, numbers and underscores\n",
    "- There can be no spaces in variable names\n",
    "- Variable names are case sensitive, so Cynthia is not the same object as cynthia or CYNTHIA.\n",
    "\n",
    "In the cell below\n",
    "\n",
    "- assign your name as the value of the variable my_name\n",
    "- assign an integer number as the value of the variable number_of_pets\n",
    "- assign a number with a decimal point as the value of dollars_in_my_pocket\n",
    "\n",
    "Run the cell to make sure python likes your assignment statements and variable names."
   ]
  },
  {
   "cell_type": "code",
   "execution_count": 4,
   "metadata": {
    "slideshow": {
     "slide_type": "skip"
    }
   },
   "outputs": [],
   "source": [
    "my_name = \"Shruti\"\n",
    "number_of_pets = 12\n",
    "dollars_in_my_pocket = 12.0"
   ]
  },
  {
   "cell_type": "markdown",
   "metadata": {
    "slideshow": {
     "slide_type": "slide"
    }
   },
   "source": [
    "# Assigning input to a variable #\n",
    "\n",
    "In Python, you can assign any value to a variable -- even if that value is not a fixed string or number, but rather the output of a function.\n",
    "\n",
    "For instance, you can assign the value of an input() function call to a variable.  How would this look?\n",
    "\n",
    "my_string = input(\"Give me a string! \")\n",
    "\n",
    "In the box below, assign the value of an input() call to my_dna. When prompted, enter the string ATGCATGC. As the user giving input, you do not need to enclose the string in quotes. Once you have the value assigned to the string, print the variable and get its type.\n",
    "\n",
    "Next, see what happens when you ask the user for a value and the value is a number. Assign the value of an input() call to my_number, and when prompted, enter the number 8675309. Print the variable and get its type. Is it a numerical variable?"
   ]
  },
  {
   "cell_type": "code",
   "execution_count": 5,
   "metadata": {
    "slideshow": {
     "slide_type": "skip"
    }
   },
   "outputs": [
    {
     "name": "stdout",
     "output_type": "stream",
     "text": [
      "enter DNAATGCATGC\n",
      "ATGCATGC\n",
      "enter a number8675309\n",
      "8675309\n"
     ]
    },
    {
     "data": {
      "text/plain": [
       "str"
      ]
     },
     "execution_count": 5,
     "metadata": {},
     "output_type": "execute_result"
    }
   ],
   "source": [
    "my_dna = input(\"enter DNA\")\n",
    "print(my_dna)\n",
    "\n",
    "\n",
    "my_number = input(\"enter a number\")\n",
    "print(my_number)\n",
    "type(my_number)"
   ]
  },
  {
   "cell_type": "markdown",
   "metadata": {
    "slideshow": {
     "slide_type": "slide"
    }
   },
   "source": [
    "# Variable types #\n",
    "\n",
    "Python has a built-in function called type() which tells you the type of a variable. You already used this in the prep exercise, but let's review it.\n",
    "\n",
    "- What type is a variable that contains a phrase of alphanumeric characters inside quotes?\n",
    "- What type is a variable that contains an integer number?\n",
    "- What type is a variable that contains a numerical value with a decimal point?\n",
    "\n",
    "There are probably some other things they can be too, and we'll learn about those as we go.\n",
    "\n",
    "In the cell below, I've defined a couple of additional variables. Find the type for my_name, number_of_pets, and dollars_in_my_pocket that you defined before, and be sure the types are what you expected they would be. What types are the new variables different_pets, pet_name, and have_pets?"
   ]
  },
  {
   "cell_type": "code",
   "execution_count": 6,
   "metadata": {
    "slideshow": {
     "slide_type": "notes"
    }
   },
   "outputs": [
    {
     "data": {
      "text/plain": [
       "tuple"
      ]
     },
     "execution_count": 6,
     "metadata": {},
     "output_type": "execute_result"
    }
   ],
   "source": [
    "different_pets = [\"dog\", \"cat\", \"bird\", \"rabbit\"]\n",
    "pet_name = (\"dog\", \"Sunny\")\n",
    "have_pets = True\n",
    "\n",
    "type(pet_name)\n",
    "\n"
   ]
  },
  {
   "cell_type": "markdown",
   "metadata": {
    "slideshow": {
     "slide_type": "slide"
    }
   },
   "source": [
    "# Strings #\n",
    "\n",
    "We've already met single-line strings in the prep work exercise, and if your code worked right, you just assigned a string value to a variable called my_name, above.\n",
    "\n",
    "- How do you change the value of that variable now, once it's already assigned?\n",
    "\n",
    "In the cell below, print the value of my_name, then change the value of my_name, and then print it again."
   ]
  },
  {
   "cell_type": "code",
   "execution_count": 7,
   "metadata": {
    "slideshow": {
     "slide_type": "skip"
    }
   },
   "outputs": [
    {
     "name": "stdout",
     "output_type": "stream",
     "text": [
      "Shruti\n",
      "rabara\n"
     ]
    }
   ],
   "source": [
    "print(my_name)\n",
    "my_name = \"rabara\"\n",
    "print(my_name)\n",
    "\n"
   ]
  },
  {
   "cell_type": "markdown",
   "metadata": {
    "slideshow": {
     "slide_type": "slide"
    }
   },
   "source": [
    "# Multi-line strings #\n",
    "\n",
    "You can create a multi-line string using triple quotes. For instance, if you wanted the following haiku as a string:\n",
    "\n",
    "Over-ripe sushi,\n",
    "The Master\n",
    "Is full of regret.\n",
    "\n",
    "You would place three quotes (\"\"\") in front and three at the end.\n",
    "\n",
    "Do this in the cell below, and then print the value to see what it looks like."
   ]
  },
  {
   "cell_type": "code",
   "execution_count": 8,
   "metadata": {
    "slideshow": {
     "slide_type": "skip"
    }
   },
   "outputs": [
    {
     "name": "stdout",
     "output_type": "stream",
     "text": [
      "Over-ripe sushi, The master is full of regrets.\n"
     ]
    }
   ],
   "source": [
    "sushi = \"\"\"Over-ripe sushi, The master is full of regrets.\"\"\"\n",
    "print(sushi)"
   ]
  },
  {
   "cell_type": "markdown",
   "metadata": {
    "slideshow": {
     "slide_type": "slide"
    }
   },
   "source": [
    "# Errors #\n",
    "\n",
    "There are some ways to make errors when assigning variables. You've seen the four types that we could come up with by getting quotes wrong in a string assignment statement.\n",
    "\n",
    "Other ways you will commonly get this wrong are:\n",
    "\n",
    "Using an evaluation operator rather than a test operator to assign (variable == value)\n",
    "Putting the value and the variable in the wrong order in the statement (value = variable)\n",
    "\n",
    "In the cell below, try the following:\n",
    "\n",
    "- try to assign a value (\"ATGCATGC\") to a variable (my_dna) using the evaluation operator == instead of the assignment operator = \n",
    "- try to assign a value to a variable, but put the value before the equals sign and the variable name after"
   ]
  },
  {
   "cell_type": "code",
   "execution_count": 9,
   "metadata": {
    "slideshow": {
     "slide_type": "skip"
    }
   },
   "outputs": [
    {
     "ename": "SyntaxError",
     "evalue": "can't assign to literal (<ipython-input-9-3313973307ca>, line 2)",
     "output_type": "error",
     "traceback": [
      "\u001b[0;36m  File \u001b[0;32m\"<ipython-input-9-3313973307ca>\"\u001b[0;36m, line \u001b[0;32m2\u001b[0m\n\u001b[0;31m    \"Shruti\" = my_name\u001b[0m\n\u001b[0m                      ^\u001b[0m\n\u001b[0;31mSyntaxError\u001b[0m\u001b[0;31m:\u001b[0m can't assign to literal\n"
     ]
    }
   ],
   "source": [
    "my_dna == \"ATGCATGC\"\n",
    "\"Shruti\" = my_name"
   ]
  },
  {
   "cell_type": "markdown",
   "metadata": {
    "slideshow": {
     "slide_type": "slide"
    }
   },
   "source": [
    "# String Operators #\n",
    "\n",
    "Operators are special characters or reserved words in python that perform arithmetic or logical operations. You've already seen two operators:\n",
    "\n",
    "- =, the basic assignment operator\n",
    "- ==, the \"equal to\" comparison operator\n",
    "\n",
    "There are lots of other operators. Some of them work with strings, and some do not. The main operators that you'll probably use with strings are:\n",
    "\n",
    "- +, the addition operator (this is the big one -- it concatenates two strings together)\n",
    "- *, the multiplication operator (repeats a string phrase as many times as you tell it to)\n",
    "- in, the membership operator (is a character or string part of a larger sequence or string)\n",
    "\n",
    "Try out the following in the cell below and see what the results are:\n",
    "\n",
    "- \"ATCGATCG\" == \"ATGCATGC\"\n",
    "- \"ATCGATCG\" + \"ATGCATGC\"\n",
    "- \"ATCGATCG\" * 5\n",
    "- \"BC\" in \"ATGCATGC\""
   ]
  },
  {
   "cell_type": "code",
   "execution_count": 11,
   "metadata": {
    "slideshow": {
     "slide_type": "skip"
    }
   },
   "outputs": [
    {
     "name": "stdout",
     "output_type": "stream",
     "text": [
      "False\n",
      "ATCGATCGATGCATGC\n",
      "ATCGATCGATCGATCGATCGATCGATCGATCGATCGATCG\n",
      "False\n"
     ]
    }
   ],
   "source": [
    "print(\"ATCGATCG\" == \"ATGCATGC\")\n",
    "print(\"ATCGATCG\" + \"ATGCATGC\")\n",
    "print(\"ATCGATCG\" * 5)\n",
    "print(\"BC\" in \"ATGCATGC\")"
   ]
  },
  {
   "cell_type": "markdown",
   "metadata": {
    "slideshow": {
     "slide_type": "slide"
    }
   },
   "source": [
    "# Strings as sequences (but not the DNA kind) #\n",
    "\n",
    "Hey, how is it that we can look for a single character B in a longer string using \"in\"? Isn't a string just a single object?\n",
    "\n",
    "Nope.\n",
    "\n",
    "A string is a case of a more general object type in python. Strings are iterable sequences, meaning that a function can take in a string character-by-character and do something to each character in turn, like compare it to a pattern.\n",
    "\n",
    "Other examples of sequences in python are lists and tuples. Files can even be treated as sequences (taken line by line) when opened in the right way."
   ]
  },
  {
   "cell_type": "markdown",
   "metadata": {
    "slideshow": {
     "slide_type": "slide"
    }
   },
   "source": [
    "# String indexing and slicing #\n",
    "\n",
    "Because each string is a sequence of things, each thing in the string has an \"index\", that is, a hidden value that tells what its position in the string is. \n",
    "\n",
    "That value does not show up or print out when you print the string, but the index is always there, accompanying each character in the string, stealthily waiting for you to use it. We'll learn a bunch of ways to interact with and get indexes, but this is the general notation of how you refer to them:\n",
    "\n",
    "- string[1] returns whatever is at position 1 in the string\n",
    "- string[0:10] returns positions 0-9 of the string\n",
    "- string[::2] returns every second character in the string\n",
    "- string[-1] returns the last character of the string\n",
    "- string[-10:] returns the last 10 characters of the string\n",
    "- string[::-1] reverses the string \n",
    "\n",
    "Try some of these with the alphabet in the cell below to see what I mean. Then, once you think you understand how it works, fill in some new string slices that return:\n",
    "\n",
    "- the letters from H-R\n",
    "- every third letter in the alphabet starting at the B\n",
    "- the last four letters\n",
    "- the sixth letter from the end\n",
    "- the first letter\n",
    "\n",
    "Test them until they work! The main source of problems people have is that index values start at zero rather than at 1, and slices are not inclusive -- the slice 0:10 contains characters 0,1,2,3,4,5,6,7,8,9 ... but not 10."
   ]
  },
  {
   "cell_type": "code",
   "execution_count": 12,
   "metadata": {
    "slideshow": {
     "slide_type": "notes"
    }
   },
   "outputs": [
    {
     "name": "stdout",
     "output_type": "stream",
     "text": [
      "HIJKLMNOPQR\n",
      "BEHKNQTWZ\n",
      "WXYZ\n",
      "U\n",
      "A\n"
     ]
    }
   ],
   "source": [
    "string = \"ABCDEFGHIJKLMNOPQRSTUVWXYZ\"\n",
    "print(string[7:18])\n",
    "print(string[1::3])\n",
    "print(string[22:26])\n",
    "print(string[26-6])\n",
    "print(string[0])\n"
   ]
  },
  {
   "cell_type": "markdown",
   "metadata": {
    "slideshow": {
     "slide_type": "slide"
    }
   },
   "source": [
    "# Concatenation #\n",
    "\n",
    "Probably the most common operator you will use with strings is the + sign. If you use it with numbers, + adds them together, just like a calculator would. If you use plus with strings, though, the results are different.\n",
    "\n",
    "In the box below, define a few variables for yourself -- make some strings, an integer, a number with a decimal point. Write some statements that correctly concatenate the values of those variables together into strings.\n",
    "\n",
    "How's that going to work if the variables are different types, though? Remember from the prep work assignment -- if you try to concatenate \"ATGCATGC\" and 2.0773, it's not going to work, because the variables are different types. Here's where another kind of built in functions come into play!\n",
    "\n",
    "str(variable) takes the value of a numerical variable, either int or float, and \"casts\" it as a string. That is, the value of the variable will stay the same and it will look the same, but functionally, it will be a different type of object in your code.\n",
    "\n",
    "Try that out where you think it's needed in your statements, and we'll check back on how it worked."
   ]
  },
  {
   "cell_type": "code",
   "execution_count": 13,
   "metadata": {
    "slideshow": {
     "slide_type": "skip"
    }
   },
   "outputs": [
    {
     "data": {
      "text/plain": [
       "'Shruti 19 12.12'"
      ]
     },
     "execution_count": 13,
     "metadata": {},
     "output_type": "execute_result"
    }
   ],
   "source": [
    "my_name = \"Shruti \"\n",
    "my_age = 19\n",
    "a_number = 12.12\n",
    "my_name + str(my_age) + \" \" + str(a_number)"
   ]
  },
  {
   "cell_type": "markdown",
   "metadata": {
    "slideshow": {
     "slide_type": "slide"
    }
   },
   "source": [
    "# String Immutability #\n",
    "\n",
    "String values are immutable. Once they're assigned, they can't be changed.\n",
    "\n",
    "But wait, didn't we just add some strings (and stringified numbers) together and see them printed out as one string? Of course the string changed! Except it didn't.\n",
    "\n",
    "The only way you can change string = \"ATGCATGC\" to a different string is to assign the output of the addition operation to a variable. Otherwise, the output is just a temporary big string that gets generated on the fly and forgotten.\n",
    "\n",
    "Here's a sequence of commands that will show you what happens with strings as various operators are applied\n",
    "\n",
    "shortstring = \"afewletters\" # here we assign the value of shortstring\n",
    "shortstring + \"moreletters\" # and here we add more letters to it\n",
    "print(shortstring) # but shortstring stays the same\n",
    "bigstring = shortstring + \"moreletters\" # if we assign the results of the addition to a variable then they are saved\n",
    "longstring = shortstring * 3 # we can also multiply strings and do the same\n",
    "print(bigstring) # see that the new values have been saved\n",
    "print(longstring) # see that the new values have been saved\n",
    "shortstring += \"moreletters\" # if we want to change the string we have to use the += assignment operator\n",
    "print(shortstring) # the value changes if we use this instead of just +\n",
    "shortstring *= 3 # the same is true for multiplication\n",
    "print(shortstring) # that's how it works\n",
    "\n",
    "Remember this from the prep work? \"Write some code that assigns the string value \"ATGCATGC\" to the variable my_dna, the value \"CTAGCTAG\" to the variable your_dna, and the value \"GATCGATC\" to the variable her_dna. Each assignment statement must be on a separate line.\"\n",
    "\n",
    "In the cell below, assign those variables and then write examples of how to concatenate them by:\n",
    "\n",
    "- assigning the results of a + operation to a new variable\n",
    "- assigning the results of a * operation to a new variable\n",
    "- using the += operator to update the variable\n",
    "- using the *= operator to update the variable\n",
    "\n",
    "Remember that once you change a variable value using += or *=, the original value is lost. "
   ]
  },
  {
   "cell_type": "code",
   "execution_count": 18,
   "metadata": {
    "slideshow": {
     "slide_type": "skip"
    }
   },
   "outputs": [
    {
     "name": "stdout",
     "output_type": "stream",
     "text": [
      "ATGCATGCCTAGCTAG\n",
      "GATCGATCGATCGATC\n",
      "ATGCATGCAGTAGATA\n",
      "CTAGCTAGCTAGCTAGCTAGCTAGCTAGCTAGCTAGCTAGCTAGCTAGCTAGCTAG\n"
     ]
    }
   ],
   "source": [
    "my_dna = \"ATGCATGC\"\n",
    "your_dna = \"CTAGCTAG\"\n",
    "her_dna = \"GATCGATC\"\n",
    "print(my_dna + your_dna)\n",
    "print(her_dna*2)\n",
    "my_dna += \"AGTAGATA\"\n",
    "your_dna *= 7\n",
    "print(my_dna)\n",
    "print(your_dna)"
   ]
  },
  {
   "cell_type": "markdown",
   "metadata": {
    "slideshow": {
     "slide_type": "slide"
    }
   },
   "source": [
    "# Concatenation for Printing #\n",
    "\n",
    "Concatenation can also be used in the arguments of print statements. So, for instance, if you want to print out a single line that says \"This gene sequence has 37.5% GC content!\" and your percentage is stored in the variable my_percent, you would create a statement like:\n",
    "\n",
    "print(\"This sequence has \" + str(percent) \"% GC content!\")\n",
    "\n",
    "In order to produce results with the correct spacing, space characters can be included inside the parentheses.\n",
    "\n",
    "In the cell below, using the variables that you defined at the beginning, make a concatenated statement that prints \"My name is , I have x pets and I have y dollars in my pocket.\""
   ]
  },
  {
   "cell_type": "code",
   "execution_count": 20,
   "metadata": {
    "slideshow": {
     "slide_type": "skip"
    }
   },
   "outputs": [
    {
     "name": "stdout",
     "output_type": "stream",
     "text": [
      "My name is Shruti , I have 12 pets and I have 12.0 dollars in my pocket.\n"
     ]
    }
   ],
   "source": [
    "print(\"My name is \" + my_name + \", I have \" + str(number_of_pets) + \" pets and I have \" + str(dollars_in_my_pocket) + \" dollars in my pocket.\")"
   ]
  }
 ],
 "metadata": {
  "kernelspec": {
   "display_name": "Python 3",
   "language": "python",
   "name": "python3"
  },
  "language_info": {
   "codemirror_mode": {
    "name": "ipython",
    "version": 3
   },
   "file_extension": ".py",
   "mimetype": "text/x-python",
   "name": "python",
   "nbconvert_exporter": "python",
   "pygments_lexer": "ipython3",
   "version": "3.7.4"
  }
 },
 "nbformat": 4,
 "nbformat_minor": 2
}
