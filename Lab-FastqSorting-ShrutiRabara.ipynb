{
 "cells": [
  {
   "cell_type": "markdown",
   "metadata": {},
   "source": [
    "# Sorting and QCing sequences (version 1) #\n",
    "\n",
    "One of the routine tasks we do in Bioinformatics is to quality control DNA sequences. \n",
    "\n",
    "In this version of the problem, we're opening a fastq file, which is the format that I showed you in class today. fastqs are a format for very short (50-200) DNA sequence reads and the format consists of 4 lines in a repeating pattern.\n",
    "\n",
    "We want to get those lines out and test them to see how many of the sequences contain specific patterns, called barcodes. \n",
    "\n",
    "The barcode sequences that might occur are:\n",
    "\n",
    "['ATCACG','CGATGT','TTAGGC','TGACCA','ACATGT','GCCAAT','CAGATC','ACTTGA','GATCAG','TAGCTT','GGCTAG','CTTGTA']\n",
    "\n",
    "Barcodes will show up at the beginning of the sequence. If the pattern is found somewhere else it's probably random and not a real barcode.\n",
    "\n",
    "We also only want to count the ones that are long enough. If they're not over 80 nucleotides we don't want to count them."
   ]
  },
  {
   "cell_type": "code",
   "execution_count": 1,
   "metadata": {},
   "outputs": [],
   "source": [
    "def read_fastq(fastq):\n",
    "\t\"\"\"reads a fastq file into three variables, streams\"\"\"\n",
    "\tname,seq,qual = [None],[None],[None] # initialize variables\n",
    "\tfor i,line in enumerate(fastq): #gets the lines plus a counter\n",
    "\t\tline = line.strip() #cleans up the whitespace\n",
    "\t\tif i % 4 == 0: #decides what to do based on the index -- is it line 0,1,2 or 3 in the pattern\n",
    "\t\t\tname = line # if it's an 0, it's a header\n",
    "\t\telif i % 4 == 1: # if it's a 1, it's a sequence\n",
    "\t\t\tseq = line\n",
    "\t\telif i % 4 == 3: # if it's a 3, it's a quality string\n",
    "\t\t\tqual = line \n",
    "\t\t\tyield name,seq,qual # done with line 3, yield all values and go back and get the next line\n",
    "\t\t\tname,seq,qual = [None],[None],[None] #set values to None after yield just to be sure\n",
    "\t\telse:\n",
    "\t\t\tpass #this happens if it's line 2"
   ]
  },
  {
   "cell_type": "code",
   "execution_count": 12,
   "metadata": {},
   "outputs": [
    {
     "name": "stdout",
     "output_type": "stream",
     "text": [
      "81\n",
      "73\n",
      "84\n",
      "78\n",
      "71\n",
      "83\n",
      "55\n",
      "64\n",
      "76\n",
      "75\n",
      "81\n",
      "84\n"
     ]
    }
   ],
   "source": [
    "def read_fastq(fastq):\n",
    "\t\"\"\"reads a fastq file into three variables, streams\"\"\"\n",
    "\tname,seq,qual = [None],[None],[None] # initialize variables\n",
    "\tfor i,line in enumerate(fastq): #gets the lines plus a counter\n",
    "\t\tline = line.strip() #cleans up the whitespace\n",
    "\t\tif i % 4 == 0: #decides what to do based on the index -- is it line 0,1,2 or 3 in the pattern\n",
    "\t\t\tname = line # if it's an 0, it's a header\n",
    "\t\telif i % 4 == 1: # if it's a 1, it's a sequence\n",
    "\t\t\tseq = line\n",
    "\t\telif i % 4 == 3: # if it's a 3, it's a quality string\n",
    "\t\t\tqual = line \n",
    "\t\t\tyield name,seq,qual # done with line 3, yield all values and go back and get the next line\n",
    "\t\t\tname,seq,qual = [None],[None],[None] #set values to None after yield just to be sure\n",
    "\t\telse:\n",
    "\t\t\tpass #this happens if it's line 2\n",
    "        \n",
    "with open(\"sequences.fastq.txt\") as infile: #this call turns the open file into an object\n",
    "    emp_lis = [0,0,0,0,0,0,0,0,0,0,0,0]\n",
    "    for n,s,q in read_fastq(infile): #this is how we call read_fastq on the iterable\n",
    "        barcode = ['ATCACG','CGATGT','TTAGGC','TGACCA','ACATGT','GCCAAT','CAGATC','ACTTGA','GATCAG','TAGCTT','GGCTAG','CTTGTA']\n",
    "        if len(s) < 80:\n",
    "            continue\n",
    "        for j in range(0,12):\n",
    "            if s[0:6] in barcode[j]:\n",
    "                    emp_lis[j] = emp_lis[j] + 1\n",
    "        \n",
    "                    \n",
    "    for k in emp_lis:\n",
    "        print(k)\n",
    "                \n",
    "                "
   ]
  },
  {
   "cell_type": "code",
   "execution_count": null,
   "metadata": {},
   "outputs": [],
   "source": []
  }
 ],
 "metadata": {
  "kernelspec": {
   "display_name": "Python 3",
   "language": "python",
   "name": "python3"
  },
  "language_info": {
   "codemirror_mode": {
    "name": "ipython",
    "version": 3
   },
   "file_extension": ".py",
   "mimetype": "text/x-python",
   "name": "python",
   "nbconvert_exporter": "python",
   "pygments_lexer": "ipython3",
   "version": "3.7.4"
  }
 },
 "nbformat": 4,
 "nbformat_minor": 2
}
