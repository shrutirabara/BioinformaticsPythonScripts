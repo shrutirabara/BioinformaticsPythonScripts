{
 "cells": [
  {
   "cell_type": "markdown",
   "metadata": {},
   "source": [
    "# Make your own function #\n",
    "\n",
    "(5 points) In the cells below, enter a working version of the function that was assigned at the beginning of class, and then call the function on these two sequences:\n",
    "\n",
    "- CTGCTTGCCAGAAGAGGTTTTTCTTCTAAAGACAGTGACTAAAATGGATACTACCCAACATTCATATAGTGCACATAGCTGTGAGTCGATCATTGTACGT\n",
    "- CAACCGTTGTGTCTGCAGCATTGGCAGGAGAACGGCGGCGCCGCGTGGTCTGGGGGAGACGTGTACGCCACCAGACCCGCCCCGCGGCCAATCTACGGGTTGCACTCATTCGCTCTAAGC\n",
    " \n",
    "correct answers -- 40%, 65%"
   ]
  },
  {
   "cell_type": "code",
   "execution_count": 9,
   "metadata": {},
   "outputs": [
    {
     "name": "stdout",
     "output_type": "stream",
     "text": [
      "40.0\n"
     ]
    }
   ],
   "source": [
    "DNA = \"CTGCTTGCCAGAAGAGGTTTTTCTTCTAAAGACAGTGACTAAAATGGATACTACCCAACATTCATATAGTGCACATAGCTGTGAGTCGATCATTGTACGT\"\n",
    "def GCpercent(DNA):\n",
    "    count = DNA.count(\"G\") + DNA.count(\"C\")\n",
    "    length = len(DNA)\n",
    "    percent = (count/length)*100\n",
    "    return percent\n",
    "print(GCpercent(DNA))\n"
   ]
  },
  {
   "cell_type": "code",
   "execution_count": 10,
   "metadata": {},
   "outputs": [
    {
     "name": "stdout",
     "output_type": "stream",
     "text": [
      "65.0\n"
     ]
    }
   ],
   "source": [
    "DNA = \"CAACCGTTGTGTCTGCAGCATTGGCAGGAGAACGGCGGCGCCGCGTGGTCTGGGGGAGACGTGTACGCCACCAGACCCGCCCCGCGGCCAATCTACGGGTTGCACTCATTCGCTCTAAGC\"\n",
    "def GCpercent(DNA):\n",
    "    count = DNA.count(\"G\") + DNA.count(\"C\")\n",
    "    length = len(DNA)\n",
    "    percent = (count/length)*100\n",
    "    return percent\n",
    "print(GCpercent(DNA))"
   ]
  },
  {
   "cell_type": "markdown",
   "metadata": {},
   "source": [
    "# Functions with more than one argument #\n",
    "\n",
    "Functions can have more than one positional argument. i.e. if I define a function so that it asks for a length and a percentage, then I will write the function so it interprets two values passed to it IN THAT ORDER, and I will write my function docstring so that the user knows that the function wants to receive the arguments in the order length, percentage. That would look like this:\n",
    "\n",
    "```def my_function(length, percentage):\n",
    "    \"\"\"my_function calculates a new length\n",
    "       takes two arguments, length and percentage\n",
    "       returns the new length\"\"\"       \n",
    "    return length * (percentage/100)```\n",
    "\n",
    "I could call the function with a statement like:\n",
    "\n",
    "```newlen = my_function(80,40)```\n",
    "\n",
    "Or, if I had defined some variables out in the main body of the program before the function call, I could pass it the variables instead:\n",
    "\n",
    "```strlen = 80\n",
    "perc = 40\n",
    "newlen = my_function(strlen,perc)```\n",
    "\n",
    "In the first cell below, write a function that concatenates two strings given to you by the user. It can concatenate them into one big word, or into a formatted statement with added space if you like.\n",
    "\n",
    "In the second cell, write code that gets the two input strings from the user, converts them to numbers, and then calls the function on them."
   ]
  },
  {
   "cell_type": "code",
   "execution_count": 38,
   "metadata": {},
   "outputs": [
    {
     "name": "stdout",
     "output_type": "stream",
     "text": [
      "this\n",
      "this\n",
      "thisthis\n"
     ]
    }
   ],
   "source": [
    "def sentence():\n",
    "    string1 = input()\n",
    "    string2 = input()\n",
    "    together = (string1 + string2)\n",
    "    return together\n",
    "\n",
    "\n",
    "\n",
    "\n",
    "my_out = sentence()\n",
    "print(my_out)"
   ]
  },
  {
   "cell_type": "code",
   "execution_count": 5,
   "metadata": {},
   "outputs": [
    {
     "name": "stdout",
     "output_type": "stream",
     "text": [
      "9\n",
      "8\n"
     ]
    }
   ],
   "source": [
    "string1 = input()\n",
    "string2 = input()\n",
    "strr = int(string1)\n",
    "strrr = int(string2)\n",
    "\n",
    "def sentence(st1, st2):\n",
    "    return st1 + st2\n",
    "\n",
    "my_out = sentence(string1, string2)"
   ]
  },
  {
   "cell_type": "markdown",
   "metadata": {},
   "source": [
    "# Encapsulation #\n",
    "\n",
    "What happens in a function stays in the function\n",
    "\n",
    "The rest of your script cannot directly use the variables inside your function; it should only use what is passed out by the return statement\n",
    "\n",
    "The function *can* see global variables that were defined before it was called, but it should not directly use global variables that are defined outside the function, it should only use what is passed in as arguments\n",
    "\n",
    "Why? This makes it easy to use functions in multiple scripts.\n",
    "\n",
    "In the function below, add some input statements. Can you print arg1 or arg2 from outside the function? What about from inside the function? Add print statements and comment them to show where you can print these two values successfully."
   ]
  },
  {
   "cell_type": "code",
   "execution_count": 4,
   "metadata": {},
   "outputs": [
    {
     "name": "stdout",
     "output_type": "stream",
     "text": [
      "Give me an integer: 7\n",
      "Give me another integer: 8\n",
      "15\n"
     ]
    }
   ],
   "source": [
    "def functionName(arg1, arg2):\n",
    "    output = arg1 + arg2\n",
    "    output2 = arg1 * arg2\n",
    "    \"\"\"print(arg1) not successful\"\"\"\n",
    "    \"\"\"print(arg2) not successful\"\"\"\n",
    "    return output\n",
    "\n",
    "myInput1 = int(input(\"Give me an integer: \"))\n",
    "myInput2 = int(input(\"Give me another integer: \"))\n",
    "value = functionName(myInput1,myInput2)\n",
    "print(value)"
   ]
  },
  {
   "cell_type": "markdown",
   "metadata": {},
   "source": [
    "In the cell below, test to see if the function knows about myInput1 and myInput2. Can you use those variables directly inside the function? To test that, place a statement that adds those two values inside of the function, and try to return its output."
   ]
  },
  {
   "cell_type": "code",
   "execution_count": 5,
   "metadata": {},
   "outputs": [
    {
     "name": "stdout",
     "output_type": "stream",
     "text": [
      "Give me an integer: 5\n",
      "Give me another integer: 6\n",
      "11\n"
     ]
    }
   ],
   "source": [
    "def functionName(arg1, arg2):\n",
    "    output = arg1 + arg2\n",
    "    output2 = arg1 * arg2\n",
    "    output3 = myInput1 + myInput2\n",
    "    return output3\n",
    "\n",
    "myInput1 = int(input(\"Give me an integer: \"))\n",
    "myInput2 = int(input(\"Give me another integer: \"))\n",
    "value = functionName(myInput1,myInput2)\n",
    "print(value)"
   ]
  },
  {
   "cell_type": "markdown",
   "metadata": {},
   "source": [
    "# New built-ins for numbers #\n",
    "\n",
    "Here are two new built-ins to get your head around for numbers:\n",
    "\n",
    "round(number,decimal) -- rounds a number to the mathematically correct value (instead of just lopping off the end like int() does). If you want to round to an integer, you just use round(my_number). If you want to round to a particular decimal place, you also give the number of decimal places you want to round to. So round(34.56789) = 35, but round(34.56789,3) = 34.568\n",
    "\n",
    "abs() -- absolute value\n",
    "\n",
    "In the cell below, complete the comparison statements so that they evaluate True.\n",
    "Are the rounded integer values of floating point numbers actually integers, or are they floats? Write a statement that demonstrates what type they are."
   ]
  },
  {
   "cell_type": "code",
   "execution_count": 16,
   "metadata": {},
   "outputs": [
    {
     "data": {
      "text/plain": [
       "True"
      ]
     },
     "execution_count": 16,
     "metadata": {},
     "output_type": "execute_result"
    }
   ],
   "source": [
    "abs(-13.0) == 13\n",
    "abs(1) == 1\n",
    "round(23.45678) == 23\n",
    "round(23.45678,2) == 23.46\n",
    "round(abs(-12.5)) == 12"
   ]
  },
  {
   "cell_type": "markdown",
   "metadata": {},
   "source": [
    "# New keyword: if #\n",
    "\n",
    "Like we did in the cell above, we've been using evaluation operators for a while now. If the statements on either side of the == sign are the same, the operator returns True. If they're not, it returns False. Easy peasy.\n",
    "\n",
    "If you use the *if* keyword, that comparison statement turns into a decision point in your program. If the statement returns True, do one thing. If the statement returns False, don't do the thing. If statements can be combined in many ways, and can include multiple options for different conditions. For the moment, we're just going to use them on their own. Yes or no, do or do not.\n",
    "\n",
    "```for i in range(0,10):\n",
    "    if i % 2 == 0\n",
    "        print(str(i) + \" is even!\")```\n",
    "        \n",
    "```for char in \"ABCDEFGHIJKLMNOPQRSTUVWXYZ\":\n",
    "    if char in ['B','H','J','P']:\n",
    "        print(char + \" is a match!\")```\n",
    "        \n",
    "(5 points) In the cell below, recreate python's .count() method as a function. The steps will be similar to how we re-created len(), but there'll be an added if statement involved. Your version of .count() only needs to work for single letters.\n",
    "\n",
    "In the second cell below, assign the input string and the character you're searching for to some variables, and call your counting function on them."
   ]
  },
  {
   "cell_type": "code",
   "execution_count": 16,
   "metadata": {},
   "outputs": [],
   "source": [
    "def function(a, let):\n",
    "    j = 0\n",
    "    for char in a:\n",
    "        if char == let:\n",
    "            j+=1\n",
    "    return j"
   ]
  },
  {
   "cell_type": "code",
   "execution_count": null,
   "metadata": {},
   "outputs": [],
   "source": [
    "this_string = \"Stringsstrings\"\n",
    "print(function(this_string,\"g\"))"
   ]
  },
  {
   "cell_type": "markdown",
   "metadata": {},
   "source": [
    "# Review: random.shuffle() #\n",
    "\n",
    "Last week I showed you how to generate a random alphabet code by converting a string to a list, and then shuffling it with the shuffle function from the random module. That code looked like this:\n",
    "\n",
    "```import random\n",
    "alphabet = \"ABCDEFGHIJKLMNOPQRSTUVWXYZ\"\n",
    "codekey = list(alphabet)\n",
    "random.shuffle(codekey)\n",
    "print(\"\".join(codekey))```"
   ]
  },
  {
   "cell_type": "markdown",
   "metadata": {},
   "source": [
    "# Generate your own random DNA sequences #\n",
    "\n",
    "(5 points) Let's do some math and make some random strings. It's often useful to have some random DNA sequences around where you know their characteristics because you generated them that way. This is a problem you can actually solve with just the things we've learned so far (although there are other, better ways to solve it with python modules). We'll also the new built-ins we just learned for numbers -- round() and abs(). \n",
    "\n",
    "- To solve this, I used:\n",
    "- importing a module\n",
    "- input statements (assigned their values to variables)\n",
    "- math -- multiplication, division, abs(), switching from fractions to percentages, round()\n",
    "- string concatenation and string multiplication\n",
    "- converting a string to a list\n",
    "- shuffling a list in place with random.shuffle()\n",
    "- joining a sequence with .join()\n",
    "- and of course, the major elements of a function: def line with arguments, return line with one value, and a function call\n",
    "\n",
    "In the first cell below, write this as a function that takes two parameters (desired_length,desired_gc) and returns the randomized sequence. In the second cell, collect the user input and call the function on it. In the third cell, use your GC function to check your results."
   ]
  },
  {
   "cell_type": "code",
   "execution_count": 13,
   "metadata": {},
   "outputs": [],
   "source": [
    "import random\n",
    "def GC_rand(desired_length,desired_gc_percent):\n",
    "    emp_list = []\n",
    "    \n",
    "    all_length1 = int(desired_length*desired_gc_percent /100)\n",
    "    for count in range(all_length1):\n",
    "        first = \"GC\"\n",
    "        list1 = list(first)\n",
    "        random.shuffle(list1)\n",
    "        emp_list.append(\"\".join(first)[0])\n",
    "        \n",
    "    all_length2 = desired_length - all_length1\n",
    "    for count2 in range(all_length2):\n",
    "        second = \"AT\"\n",
    "        list2 = list(second)\n",
    "        random.shuffle(list2)\n",
    "        emp_list.append(\"\".join(second)[0])\n",
    "    \n",
    "    random.shuffle(emp_list)\n",
    "    full_list = \"\".join(emp_list)\n",
    "    return full_list\n",
    "    \n",
    "    \n"
   ]
  },
  {
   "cell_type": "code",
   "execution_count": null,
   "metadata": {},
   "outputs": [],
   "source": [
    "leg = input()\n",
    "gc = input()\n",
    "print(GC_rand(leg,gc))"
   ]
  },
  {
   "cell_type": "code",
   "execution_count": 14,
   "metadata": {},
   "outputs": [
    {
     "name": "stdout",
     "output_type": "stream",
     "text": [
      "AAAAAGAGGAGGAGGGAGGGGAGAAAGAGAGAAAAGAGGGGGAGGAAGAAAAAAAGAGGAAAAGGGAAGGGAAAGAGAAAGGAAGAGGAGAGAAGGAGGGAGAAAGAGAAAGAGAGGAGAAGAGAGAAGGGAAAAGGGGGAAGGGGAAAGAGGGAGGGGGGGAAAAAAAAAGGGAGGGAGGGAAGGGGAAGAGGGGAGGAGGAAGGGAGGAGAAAGAAGAGAGGGGGGGAGGGAGAGGGGAGGGAGAGGGAGGAAAAGGGAGAAGAAGGAGAAAAGGGGGGGAAGGGAAGGGAAGAAGGAGGGGGAGAGGAAGGAGGAGGAAGGAAGGGAAAAGAGGGAGGAGGGGAAAAAAAGAAGGAAGGAGAGGA\n"
     ]
    }
   ],
   "source": [
    "print(GC_rand(368,54))"
   ]
  },
  {
   "cell_type": "code",
   "execution_count": null,
   "metadata": {},
   "outputs": [],
   "source": []
  }
 ],
 "metadata": {
  "kernelspec": {
   "display_name": "Python 3",
   "language": "python",
   "name": "python3"
  },
  "language_info": {
   "codemirror_mode": {
    "name": "ipython",
    "version": 3
   },
   "file_extension": ".py",
   "mimetype": "text/x-python",
   "name": "python",
   "nbconvert_exporter": "python",
   "pygments_lexer": "ipython3",
   "version": "3.7.4"
  }
 },
 "nbformat": 4,
 "nbformat_minor": 2
}
