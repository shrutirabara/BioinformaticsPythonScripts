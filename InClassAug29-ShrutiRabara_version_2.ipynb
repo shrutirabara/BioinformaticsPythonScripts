{
 "cells": [
  {
   "cell_type": "code",
   "execution_count": 56,
   "metadata": {},
   "outputs": [],
   "source": [
    "#In Class Aug. 29 Submission\n",
    "#Date\n",
    "#Shruti Rabara"
   ]
  },
  {
   "cell_type": "markdown",
   "metadata": {},
   "source": [
    "# Let's Do Math #\n",
    "\n",
    "Last time we looked at a whole bunch of basic things that we could do with strings. This time, we're going to look at numbers. There are basically two kinds of numbers: int (integer) and float (decimal or floating point). There are also imaginary numbers, but we don't need to work with those yet in this class.\n",
    "\n",
    "Integers are your normal counting numbers, zero, and the negative numbers, that you use to describe whole, discrete things.\n",
    "\n",
    "Floats are fractions -- anything from expressing a fraction of integers, to precise measurements like radii of atoms, are generally expressed in floating point numbers.\n",
    "\n",
    "Integers and floats can both be used as LITERALS in a program. That means you basically just use python as a big fancy calculator, without assigning values to a variable at all.\n",
    "\n",
    "In the box below, try out the two literal statements. They should return their output so you can see it.\n",
    "- 2 + 5\n",
    "- 2.033 + 5.001"
   ]
  },
  {
   "cell_type": "code",
   "execution_count": 3,
   "metadata": {},
   "outputs": [
    {
     "data": {
      "text/plain": [
       "7.034000000000001"
      ]
     },
     "execution_count": 3,
     "metadata": {},
     "output_type": "execute_result"
    }
   ],
   "source": [
    "2.033 + 5.001\n"
   ]
  },
  {
   "cell_type": "markdown",
   "metadata": {},
   "source": [
    "### Strings are also usable as literals. Every time we've done something with a string in quotes and not assigned it to a variable, we've been using a literal."
   ]
  },
  {
   "cell_type": "markdown",
   "metadata": {},
   "source": [
    "# Math Operators #\n",
    "\n",
    "Python has seven main math operators and they all work the same way -- they can be used as literals in simple expressions. \n",
    "\n",
    "They can also be combined into more complicated statements. Read these statements and decide what you think their values will be. Then print them out in the cell below to see if you're right. You can either put them in print statements or use them as literals -- it will work either way.\n",
    "\n",
    "- 3 * 5 + 6 / 2\n",
    "- 7 * 2 - 9 / 3\n",
    "- 14 / 2 + 6 * 4\n",
    "- 5 * 3 - 3 * 2"
   ]
  },
  {
   "cell_type": "code",
   "execution_count": 7,
   "metadata": {},
   "outputs": [
    {
     "data": {
      "text/plain": [
       "9"
      ]
     },
     "execution_count": 7,
     "metadata": {},
     "output_type": "execute_result"
    }
   ],
   "source": [
    "5 * 3 - 3 * 2\n"
   ]
  },
  {
   "cell_type": "markdown",
   "metadata": {},
   "source": [
    "Math statements in Python follow the normal mathematical order of operations. \n",
    "\n",
    "# Math Result Types #\n",
    "\n",
    "Results of math statements will have different types depending on the starting numbers and which operations are used. In Python 3.0, division statements will automatically give floating point results -- you don't need to float() the operands first for this to work.\n",
    "\n",
    "First, try checking the type of these simple statements:\n",
    "\n",
    "- 3 + 5\n",
    "- 6 / 3\n",
    "- 2 - 1\n",
    "- 4 * 3"
   ]
  },
  {
   "cell_type": "code",
   "execution_count": 11,
   "metadata": {},
   "outputs": [
    {
     "data": {
      "text/plain": [
       "int"
      ]
     },
     "execution_count": 11,
     "metadata": {},
     "output_type": "execute_result"
    }
   ],
   "source": [
    "type(4*3)"
   ]
  },
  {
   "cell_type": "markdown",
   "metadata": {},
   "source": [
    "Now check the type of the longer math statements you tested two input cells ago. Do you expect all of them to be floating point numbers? Are they?"
   ]
  },
  {
   "cell_type": "code",
   "execution_count": 13,
   "metadata": {},
   "outputs": [
    {
     "data": {
      "text/plain": [
       "int"
      ]
     },
     "execution_count": 13,
     "metadata": {},
     "output_type": "execute_result"
    }
   ],
   "source": [
    "type(5 * 3 - 3 * 2)"
   ]
  },
  {
   "cell_type": "markdown",
   "metadata": {},
   "source": [
    "# Math Assignment Operators #\n",
    "\n",
    "Last time we learned about the assignment operator, =, and its friends += and *=, which can be used to update the values of variables with the result of an addition or multiplication.\n",
    "\n",
    "+= and *= also work for numbers. They also have friends -- -= and /=, and several others as well.\n",
    "\n",
    "You can't use assignment operators in literal statements. They can only be applied to update the contents of a variable. For an example, try typing this and see what happens:\n",
    "\n",
    "3 += 2"
   ]
  },
  {
   "cell_type": "code",
   "execution_count": 16,
   "metadata": {},
   "outputs": [
    {
     "ename": "SyntaxError",
     "evalue": "can't assign to literal (<ipython-input-16-64ba2fbff90a>, line 1)",
     "output_type": "error",
     "traceback": [
      "\u001b[0;36m  File \u001b[0;32m\"<ipython-input-16-64ba2fbff90a>\"\u001b[0;36m, line \u001b[0;32m1\u001b[0m\n\u001b[0;31m    3 += 2\u001b[0m\n\u001b[0m          ^\u001b[0m\n\u001b[0;31mSyntaxError\u001b[0m\u001b[0;31m:\u001b[0m can't assign to literal\n"
     ]
    }
   ],
   "source": [
    "3 += 2"
   ]
  },
  {
   "cell_type": "markdown",
   "metadata": {},
   "source": [
    "Assign the value 3 to the variable fave_num. Then change its value by applying the following: += 2, -= 2, *= 2, /= 2. Print out the results at each step. Try them in different orders and see that they produce the same result, except for one thing. What's different at the end?"
   ]
  },
  {
   "cell_type": "code",
   "execution_count": 27,
   "metadata": {},
   "outputs": [
    {
     "name": "stdout",
     "output_type": "stream",
     "text": [
      "1.5\n"
     ]
    }
   ],
   "source": [
    "fave_num = 3\n",
    "fave_num /= 2\n",
    "print(fave_num)"
   ]
  },
  {
   "cell_type": "markdown",
   "metadata": {},
   "source": [
    "# Changing Number Variable Types #\n",
    "\n",
    "If you want to change your favorite number back to its original form, you need to change it from an integer (int) to a floating point number (float). We saw yesterday that the function str() could change a number to a string. By analogy, there are functions int() and float() that will change between the new number types.\n",
    "\n",
    "In the cell below, change fave_num back to its original type."
   ]
  },
  {
   "cell_type": "code",
   "execution_count": 31,
   "metadata": {},
   "outputs": [
    {
     "data": {
      "text/plain": [
       "float"
      ]
     },
     "execution_count": 31,
     "metadata": {},
     "output_type": "execute_result"
    }
   ],
   "source": [
    "float(fave_num)\n",
    "type(fave_num)"
   ]
  },
  {
   "cell_type": "markdown",
   "metadata": {},
   "source": [
    "# int() changes the value #\n",
    "\n",
    "Turning an integer to a floating point number with float() just adds a decimal point and a trailing zero.\n",
    "\n",
    "Turning a floating point to an integer with int() slices off the decimal point and trailing digits. This can actually modify the value of the number, and it doesn't happen according to any standard rule of rounding. Try the following statements:\n",
    "\n",
    "- int(3.0)\n",
    "- int(3.1)\n",
    "- int(3.779)\n",
    "\n",
    "Try assigning the last number to a variable, changing it to an integer and storing that result another variable, and then changing it back to a float. Does Python remember the \"history\" of the number?"
   ]
  },
  {
   "cell_type": "code",
   "execution_count": 35,
   "metadata": {},
   "outputs": [
    {
     "data": {
      "text/plain": [
       "3.0"
      ]
     },
     "execution_count": 35,
     "metadata": {},
     "output_type": "execute_result"
    }
   ],
   "source": [
    "int(3.0)\n",
    "int(3.1)\n",
    "int(3.779)\n",
    "var_Vari = 3.779\n",
    "var_Vari_var = int(var_Vari)\n",
    "float(var_Vari_var)"
   ]
  },
  {
   "cell_type": "markdown",
   "metadata": {},
   "source": [
    "# Let's not do \"math\" (unless we mean to) #\n",
    "\n",
    "What happens when you add the numbers \"15\" and \"9\" (using the quotes around each number in the statement?)\n",
    "What about \"15\" + 9?\n",
    "Try them below and see."
   ]
  },
  {
   "cell_type": "code",
   "execution_count": 36,
   "metadata": {},
   "outputs": [
    {
     "ename": "TypeError",
     "evalue": "can only concatenate str (not \"int\") to str",
     "output_type": "error",
     "traceback": [
      "\u001b[0;31m---------------------------------------------------------------------------\u001b[0m",
      "\u001b[0;31mTypeError\u001b[0m                                 Traceback (most recent call last)",
      "\u001b[0;32m<ipython-input-36-74082c9c3187>\u001b[0m in \u001b[0;36m<module>\u001b[0;34m\u001b[0m\n\u001b[0;32m----> 1\u001b[0;31m \u001b[0mprint\u001b[0m\u001b[0;34m(\u001b[0m\u001b[0;34m\"15\"\u001b[0m \u001b[0;34m+\u001b[0m \u001b[0;36m9\u001b[0m\u001b[0;34m)\u001b[0m\u001b[0;34m\u001b[0m\u001b[0;34m\u001b[0m\u001b[0m\n\u001b[0m",
      "\u001b[0;31mTypeError\u001b[0m: can only concatenate str (not \"int\") to str"
     ]
    }
   ],
   "source": [
    "print(\"15\" + 9)"
   ]
  },
  {
   "cell_type": "markdown",
   "metadata": {},
   "source": [
    "# Exponentiation #\n",
    "\n",
    "In addition to +,-,* and /, Python's core math operators include exponentiation with **.\n",
    "\n"
   ]
  },
  {
   "cell_type": "markdown",
   "metadata": {},
   "source": [
    "# Modulo #\n",
    "\n",
    "Modulo gives you the value that is left over when you calculate x / y -- the remainder. If you want this value, you use the % operator in a statement like x % y.\n",
    "\n",
    "Find % for these number pairs, in the cell below:\n",
    "\n",
    "- 19, 4\n",
    "- 28, 5\n",
    "- 131, 11"
   ]
  },
  {
   "cell_type": "code",
   "execution_count": 39,
   "metadata": {},
   "outputs": [
    {
     "data": {
      "text/plain": [
       "10"
      ]
     },
     "execution_count": 39,
     "metadata": {},
     "output_type": "execute_result"
    }
   ],
   "source": [
    "131 % 11"
   ]
  },
  {
   "cell_type": "markdown",
   "metadata": {},
   "source": [
    "# Floor Division #\n",
    "\n",
    "Floor division gives you the next lowest integer value to the result of a division operation. This is not a rounding operation, so you'll never see your result rounded up to the next highest value. Nevertheless, it is sometimes useful. Imagine I have a DNA sequence of an unknown length and I want to break it into codons. I could use the floor division function along with the length of the sequence (you'll see how to calculate that in a bit) to calculate whether it ends with an incomplete codon.\n",
    "\n",
    "Find // for these number pairs, in the cell below.\n",
    "\n",
    "- 9 // 2\n",
    "- 180 // 19"
   ]
  },
  {
   "cell_type": "code",
   "execution_count": 42,
   "metadata": {},
   "outputs": [
    {
     "data": {
      "text/plain": [
       "9"
      ]
     },
     "execution_count": 42,
     "metadata": {},
     "output_type": "execute_result"
    }
   ],
   "source": [
    "180 // 19"
   ]
  },
  {
   "cell_type": "markdown",
   "metadata": {},
   "source": [
    "# Getting other math functions from modules #\n",
    "\n",
    "Python has lots of built-ins in the form of modules. They aren't loaded by default in Python, but you can get them as you need them, using the import command. You need to import the module before you can invoke any of its options.\n",
    "\n",
    "In the cell below, get the math module using import, as shown in class. Remember that import does not work like a function and does not need parentheses around the module name.  Use sqrt to get the square root of the following numbers:\n",
    "\n",
    "- 81\n",
    "- 121\n",
    "- 1024\n",
    "- 5764801"
   ]
  },
  {
   "cell_type": "code",
   "execution_count": 7,
   "metadata": {},
   "outputs": [
    {
     "data": {
      "text/plain": [
       "2401.0"
      ]
     },
     "execution_count": 7,
     "metadata": {},
     "output_type": "execute_result"
    }
   ],
   "source": [
    "import math\n",
    "dir(math)\n",
    "math.sqrt(5764801)"
   ]
  },
  {
   "cell_type": "markdown",
   "metadata": {},
   "source": [
    "# Math Example: Fibonacci #\n",
    "\n",
    "Let's do a couple of examples where we do some math operations and assignments on real numbers.\n",
    "\n",
    "The first one is the Fibonacci sequence. As shown in the lecture, we start with the values of two numbers, a and b, both set to 1. Then we update them, following the simple rule that the old value of b becomes the new value of a, and the old value of a + b becomes the new value of b.\n",
    "\n",
    "Or in math terms, a = b, b = a + b\n",
    "\n",
    "Python lets us update both of these numbers at once in a statement like a, b = new_a, new_b. This is useful if two numbers have to update at once, as we walked through in class.\n",
    "\n",
    "Write statements that will perform each consecutive step in the Fibonacci sequence until b = 21.  The correct numbers are shown in the figure in the slides. You can print out at each step to make sure your statement is updating correctly. Once you see the pattern it should be easy to write the rest of the \"script\"."
   ]
  },
  {
   "cell_type": "code",
   "execution_count": 1,
   "metadata": {},
   "outputs": [
    {
     "name": "stdout",
     "output_type": "stream",
     "text": [
      "2\n",
      "3\n",
      "5\n",
      "8\n",
      "13\n",
      "21\n",
      "21\n"
     ]
    }
   ],
   "source": [
    "a = 1\n",
    "b = 1\n",
    "a=b\n",
    "b=a+b\n",
    "print(b)\n",
    "a=b+a\n",
    "print(a)\n",
    "b=a+b\n",
    "print(b)\n",
    "a=b+a\n",
    "print(a)\n",
    "b=a+b\n",
    "print(b)\n",
    "a=b+a\n",
    "print(a)\n",
    "b=a\n",
    "print(b)"
   ]
  },
  {
   "cell_type": "markdown",
   "metadata": {},
   "source": [
    "# Using a module to get random numbers #\n",
    "\n",
    "In this one, let's practice loading a module and using a function from the module. We saw the random module, from which you can find a function that lets you generate a random integer, randint(). The arguments the function takes are the beginning and end of a range, (x,y).\n",
    "\n",
    "First you load the module by typing import random.\n",
    "\n",
    "Then, you would call that function as random.randint(x,y) for whatever range you choose.\n",
    "\n",
    "Say you're going to buy a Powerball ticket this weekend. You need six random numbers chosen from the range 1-40 and one random number (the Powerball) chosen from a range 1-15. Write code to generate these seven numbers and assign them each to a variable (powerball, firstnumber, secondnumber, etc). Then print them all out as a recommendation for the ticket you should buy."
   ]
  },
  {
   "cell_type": "code",
   "execution_count": 2,
   "metadata": {},
   "outputs": [
    {
     "name": "stdout",
     "output_type": "stream",
     "text": [
      "8 18 24 27 13 3\n"
     ]
    }
   ],
   "source": [
    "import random\n",
    "powerball = random.randint(1,15)\n",
    "firstnumber = random.randint(1,40)\n",
    "secondnumber = random.randint(1,40)\n",
    "thirdnumber = random.randint(1,40)\n",
    "fourthnumber = random.randint(1,40)\n",
    "fifthnumber = random.randint(1,40)\n",
    "print(firstnumber, secondnumber, thirdnumber, fourthnumber, fifthnumber, powerball)"
   ]
  },
  {
   "cell_type": "markdown",
   "metadata": {},
   "source": [
    "# Getting numbers that describe a sequence #\n",
    "\n",
    "We aren't usually going to start our data analysis with numbers that generate themselves according to a mathematical rule -- we get them from somewhere, usually by counting or measuring something.\n",
    "\n",
    "Say we have the sequence \n",
    "ATATAATTGCCCGGCCATTA\n",
    "\n",
    "What percent of this sequence is Gs and Cs?\n",
    "\n",
    "We need a way to count the Gs and Cs, and also to determine the length of the sequence, so we can calculate a percentage.  First, do this manually by counting them yourself, so you know the right answer."
   ]
  },
  {
   "cell_type": "code",
   "execution_count": 3,
   "metadata": {},
   "outputs": [
    {
     "data": {
      "text/plain": [
       "40.0"
      ]
     },
     "execution_count": 3,
     "metadata": {},
     "output_type": "execute_result"
    }
   ],
   "source": [
    "(9*100)/20\n",
    "my_sequence = \"ATATAATTGCCCGGCCATTA\"\n",
    "100*(my_sequence.count(\"G\")+my_sequence.count(\"C\"))/len(my_sequence)"
   ]
  },
  {
   "cell_type": "markdown",
   "metadata": {},
   "source": [
    "# Next, let's use len() #\n",
    "\n",
    "We just learned that there's a built-in function that can calculate the length of a string, len()\n",
    "\n",
    "Assign the sequence string to a variable name and then calculate its length, using len(). Store the result in another variable."
   ]
  },
  {
   "cell_type": "code",
   "execution_count": 4,
   "metadata": {},
   "outputs": [
    {
     "data": {
      "text/plain": [
       "20"
      ]
     },
     "execution_count": 4,
     "metadata": {},
     "output_type": "execute_result"
    }
   ],
   "source": [
    "var_name = \"ATATAATTGCCCGGCCATTA\"\n",
    "len(var_name)"
   ]
  },
  {
   "cell_type": "markdown",
   "metadata": {},
   "source": [
    "# Next, let's use .count() #\n",
    "\n",
    ".count() is a special kind of built-in called a method. You never call a method by itself -- you \"bind\" it to an variable or even a literal, and the argument is something other than the variable, like the pattern you are counting. We'll see lots of other examples of methods next week, but for now just focus on using count correctly.\n",
    "\n",
    "An example of using count on a literal looks like this:\n",
    "\n",
    "\"CCATTCATCCAGGCTT\".count(\"G\") # note: the result is 2\n",
    "\n",
    "An example of using count on a variable looks like this:\n",
    "\n",
    "my_dna = \"CCATTCATCCAGGCTT\"\n",
    "my_dna.count(\"G) # note: the result should also be 2\n",
    "\n",
    "Now calculate how many Cs, Ts, and As are in this string using similar statements. Try one as a literal and then assign the string to a variable and do the other two."
   ]
  },
  {
   "cell_type": "code",
   "execution_count": 7,
   "metadata": {},
   "outputs": [
    {
     "name": "stdout",
     "output_type": "stream",
     "text": [
      "6\n",
      "5\n",
      "3\n"
     ]
    }
   ],
   "source": [
    "print(\"CCATTCATCCAGGCTT\".count(\"C\"))\n",
    "my_stuff = \"CCATTCATCCAGGCTT\"\n",
    "print(my_stuff.count(\"T\"))\n",
    "print(my_stuff.count(\"A\"))"
   ]
  },
  {
   "cell_type": "markdown",
   "metadata": {},
   "source": [
    "# Putting it all together #\n",
    "\n",
    "Now, believe it or not, we have all the tools we need to calculate the GC content of any sequence. We could even do this for a complete genome if we knew how to open a file. We'll get to that. For now, just do this with short made-up sequences.\n",
    "\n",
    "- Get sequence input from user # take a look at the Tuesday notebook if you forgot how\n",
    "- Get length of sequence\n",
    "- Count Gs and Cs\n",
    "- Add Gs and Cs together\n",
    "- Divide GC count by length to get fraction GC \n",
    "- multiply by 100 to express it as a percent rather than a fraction\n",
    "- Print results\n",
    "\n",
    "Start by testing the script with a sequence that you know the answer for, the one you calculated the answer for manually above. Then try other sequences of ATGC (you can make them up randomly) and see if it gets them right."
   ]
  },
  {
   "cell_type": "code",
   "execution_count": 11,
   "metadata": {},
   "outputs": [
    {
     "name": "stdout",
     "output_type": "stream",
     "text": [
      "put in a sequence please: CCATTCATCCAGGCTT\n",
      "2\n",
      "6\n",
      "8\n",
      "50.0\n"
     ]
    }
   ],
   "source": [
    "the_sequence = input(\"put in a sequence please: \")\n",
    "leng_th = len(the_sequence)\n",
    "print(the_sequence.count(\"G\"))\n",
    "print(the_sequence.count(\"C\"))\n",
    "the_g = the_sequence.count(\"G\")\n",
    "the_c = the_sequence.count(\"C\")\n",
    "print(the_g + the_c)\n",
    "the_sum = the_g + the_c\n",
    "frac_GC = the_sum / leng_th\n",
    "per_cent = frac_GC * 100\n",
    "print(per_cent)"
   ]
  },
  {
   "cell_type": "code",
   "execution_count": null,
   "metadata": {},
   "outputs": [],
   "source": []
  }
 ],
 "metadata": {
  "kernelspec": {
   "display_name": "Python 3",
   "language": "python",
   "name": "python3"
  },
  "language_info": {
   "codemirror_mode": {
    "name": "ipython",
    "version": 3
   },
   "file_extension": ".py",
   "mimetype": "text/x-python",
   "name": "python",
   "nbconvert_exporter": "python",
   "pygments_lexer": "ipython3",
   "version": "3.7.4"
  }
 },
 "nbformat": 4,
 "nbformat_minor": 2
}
