{
 "cells": [
  {
   "cell_type": "markdown",
   "metadata": {},
   "source": [
    "# More fun with strings #"
   ]
  },
  {
   "cell_type": "markdown",
   "metadata": {},
   "source": [
    "# Cleaning up whitespace with .strip() methods #\n",
    "\n",
    "Another useful set of string methods removes extra white space characters (spaces, tabs, etc) from around a string. This can be useful in many situations, for instance if you're parsing a file based on positions in a line, which can often leave white space around some values.\n",
    "\n",
    "- string.strip() removes white space from both ends of string.\n",
    "- string.rstrip() removes white space from the end of string.\n",
    "- string.lstrip() removes white space from the start of string.\n",
    "\n",
    "In the box below, try answering the input request with strings that have whitespaces at the beginning and/or end. Use len() to see how many characters are counted in the string, and try out the .strip commands to remove those spaces. Then re-count the length of the string with len().\n",
    "\n",
    "Getting the correct length and position in the string sometimes depends on those empty spaces!"
   ]
  },
  {
   "cell_type": "code",
   "execution_count": 3,
   "metadata": {},
   "outputs": [
    {
     "name": "stdout",
     "output_type": "stream",
     "text": [
      "Give me a string:    I am hungry.   \n",
      "19\n",
      "12\n"
     ]
    }
   ],
   "source": [
    "teststring = input(\"Give me a string:\")\n",
    "print(len(teststring))\n",
    "teststring2 = teststring.strip()\n",
    "print(len(teststring2))"
   ]
  },
  {
   "cell_type": "markdown",
   "metadata": {},
   "source": [
    "White spaces will change the outcome of your slices, too, so you have to pay attention to them. In the example below, what is at the index 0 and the index -1? Which index matches up with the first A? Use slice statements to find out, and then use strip commands to fix the string."
   ]
  },
  {
   "cell_type": "code",
   "execution_count": 1,
   "metadata": {},
   "outputs": [
    {
     "name": "stdout",
     "output_type": "stream",
     "text": [
      "29\n",
      "  ABCDEFGHIJKLMNOPQRSTUVWXYZ \n",
      "26\n",
      "ABCDEFGHIJKLMNOPQRSTUVWXYZ\n"
     ]
    }
   ],
   "source": [
    "teststring2 = \"  ABCDEFGHIJKLMNOPQRSTUVWXYZ \"\n",
    "teststring = teststring2.strip()\n",
    "\n",
    "\n",
    "\n",
    "print(len(teststring2))\n",
    "print(teststring2)\n",
    "\n",
    "print(len(teststring))\n",
    "print(teststring)\n"
   ]
  },
  {
   "cell_type": "markdown",
   "metadata": {},
   "source": [
    "# Converting strings into lists with list() #\n",
    "\n",
    "For Tuesday's exercise, I wanted to randomly shuffle a string of characters, but the random.shuffle function that I wanted to use only works on lists. So I wanted to convert my string of letters into a list. I used the list() function to do that.\n",
    "\n",
    "```alphabet = \"ABCDEFGHIJKLMNOPQRSTUVWXYZ\"\n",
    "codekey = list(alphabet)```\n",
    "\n",
    "The argument that the list() function takes should be a string or another iterable (we'll get into that below). For today, assume that we're going to be passing a string value to list.\n",
    "\n",
    "- In the cell below, convert the text string \"bananas\" to a list.\n",
    "- Store the result of the list function in a new variable name.\n",
    "- Check the type of that variable name. You should see it's a list object and not a string anymore.\n",
    "- Then print the list to see what that object type looks like when it's printed."
   ]
  },
  {
   "cell_type": "code",
   "execution_count": 6,
   "metadata": {},
   "outputs": [
    {
     "name": "stdout",
     "output_type": "stream",
     "text": [
      "['b', 'a', 'n', 'a', 'n', 'a', 's']\n"
     ]
    }
   ],
   "source": [
    "bananas = \"bananas\"\n",
    "new_var = list(bananas)\n",
    "type(new_var)\n",
    "print(new_var)"
   ]
  },
  {
   "cell_type": "markdown",
   "metadata": {},
   "source": [
    "# Splitting strings with .split() #\n",
    "\n",
    "It's not too often that we get to work with data that makes sense to break up into individual characters. More often, you're going to have a string like this:\n",
    "\n",
    "```NC_007898.3\tRefSeq\tgene\t155371\t155461\t.\t+\t.\tID=gene141;Dbxref=GeneID:16976781;Name=rps19;Note=truncated copy of ribosomal protein S19;gbkey=Gene;gene=rps19;locus_tag=LyesC2p001;pseudo=true```\n",
    "\n",
    "and you are going to want to break out every piece of that line into an individual data item.\n",
    "\n",
    "Python has a method for this; it's called .split(). If you don't put an argument into the parentheses, python will split lines on whitespace. So the line above would be split into a list like\n",
    "\n",
    "['NC_007898.3','RefSeq','gene','155371','155461','.','+',...etc.\n",
    "\n",
    "If we had string data that started out separated by commas, like so:\n",
    "\n",
    "```fruits = apples,bananas,pears,oranges,blueberries```\n",
    "\n",
    "We would need to split on the comma, so we would type:\n",
    "\n",
    "```fruits.split(\",\")```\n",
    "\n",
    "In the cell below, type the correct split argument to get the string to split properly."
   ]
  },
  {
   "cell_type": "code",
   "execution_count": 6,
   "metadata": {},
   "outputs": [
    {
     "name": "stdout",
     "output_type": "stream",
     "text": [
      "['ALA', 'ARG', 'ASN', 'ASP', 'CYS', 'GLN', 'GLU', 'GLY', 'HIS', 'ILE', 'LEU', 'LYS', 'MET', 'PHE', 'PRO', 'SER', 'THR', 'TRP', 'TYR', 'VAL']\n",
      "['Maryam', 'Aiden', 'Brett', 'Amit', 'Maya', 'Shruti']\n",
      "['Slytherin', 'Gryffindor', 'Hufflepuff', 'Ravenclaw']\n"
     ]
    }
   ],
   "source": [
    "aminos = \"ALA,ARG,ASN,ASP,CYS,GLN,GLU,GLY,HIS,ILE,LEU,LYS,MET,PHE,PRO,SER,THR,TRP,TYR,VAL\"\n",
    "print(aminos.split(\",\"))\n",
    "names = \"Maryam&Aiden&Brett&Amit&Maya&Shruti\"\n",
    "print(names.split(\"&\"))\n",
    "houses = \"Slytherin Gryffindor Hufflepuff Ravenclaw\"\n",
    "print(houses.split())"
   ]
  },
  {
   "cell_type": "markdown",
   "metadata": {},
   "source": [
    "# Joining things into strings with .join() #\n",
    "\n",
    "Lists can be joined back into strings with .join().\n",
    "\n",
    "Let's see how this works. Run the cell below for an illustration."
   ]
  },
  {
   "cell_type": "code",
   "execution_count": 32,
   "metadata": {},
   "outputs": [
    {
     "name": "stdout",
     "output_type": "stream",
     "text": [
      "['Maryam', 'Aiden', 'Brett', 'Amit', 'Maya', 'Shruti']\n",
      "Maryam Aiden Brett Amit Maya Shruti\n"
     ]
    }
   ],
   "source": [
    "names = \"Maryam&Aiden&Brett&Amit&Maya&Shruti\"\n",
    "namelist = names.split(\"&\")\n",
    "print(namelist)\n",
    "namestring = \" \".join(namelist)\n",
    "print(namestring)"
   ]
  },
  {
   "cell_type": "markdown",
   "metadata": {},
   "source": [
    "# Join has a strange syntax #\n",
    "\n",
    "Last time, we bound .maketrans onto a sort of temporary object, str, to make our translation table, rather than binding it onto one of the strings we were using.\n",
    "\n",
    "This time, when we use .join() on namelist, we don't bind it to namelist -- we bind it to whatever string characters we are using to join namelist together. I wanted to take the names in the list and separate them with a space, so I bound .join() onto the string literal \" \", a single space, and then passed it namelist as an argument.\n",
    "\n",
    "In the cell below, turn the alphabet string \"ABCDEFGHIJKLMNOPQRSTUVWXYZ\" into a list, and then join it back together with spaces between each letter.\n",
    "\n",
    "To join list items back together with no spaces, you can bind .join() to a pair of quotes with no space in between, \"\".join(). Try this as well. We'll use \"\".join() pretty frequently when we're parsing information that we want out of files, so definitely make sure you get your head around it!"
   ]
  },
  {
   "cell_type": "code",
   "execution_count": 8,
   "metadata": {},
   "outputs": [
    {
     "name": "stdout",
     "output_type": "stream",
     "text": [
      "['A', 'B', 'C', 'D', 'E', 'F', 'G', 'H', 'I', 'J', 'K', 'L', 'M', 'N', 'O', 'P', 'Q', 'R', 'S', 'T', 'U', 'V', 'W', 'X', 'Y', 'Z']\n"
     ]
    },
    {
     "data": {
      "text/plain": [
       "'A B C D E F G H I J K L M N O P Q R S T U V W X Y Z'"
      ]
     },
     "execution_count": 8,
     "metadata": {},
     "output_type": "execute_result"
    }
   ],
   "source": [
    "alphabet =  \"ABCDEFGHIJKLMNOPQRSTUVWXYZ\"\n",
    "alpa_lis = list(alphabet)\n",
    "print(alpa_lis)\n",
    "\" \".join(alpa_lis)"
   ]
  },
  {
   "cell_type": "markdown",
   "metadata": {},
   "source": [
    "# Iterating over strings with the for keyword #\n",
    "\n",
    "There are lots of ways to get a loop going and to define how long it will go on. There are also lots of kinds of data  we can loop over. We are only going to see the very first one of these today, but we're looking because it is one of the built-in ways that python handles strings. Under the hood in a lot of python data object types, there are basic methods called ```__iter__``` and ```__next__```. You don't usually call them directly, but you'll be able to see them in the dir() for the object type if they're available to use. Together they're the iterator protocol. What this means is that an object that can use the iterator protocol can give you its items one by one.\n",
    "\n",
    "strings are one such type of object.\n",
    "\n",
    "The keyword for asks the object to give up its items one-by-one, according to the iterator protocol. for gets an item, uses it in the code contained inside the for block, and automatically goes to the next item when it's done.\n",
    "\n",
    "To get a string to give up its characters one by one, you can write something like:\n",
    "\n",
    "```for char in string:```\n",
    "\n",
    "That begins the for block."
   ]
  },
  {
   "cell_type": "markdown",
   "metadata": {},
   "source": [
    "# Indentation #\n",
    "\n",
    "We're going to see lots of code organized into \"blocks\" from now on. for and while blocks, which make loops. if/else blocks, which decide between conditions. def blocks, which define functions.\n",
    "\n",
    "The rule is, if you start a block like this, then everything you are doing inside the block has to be indented one level. That's how the python interpreter knows where what you want to do FOR everything in OBJECT, ends.\n",
    "\n",
    "```for char in string:\n",
    "    print(char)```\n",
    "    \n",
    "The print line is what we want to do for each character. It is indented by exactly one TAB.  You can use spaces or tabs, but the rule is each indent level has to work the same. You can't mix it up by using a tab for the first indent and then using four spaces for the next indent.\n",
    "\n",
    "In the cell below, make a for block that adds 1 to the value of counting_var for each character in the string. Remember you can use += to update the value of a variable. I started you off with counting_var set to zero. The loop should come AFTER the variable is initialized.\n",
    "\n",
    "Once the loop is done, you can stop indenting. Make a print statement that prints the value of the counting_var after the loop finishes."
   ]
  },
  {
   "cell_type": "code",
   "execution_count": 1,
   "metadata": {},
   "outputs": [
    {
     "name": "stdout",
     "output_type": "stream",
     "text": [
      "18\n"
     ]
    }
   ],
   "source": [
    "words = \"newstringofletters\"\n",
    "counting_var = 0\n",
    "for char in words:\n",
    "    counting_var += 1\n",
    "    \n",
    "print(counting_var)    \n"
   ]
  },
  {
   "cell_type": "markdown",
   "metadata": {},
   "source": [
    "What built-in python function did you just invent? Put the answer in the cell below."
   ]
  },
  {
   "cell_type": "code",
   "execution_count": 19,
   "metadata": {},
   "outputs": [
    {
     "name": "stdout",
     "output_type": "stream",
     "text": [
      "len\n"
     ]
    }
   ],
   "source": [
    "print(\"len\")"
   ]
  },
  {
   "cell_type": "markdown",
   "metadata": {},
   "source": [
    "# Fibonacci with a loop #\n",
    "\n",
    "Last week we met the Fibonacci series. To make a Fibonacci series, we start with the values of two numbers, a and b, both set to 1. Then we update them, following the simple rule that the old value of b becomes the new value of a, and the old value of a + b becomes the new value of b.\n",
    "\n",
    "Or in math terms, a = b, b = a + b\n",
    "\n",
    "Python lets us update both of these numbers at once in a statement like a, b = new_a, new_b. This is useful if two numbers have to update at once.\n",
    "\n",
    "The Fibonacci series is an infinite series. We could literally generate numbers forever if we put it in a loop. If we just want the loop to repeat itself ten times, we could write a new kind of for statement:\n",
    "\n",
    "```for i in range(0,10):```\n",
    "\n",
    "Put your Fibonacci statement from last week into the loop below, and add a print statement to make it print the first 10 pairs of a,b in the Fibonacci infinite series. You should also start by setting initial values of a and b OUTSIDE THE LOOP."
   ]
  },
  {
   "cell_type": "code",
   "execution_count": 18,
   "metadata": {},
   "outputs": [
    {
     "name": "stdout",
     "output_type": "stream",
     "text": [
      "2\n",
      "3\n",
      "5\n",
      "8\n",
      "13\n",
      "21\n",
      "21\n",
      "21 21\n",
      "42\n",
      "63\n",
      "105\n",
      "168\n",
      "273\n",
      "441\n",
      "441\n",
      "441 441\n",
      "882\n",
      "1323\n",
      "2205\n",
      "3528\n",
      "5733\n",
      "9261\n",
      "9261\n",
      "9261 9261\n",
      "18522\n",
      "27783\n",
      "46305\n",
      "74088\n",
      "120393\n",
      "194481\n",
      "194481\n",
      "194481 194481\n",
      "388962\n",
      "583443\n",
      "972405\n",
      "1555848\n",
      "2528253\n",
      "4084101\n",
      "4084101\n",
      "4084101 4084101\n",
      "8168202\n",
      "12252303\n",
      "20420505\n",
      "32672808\n",
      "53093313\n",
      "85766121\n",
      "85766121\n",
      "85766121 85766121\n",
      "171532242\n",
      "257298363\n",
      "428830605\n",
      "686128968\n",
      "1114959573\n",
      "1801088541\n",
      "1801088541\n",
      "1801088541 1801088541\n",
      "3602177082\n",
      "5403265623\n",
      "9005442705\n",
      "14408708328\n",
      "23414151033\n",
      "37822859361\n",
      "37822859361\n",
      "37822859361 37822859361\n",
      "75645718722\n",
      "113468578083\n",
      "189114296805\n",
      "302582874888\n",
      "491697171693\n",
      "794280046581\n",
      "794280046581\n",
      "794280046581 794280046581\n",
      "1588560093162\n",
      "2382840139743\n",
      "3971400232905\n",
      "6354240372648\n",
      "10325640605553\n",
      "16679880978201\n",
      "16679880978201\n",
      "16679880978201 16679880978201\n"
     ]
    }
   ],
   "source": [
    "a=1\n",
    "b=1\n",
    "for i in range(0,10):\n",
    "    a=b\n",
    "    b=a+b\n",
    "    print(b)\n",
    "    a=b+a\n",
    "    print(a)\n",
    "    b=a+b\n",
    "    print(b)\n",
    "    a=b+a\n",
    "    print(a)\n",
    "    b=a+b\n",
    "    print(b)\n",
    "    a=b+a\n",
    "    print(a)\n",
    "    b=a\n",
    "    print(b)\n",
    "    \n",
    "    print(a,b)"
   ]
  },
  {
   "cell_type": "markdown",
   "metadata": {},
   "source": [
    "# Translating one character at a time #\n",
    "\n",
    "The maketrains() and translate() functions that you used last time will work on any string, whether it's one character long or a whole phrase. Go back and look at your code from last time, and let's adapt it so that you build the translate table before the loop starts, and then do the translating character by character inside the loop.\n",
    "\n",
    "alphabet = \"ABCDEFGHIJKLMNOPQRSTUVWXYZ \"\n",
    "code = \"WJXSDGMAHUTFVIQBLZEROYPKNC \"\n",
    "phrase = \"THIS IS MY SECRET PYTHON DIARY\"\n",
    "\n",
    "Print out pairs of the original character and the encoded character."
   ]
  },
  {
   "cell_type": "code",
   "execution_count": 11,
   "metadata": {},
   "outputs": [
    {
     "name": "stdout",
     "output_type": "stream",
     "text": [
      "T R\n",
      "H A\n",
      "I H\n",
      "S E\n",
      "   \n",
      "I H\n",
      "S E\n",
      "   \n",
      "M V\n",
      "Y N\n",
      "   \n",
      "S E\n",
      "E D\n",
      "C X\n",
      "R Z\n",
      "E D\n",
      "T R\n",
      "   \n",
      "P B\n",
      "Y N\n",
      "T R\n",
      "H A\n",
      "O Q\n",
      "N I\n",
      "   \n",
      "D S\n",
      "I H\n",
      "A W\n",
      "R Z\n",
      "Y N\n"
     ]
    }
   ],
   "source": [
    "alphabet = \"ABCDEFGHIJKLMNOPQRSTUVWXYZ \"\n",
    "code = \"WJXSDGMAHUTFVIQBLZEROYPKNC \"\n",
    "phrase = \"THIS IS MY SECRET PYTHON DIARY\"\n",
    "transtable = str.maketrans(alphabet,code)\n",
    "for s in phrase:\n",
    "    print(s,s.translate(transtable))\n"
   ]
  },
  {
   "cell_type": "markdown",
   "metadata": {},
   "source": [
    "# Generating all the possible DNA codons #\n",
    "\n",
    "Loops can nest inside each other. Each nested loop is indented one level further than previous.\n",
    "\n",
    "```for i in string:\n",
    "    for j in string2:\n",
    "        for k in string3:\n",
    "            do something with i,j,k```\n",
    "\n",
    "If we have a string ATGC, let's think about how we'd generate all the possible three-letter codons. Build a set of loops over the string ATGC that will run through all the combinations of i,j,k and print them out. You can give for either a variable name or a string literal."
   ]
  },
  {
   "cell_type": "code",
   "execution_count": 19,
   "metadata": {},
   "outputs": [
    {
     "name": "stdout",
     "output_type": "stream",
     "text": [
      "A A A\n",
      "A A T\n",
      "A A G\n",
      "A A C\n",
      "A T A\n",
      "A T T\n",
      "A T G\n",
      "A T C\n",
      "A G A\n",
      "A G T\n",
      "A G G\n",
      "A G C\n",
      "A C A\n",
      "A C T\n",
      "A C G\n",
      "A C C\n",
      "T A A\n",
      "T A T\n",
      "T A G\n",
      "T A C\n",
      "T T A\n",
      "T T T\n",
      "T T G\n",
      "T T C\n",
      "T G A\n",
      "T G T\n",
      "T G G\n",
      "T G C\n",
      "T C A\n",
      "T C T\n",
      "T C G\n",
      "T C C\n",
      "G A A\n",
      "G A T\n",
      "G A G\n",
      "G A C\n",
      "G T A\n",
      "G T T\n",
      "G T G\n",
      "G T C\n",
      "G G A\n",
      "G G T\n",
      "G G G\n",
      "G G C\n",
      "G C A\n",
      "G C T\n",
      "G C G\n",
      "G C C\n",
      "C A A\n",
      "C A T\n",
      "C A G\n",
      "C A C\n",
      "C T A\n",
      "C T T\n",
      "C T G\n",
      "C T C\n",
      "C G A\n",
      "C G T\n",
      "C G G\n",
      "C G C\n",
      "C C A\n",
      "C C T\n",
      "C C G\n",
      "C C C\n"
     ]
    }
   ],
   "source": [
    "for i in \"ATGC\":\n",
    "    for j in \"ATGC\":\n",
    "        for k in \"ATGC\":\n",
    "            print(i,j,k)"
   ]
  },
  {
   "cell_type": "markdown",
   "metadata": {},
   "source": [
    "# Getting the item index with enumerate() #\n",
    "\n",
    "If it's important for you to know the position of the item in the iterable string, as well as the value that is there, you can use the enumerate() function to get it.  See how this works by using enumerate() on the ATGC string, using the syntax below, where xxxxxx can be either a variable name or a string literal.\n",
    "\n",
    "```for i in enumerate(xxxxxx):\n",
    "    print(i)```"
   ]
  },
  {
   "cell_type": "code",
   "execution_count": 20,
   "metadata": {},
   "outputs": [
    {
     "name": "stdout",
     "output_type": "stream",
     "text": [
      "(0, 'A')\n",
      "(1, 'T')\n",
      "(2, 'G')\n",
      "(3, 'C')\n"
     ]
    }
   ],
   "source": [
    "for i in enumerate(\"ATGC\"):\n",
    "    print(i)"
   ]
  },
  {
   "cell_type": "code",
   "execution_count": null,
   "metadata": {},
   "outputs": [],
   "source": []
  }
 ],
 "metadata": {
  "kernelspec": {
   "display_name": "Python 3",
   "language": "python",
   "name": "python3"
  },
  "language_info": {
   "codemirror_mode": {
    "name": "ipython",
    "version": 3
   },
   "file_extension": ".py",
   "mimetype": "text/x-python",
   "name": "python",
   "nbconvert_exporter": "python",
   "pygments_lexer": "ipython3",
   "version": "3.7.4"
  }
 },
 "nbformat": 4,
 "nbformat_minor": 2
}
