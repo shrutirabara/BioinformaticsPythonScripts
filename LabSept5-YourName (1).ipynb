{
 "cells": [
  {
   "cell_type": "markdown",
   "metadata": {},
   "source": [
    "# Use a loop in a script #\n",
    "\n",
    "In class today, \n",
    "\n",
    "- We saw how the .split(\"separator\") function makes a string into a list.\n",
    "\n",
    "- We saw an example of how a loop works, and used basic for loops on strings. For example, we can re-create the len() function in python by typing:\n",
    "\n",
    "```i = 0\n",
    "for char in string:\n",
    "    i += 1\n",
    "print(i)```\n",
    "\n",
    "Loops work the exact same way for lists. Here's an example of how we'd use the **for** and **if** keywords to solve the problem below:\n",
    "\n",
    "```for item in list:\n",
    "    if item.startswith(\"A\"):\n",
    "        print item```\n",
    "        \n",
    "- write a statement that splits aalist into a list called aminos, using the comma as the signal to split\n",
    "- write a statement that asks the user for a starting letter\n",
    "- make sure your script is flexible enough to work if the user gives a lowercase letter instead of uppercase\n",
    "- make sure your script can handle it if the user adds whitespace around the input, like \"A \"\n",
    "- write code that loops through the list of amino acids and prints only the ones that start with the letter the user gives\n",
    "- make sure your script prints something to tell the user it is done checking the whole list\n",
    "\n",
    "Fill in the blanks with variable or list names (vvvvvv), string methods (mmmmmm), or built in functions (ffffff) where needed to complete the code."
   ]
  },
  {
   "cell_type": "code",
   "execution_count": 9,
   "metadata": {},
   "outputs": [
    {
     "name": "stdout",
     "output_type": "stream",
     "text": [
      "I want all the amino acids that start with the letter: g\n",
      "GLN\n",
      "GLU\n",
      "GLY\n",
      "Those are all the aminos that start with G\n"
     ]
    }
   ],
   "source": [
    "# assign the amino string to a variable name\n",
    "aminos = \"ALA,ARG,ASN,ASP,CYS,GLN,GLU,GLY,HIS,ILE,LEU,LYS,MET,PHE,PRO,SER,THR,TRP,TYR,VAL\"\n",
    "var_name = aminos\n",
    "\n",
    "# get a letter from the user\n",
    "letter = input(\"I want all the amino acids that start with the letter: \")\n",
    "\n",
    "# clean off any whitespace\n",
    "letter = letter.strip()\n",
    "\n",
    "# change it so it's a capital letter like all the aminos in the amino string\n",
    "letter = letter.capitalize() \n",
    "\n",
    "# make a list out of the aminos string\n",
    "aalist = aminos.split(\",\")\n",
    "\n",
    "# loop through the aminos list\n",
    "for amino in aalist: \n",
    "    # check if the amino starts with the letter\n",
    "    if amino.startswith(letter):\n",
    "        # if it does, print it\n",
    "        print(amino)\n",
    "        \n",
    "# tell the user you're done\n",
    "print(\"Those are all the aminos that start with \" + letter)"
   ]
  },
  {
   "cell_type": "code",
   "execution_count": null,
   "metadata": {},
   "outputs": [],
   "source": []
  }
 ],
 "metadata": {
  "kernelspec": {
   "display_name": "Python 3",
   "language": "python",
   "name": "python3"
  },
  "language_info": {
   "codemirror_mode": {
    "name": "ipython",
    "version": 3
   },
   "file_extension": ".py",
   "mimetype": "text/x-python",
   "name": "python",
   "nbconvert_exporter": "python",
   "pygments_lexer": "ipython3",
   "version": "3.7.4"
  }
 },
 "nbformat": 4,
 "nbformat_minor": 2
}
