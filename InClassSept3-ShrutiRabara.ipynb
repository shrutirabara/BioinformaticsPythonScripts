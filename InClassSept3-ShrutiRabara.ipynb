{
 "cells": [
  {
   "cell_type": "code",
   "execution_count": null,
   "metadata": {},
   "outputs": [],
   "source": [
    "#In Class Sept. 3 Submission\n",
    "#Date\n",
    "#Shruti Rabara"
   ]
  },
  {
   "cell_type": "markdown",
   "metadata": {},
   "source": [
    "# Using string methods #\n",
    "\n",
    "Methods are a special kind of function that is bound to a specific variable when it is called. The general format of a string method call is string.method(arguments)\n",
    "\n",
    "We already used a string method right at the end of last week. Given a protein sequence, how would you use a string method to count the number of cysteine (\"C\") amino acids in the sequence? Add the required code below:"
   ]
  },
  {
   "cell_type": "code",
   "execution_count": 1,
   "metadata": {},
   "outputs": [
    {
     "data": {
      "text/plain": [
       "6"
      ]
     },
     "execution_count": 1,
     "metadata": {},
     "output_type": "execute_result"
    }
   ],
   "source": [
    "sequence = \"MALWMRLLPLLALLALWGPDPAAAFVNQHLCGSHLVEALYLVCGERGFFYTPKTRREAEDLQVGQVELGGGPGAGSLQPLALEGSLQKRGIVEQCCTSICSLYQLENYCN\"\n",
    "sequence.count(\"C\")\n"
   ]
  },
  {
   "cell_type": "markdown",
   "metadata": {},
   "source": [
    "# Quick review: string methods and math #\n",
    "\n",
    "In protein structures, there are certain amino acids that have the potential to have a positive or negative charge. They are acids (or bases), meaning that depending on the pH of the surrounding solution (for instance the cell cytoplasm) they will either have a charge or be neutral.\n",
    "\n",
    "At neutral pH, the following amino acids are likely to have a positive or negative charge:\n",
    "\n",
    "- Glutamic acid, E, -1.0\n",
    "- Aspartic acid, D, -1.0\n",
    "- Lysine, K, +1.0\n",
    "- Arginine, R, +1.0\n",
    "\n",
    "In the cell below, using what you learned last week, write some code that would calculate the net charge for a protein sequence at pH 7. Just add up all the individual charges.\n",
    "\n",
    "Try it out on the sequence above as well as on the following protein:\n",
    "\n",
    "histone = \"MARTKQTARKSTGGKAPRKQLATKAARKSAPATGGVKKPHRYRPGTVALREIRRYQKSTELLIRKLPFQRLVREIAQDFKTDLRFQSSAVMALQEACEAYLVGLFEDTNLCAIHAKRVTIMPKDIQLARRIRGERA\"\n",
    "\n",
    "The original sequence (human insulin) should have a charge of -3.0, and the histone sequence has a charge of +20.0."
   ]
  },
  {
   "cell_type": "code",
   "execution_count": 9,
   "metadata": {},
   "outputs": [
    {
     "name": "stdout",
     "output_type": "stream",
     "text": [
      "20\n",
      "-3\n"
     ]
    }
   ],
   "source": [
    "histone = \"MARTKQTARKSTGGKAPRKQLATKAARKSAPATGGVKKPHRYRPGTVALREIRRYQKSTELLIRKLPFQRLVREIAQDFKTDLRFQSSAVMALQEACEAYLVGLFEDTNLCAIHAKRVTIMPKDIQLARRIRGERA\"\n",
    "sequence = \"MALWMRLLPLLALLALWGPDPAAAFVNQHLCGSHLVEALYLVCGERGFFYTPKTRREAEDLQVGQVELGGGPGAGSLQPLALEGSLQKRGIVEQCCTSICSLYQLENYCN\"\n",
    "\n",
    "gluacid=(histone.count(\"E\")*-1)\n",
    "aspacid=(histone.count(\"D\")*-1)\n",
    "lysi=(histone.count(\"K\")*1)\n",
    "argi=(histone.count(\"R\")*1)\n",
    "\n",
    "gluacid2=(sequence.count(\"E\")*-1)\n",
    "aspacid2=(sequence.count(\"D\")*-1)\n",
    "lysi2=(sequence.count(\"K\")*1)\n",
    "argi2=(sequence.count(\"R\")*1)\n",
    "\n",
    "totchahis = gluacid + aspacid + lysi + argi\n",
    "totchaseq = gluacid2 + aspacid2 + lysi2 + argi2\n",
    "\n",
    "print(totchahis)\n",
    "print(totchaseq)"
   ]
  },
  {
   "cell_type": "markdown",
   "metadata": {},
   "source": [
    "# Quick review: the slice operator #\n",
    "\n",
    "The slice operator takes a string and cuts a slice out of it.\n",
    "\n",
    "The syntax of the slice operator is string[start:stop:step]\n",
    "\n",
    "The start of the slice is INCLUSIVE -- it includes the character at the position given, the end of the slice is EXCLUSIVE -- it excludes the character at the position given. So \"string\"[1:4] == \"tri\" is True, \"string\"[1:4] == \"trin\" is False.\n",
    "\n",
    "Using a negative number in the start or stop gives the position relative to the end of the string; using a negative number in the step gives the reverse of the string.\n",
    "\n",
    "In the cell below, add the slice notation so that each of the following statements returns True."
   ]
  },
  {
   "cell_type": "code",
   "execution_count": 10,
   "metadata": {},
   "outputs": [
    {
     "data": {
      "text/plain": [
       "True"
      ]
     },
     "execution_count": 10,
     "metadata": {},
     "output_type": "execute_result"
    }
   ],
   "source": [
    "\"string\"[-1:2:-3] == \"s\"\n",
    "\"string\"[-1:2:-3] == \"t\"\n",
    "\"string\"[-1:2:-3] == \"g\"\n",
    "\"string\"[0:6:2] == \"srn\"\n",
    "\"string\"[::-1] == \"gnirts\"\n",
    "\"string\"[-3:] == \"ing\"\n",
    "\n"
   ]
  },
  {
   "cell_type": "markdown",
   "metadata": {},
   "source": [
    "# Counting characters in a substring #\n",
    "\n",
    "The .count() method works with slice notation. For instance, if you wanted to get a count of Gs and Cs just in a substring of a string, you could work on that substring without ever putting it in a separate variable. You can see just by looking that the GC content of three different regions of this string are quite different.\n",
    "\n",
    "You can calculate the number of Cs and Gs for just a range using slice notation in a couple of different ways.\n",
    "\n",
    "- You could use the slice as a literal -- my_dna[0:24].count(\"C\")\n",
    "- Or, you could use the coordinates as additional arguments of .count -- my_dna.count(\"C\",0,24)\n",
    "\n",
    "Where would these be useful? Say you're working with a complete genome sequence and a file of gene start and stop coordinates, and you want to analyze only the genes. You could just slice out the parts that you wanted to analyze and get results only from that part of the string.\n",
    "\n",
    "Try them out on the sequence below. Calculate GC percent for the first half of the sequence and for the second half. Use a different count/slice syntax each time. You'll see that you have to repeat some code. Next week we'll learn to do this more efficiently with a function."
   ]
  },
  {
   "cell_type": "code",
   "execution_count": 6,
   "metadata": {},
   "outputs": [
    {
     "name": "stdout",
     "output_type": "stream",
     "text": [
      "16.666666666666664\n",
      "82.6086956521739\n"
     ]
    }
   ],
   "source": [
    "my_dna = \"ATATATATATATATATGCATGCATGCATGCATGCGCGCGCGCGCGCGC\"\n",
    "c_count = my_dna[0:24].count(\"C\")\n",
    "g_count = my_dna[0:24].count(\"G\")\n",
    "\n",
    "per_cent = (g_count + c_count)/len(my_dna[0:24])\n",
    "per_cent = per_cent * 100\n",
    "print(per_cent)\n",
    "\n",
    "c_count2 = my_dna[25:48].count(\"C\")\n",
    "g_count2 = my_dna[25:48].count(\"G\")\n",
    "\n",
    "per_cent2 = (c_count2 + g_count2)/len(my_dna[25:48])\n",
    "per_cent2 = per_cent2 * 100\n",
    "print(per_cent2)"
   ]
  },
  {
   "cell_type": "markdown",
   "metadata": {},
   "source": [
    "# Substituting characters in a string #\n",
    "\n",
    "Substitution is simple when you are looking to take a pattern that exactly matches a given substring, and change it to a different substring. Python does this with the .replace() method.\n",
    "\n",
    "For instance, to substitute something different for the GCAT repeats in the sequence we used above, we could type my_dna.replace(\"GCAT\",\"something different\").\n",
    "\n",
    "Try that below and see what happens. Check two things. First of all, see if the substitution works just using the statement above. Then, check to see what happened to the original value of my_dna by printing it. Immutable, right? Find and replace, like other methods, do not change the value of the original string or store their output unless an assignment operator is used."
   ]
  },
  {
   "cell_type": "code",
   "execution_count": 13,
   "metadata": {},
   "outputs": [
    {
     "name": "stdout",
     "output_type": "stream",
     "text": [
      "ATATATATATATATATGCATGCATGCATGCATGCGCGCGCGCGCGCGC\n"
     ]
    }
   ],
   "source": [
    "my_dna.replace(\"GCAT\", \"GACT\")\n",
    "print(my_dna)"
   ]
  },
  {
   "cell_type": "markdown",
   "metadata": {},
   "source": [
    "# DNA to RNA #\n",
    "\n",
    "Knowing that RNA uses U ribonucleotides where DNA would use T deoxyribonucleotides, use .replace() to change the one-letter code of my_dna so that it reads as RNA instead of DNA."
   ]
  },
  {
   "cell_type": "code",
   "execution_count": 14,
   "metadata": {},
   "outputs": [
    {
     "data": {
      "text/plain": [
       "'AUAUAUAUAUAUAUAUGCAUGCAUGCAUGCAUGCGCGCGCGCGCGCGC'"
      ]
     },
     "execution_count": 14,
     "metadata": {},
     "output_type": "execute_result"
    }
   ],
   "source": [
    "my_dna.replace(\"T\",\"U\")"
   ]
  },
  {
   "cell_type": "markdown",
   "metadata": {},
   "source": [
    "# Finding substrings in a string #\n",
    "\n",
    "If we just want to figure out if a substring exists in a string or not, we can use the in operator that we saw last week. It's either there or it isn't, True or False.\n",
    "\n",
    "- \"C\" in \"cat\" returns False\n",
    "- \"c\" in \"cat\" returns True\n",
    "\n",
    "If we want to know where in a string the first instance of a pattern is, we use .find() or .rfind() instead. .find() starts from the beginning, and .rfind() starts from the end. \n",
    "\n",
    "- \"cat\".find(\"c\") returns 0, the position in the string\n",
    "- \"cat\".rfind(\"c\") also returns 0\n",
    "- \"cat\".find(\"C\") returns -1, because the pattern isn't found\n",
    "\n",
    "Use in, .find() and .rfind() to scan my_dna for occurrences of \"GC\". The in statement should return True, and you should find it at position 16 in the forward direction, and position 46 in the reverse direction."
   ]
  },
  {
   "cell_type": "code",
   "execution_count": 23,
   "metadata": {},
   "outputs": [
    {
     "name": "stdout",
     "output_type": "stream",
     "text": [
      "16\n",
      "46\n"
     ]
    }
   ],
   "source": [
    "print(my_dna.find(\"GC\"))\n",
    "print(my_dna.rfind(\"GC\"))"
   ]
  },
  {
   "cell_type": "markdown",
   "metadata": {},
   "source": [
    "# Testing for conditions with string methods #\n",
    "\n",
    "python has some string methods that are basically comparison tests to see if a string meets certain conditions.\n",
    "\n",
    "For instance, you can check to see whether \"string\".startswith(\"pattern\") and \"string\".endswith(\"pattern\")\n",
    "\n",
    "- \"cat\".startswith(\"c\") returns True\n",
    "- \"cat\".startswith(\"t\") returns False\n",
    "- \"cat\".endswith(\"t\") returns True\n",
    "\n",
    "In the cell below, change the code so that all the statements return True. The patterns tested for can be single character or multiple character."
   ]
  },
  {
   "cell_type": "code",
   "execution_count": 14,
   "metadata": {},
   "outputs": [
    {
     "data": {
      "text/plain": [
       "True"
      ]
     },
     "execution_count": 14,
     "metadata": {},
     "output_type": "execute_result"
    }
   ],
   "source": [
    "my_dna = \"ATATATATATATATATGCATGCATGCATGCATGCGCGCGCGCGCGCGC\"\n",
    "my_dna.startswith(\"A\")\n",
    "my_dna.endswith(\"C\")\n",
    "my_dna.startswith(\"ATAT\")\n",
    "my_dna.endswith(\"GC\")\n"
   ]
  },
  {
   "cell_type": "markdown",
   "metadata": {},
   "source": [
    "# Changing the case of a string #\n",
    "\n",
    "Strings are case-sensitive, so changing the case of a string from upper to lower, or detecting whether a string is uppercase or lowercase or another case, is potentially necessary to know how to do.\n",
    "\n",
    "The case methods are:\n",
    "\n",
    "- .upper()\n",
    "- .lower()\n",
    "- .title()\n",
    "- .capitalize()\n",
    "- .casefold()\n",
    "\n",
    "Try them out on the phrase \"this is my secret python diary\" and see what happens when you apply each one. I'm not saying you'll use them all right away, but sometimes it's really useful to, say, force everything into lower or upper case when you're comparing strings."
   ]
  },
  {
   "cell_type": "code",
   "execution_count": 5,
   "metadata": {},
   "outputs": [
    {
     "data": {
      "text/plain": [
       "'this is my secret python diary'"
      ]
     },
     "execution_count": 5,
     "metadata": {},
     "output_type": "execute_result"
    }
   ],
   "source": [
    "phrase = \"this is my secret python diary\"\n",
    "phrase.casefold()"
   ]
  },
  {
   "cell_type": "markdown",
   "metadata": {},
   "source": [
    "# Testing for case #\n",
    "\n",
    "Python also has methods that compare a string to a criterion. We saw .startswith() and .endswith() above, but there are also tests for case:\n",
    "\n",
    "- .isupper() # will return True if the string is all uppercase\n",
    "- .islower() # will return True if the string is all lowercase\n",
    "- .isnumeric() # will return True if the contents of a string are all numeric characters, i.e. you could float it\n",
    "- .isspace() # will return True if the string is all whitespace like spaces or tabs\n",
    "\n",
    "There are other more specialized string methods that test for whether an object contains alphanumeric characters at all, that test for the different cases like title or capitalize, etc. They all work in pretty similar ways.\n",
    "\n",
    "In the next cell, modify the statements by changing the string so that they return True."
   ]
  },
  {
   "cell_type": "code",
   "execution_count": 9,
   "metadata": {},
   "outputs": [
    {
     "data": {
      "text/plain": [
       "True"
      ]
     },
     "execution_count": 9,
     "metadata": {},
     "output_type": "execute_result"
    }
   ],
   "source": [
    "\"xx\".islower()\n",
    "\"XX\".isupper()\n",
    "\"22\".isnumeric()\n",
    "\" \".isspace()"
   ]
  },
  {
   "cell_type": "markdown",
   "metadata": {},
   "source": [
    "# Make a secret code with python #\n",
    "\n",
    "When you were a kid, if you wanted to write a completely secret diary, you'd make a code that no one could translate unless they had your secret decoder ring. Or the key to the code.\n",
    "\n",
    "Say you start with the alphabet (we'll go with all caps for convenience) as a string \"ABCDEFGHIJKLMNOPQRSTUVWXYZ\", and a randomly shuffled version of the string which will be the key to your secret code \"WJXSDGMAHUTFVIQBLZEROYPKNC\", which uses a one-to-one substition letter-for-letter.\n",
    "\n",
    "python3 has a string method to make it easy for you to translate strings using your code.\n",
    "\n",
    "First, you make a translation table, using .maketrans(). The syntax of .maketrans() is a little different than normal string methods. Since you are making a translation table out of two strings, you can't .maketrans() onto one of them. Instead, you write transtable = str.maketrans(string1,string2), binding .maketrans() to a generic str object.\n",
    "\n",
    "Using the two variables below, make a translation table for the alphabet using the shuffled code string. You can call it transtable, like in the example above, or something else.\n",
    "\n",
    "I added a space to each one of the input strings, in case what you want to encode has spaces."
   ]
  },
  {
   "cell_type": "code",
   "execution_count": 11,
   "metadata": {},
   "outputs": [
    {
     "data": {
      "text/plain": [
       "'PUKESMVWAORGYHLJFCDZQNBTIX '"
      ]
     },
     "execution_count": 11,
     "metadata": {},
     "output_type": "execute_result"
    }
   ],
   "source": [
    "alphabet = \"ABCDEFGHIJKLMNOPQRSTUVWXYZ \"\n",
    "code = \"WJXSDGMAHUTFVIQBLZEROYPKNC \"\n",
    "transtable = str.maketrans(alphabet, code)\n",
    "code.translate(transtable)"
   ]
  },
  {
   "cell_type": "markdown",
   "metadata": {},
   "source": [
    "# Translate a string using your code #\n",
    "\n",
    "Now you have a code. To translate a string with your code, just make sure you give .translate() a string that doesn't have any characters that aren't in the code!\n",
    "\n",
    "\"string\".translate(transtable) is what that will look like. .translate() works like standard string methods you have seen.\n",
    "\n",
    "In the cell below, translate the phrase \"THIS IS MY SECRET PYTHON DIARY\".\n",
    "Then translate it back."
   ]
  },
  {
   "cell_type": "code",
   "execution_count": 14,
   "metadata": {},
   "outputs": [
    {
     "data": {
      "text/plain": [
       "'RAHE HE VN EDXZDR BNRAQI SHWZN'"
      ]
     },
     "execution_count": 14,
     "metadata": {},
     "output_type": "execute_result"
    }
   ],
   "source": [
    "alphabet = \"ABCDEFGHIJKLMNOPQRSTUVWXYZ \"\n",
    "code = \"WJXSDGMAHUTFVIQBLZEROYPKNC \"\n",
    "transtable = str.maketrans(alphabet,code)\n",
    "\"THIS IS MY SECRET PYTHON DIARY\".translate(transtable)"
   ]
  },
  {
   "cell_type": "markdown",
   "metadata": {},
   "source": [
    "# Reverse complement a sequence #\n",
    "\n",
    "The important and interesting sub-sequences within a genome sequence can be coded on either strand of the paired DNA double helix. Only one half of the double helix of genomic DNA is generally stored, the strand that reads from left to right 5' to 3', or the + strand. If the sequence is coded on the + strand, then we can read it from left to right, like we're accustomed to.\n",
    "\n",
    "If the sequence is coded on the - strand, then what we are really interested in is the COMPLEMENT of the sequence, the implied second strand that would bind to the + strand, and we're interested in reading it in the REVERSE direction.\n",
    "\n",
    "Using only what we've learned so far, such as string methods and string operators, how can we generate the reverse complement of a sequence? "
   ]
  },
  {
   "cell_type": "code",
   "execution_count": 15,
   "metadata": {},
   "outputs": [
    {
     "data": {
      "text/plain": [
       "'CGCGCGCGCGCGCGCGTACGTACGTACGTACGTATATATATATATATA'"
      ]
     },
     "execution_count": 15,
     "metadata": {},
     "output_type": "execute_result"
    }
   ],
   "source": [
    "orig_dna = \"ATATATATATATATATGCATGCATGCATGCATGCGCGCGCGCGCGCGC\"\n",
    "orig_dna[::-1]"
   ]
  },
  {
   "cell_type": "code",
   "execution_count": 16,
   "metadata": {},
   "outputs": [],
   "source": [
    "fir = \"ATGC\"\n",
    "sec = \"TACG\"\n",
    "codee = str.maketrans(fir,sec)"
   ]
  },
  {
   "cell_type": "code",
   "execution_count": 20,
   "metadata": {},
   "outputs": [
    {
     "data": {
      "text/plain": [
       "'CGCGCGCGCGCGCGCGTACGTACGTACGTACGTATATATATATATATA'"
      ]
     },
     "execution_count": 20,
     "metadata": {},
     "output_type": "execute_result"
    }
   ],
   "source": [
    "\"CGCGCGCGCGCGCGCGTACGTACGTACGTACGTATATATATATATATA\""
   ]
  },
  {
   "cell_type": "code",
   "execution_count": 21,
   "metadata": {},
   "outputs": [],
   "source": [
    "rev_complement = \"CGCGCGCGCGCGCGCGTACGTACGTACGTACGTATATATATATATATA\""
   ]
  },
  {
   "cell_type": "code",
   "execution_count": 22,
   "metadata": {},
   "outputs": [
    {
     "name": "stdout",
     "output_type": "stream",
     "text": [
      "ATATATATATATATATGCATGCATGCATGCATGCGCGCGCGCGCGCGC\n",
      "CGCGCGCGCGCGCGCGTACGTACGTACGTACGTATATATATATATATA\n"
     ]
    }
   ],
   "source": [
    "print(orig_dna)\n",
    "print(rev_complement)"
   ]
  },
  {
   "cell_type": "code",
   "execution_count": null,
   "metadata": {},
   "outputs": [],
   "source": []
  }
 ],
 "metadata": {
  "kernelspec": {
   "display_name": "Python 3",
   "language": "python",
   "name": "python3"
  },
  "language_info": {
   "codemirror_mode": {
    "name": "ipython",
    "version": 3
   },
   "file_extension": ".py",
   "mimetype": "text/x-python",
   "name": "python",
   "nbconvert_exporter": "python",
   "pygments_lexer": "ipython3",
   "version": "3.7.4"
  }
 },
 "nbformat": 4,
 "nbformat_minor": 2
}
