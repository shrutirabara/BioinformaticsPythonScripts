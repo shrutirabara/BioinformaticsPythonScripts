{
 "cells": [
  {
   "cell_type": "code",
   "execution_count": null,
   "metadata": {},
   "outputs": [],
   "source": [
    "# Intro to Dictionaries -- In Class Oct 15\n",
    "# Your Name\n",
    "# Date"
   ]
  },
  {
   "cell_type": "markdown",
   "metadata": {},
   "source": [
    "# Dictionaries #\n",
    "\n",
    "Dictionaries are data structures made up of key:value pairs. Keys and values can be any python data type with one restriction. \n",
    "\n",
    "Keys must be immutable (so, you could use a tuple as a key, but not a list). Values can be any python data type.\n",
    "\n",
    "How is this different from a tuple of two different kinds of object e.g. (str, list)? A tuple is a sequence, and it is indexed using the built-in numerical index that is common to all sequence data types.\n",
    "\n",
    "A dictionary is not inherently indexed. Instead, it is indexed using its keys, that is, you use the key to look up the value."
   ]
  },
  {
   "cell_type": "markdown",
   "metadata": {},
   "source": [
    "# Let's make a dict() #\n",
    "\n",
    "We can make a dictionary manually.\n",
    "\n",
    "my_dict = {} creates an empty dictionary. Do this in the cell below and then print the object to see what it looks like."
   ]
  },
  {
   "cell_type": "code",
   "execution_count": 1,
   "metadata": {},
   "outputs": [
    {
     "name": "stdout",
     "output_type": "stream",
     "text": [
      "{}\n"
     ]
    }
   ],
   "source": [
    "my_dict = {}\n",
    "print(my_dict)"
   ]
  },
  {
   "cell_type": "markdown",
   "metadata": {},
   "source": [
    "# Add to a dictionary #\n",
    "\n",
    "We can add items to a dictionary in a few different ways.\n",
    "\n",
    "Make an empty dictionary called eng2sp. Then add a word pair to the dictionary. In the cell below, add this value and the next four value pairs to the dictionary one at a time. In this dictionary, the English words are our keys and the Spanish words are the values. one/uno, two/dos, three/tres, four/cuatro, five/cinco.\n",
    "\n",
    "eng2sp['one'] = 'uno'\n",
    "\n",
    "Once you have populated the dictionary, use a print command to print it out. "
   ]
  },
  {
   "cell_type": "code",
   "execution_count": 2,
   "metadata": {},
   "outputs": [
    {
     "name": "stdout",
     "output_type": "stream",
     "text": [
      "{'one': 'uno', 'two': 'dos', 'three': 'tres', 'four': 'quatro', 'five': 'cinco'}\n"
     ]
    }
   ],
   "source": [
    "eng2sp = {}\n",
    "eng2sp['one'] = 'uno'\n",
    "eng2sp['two'] = 'dos'\n",
    "eng2sp['three'] = 'tres'\n",
    "eng2sp['four'] = 'quatro'\n",
    "eng2sp['five'] = 'cinco'\n",
    "print(eng2sp)"
   ]
  },
  {
   "cell_type": "markdown",
   "metadata": {},
   "source": [
    "# Filling a dict() manually #\n",
    "\n",
    "We can also define a populated dictionary all at once with this syntax:\n",
    "\n",
    "```my_dict = {'key':'value','key2':'value2', etc.```\n",
    "\n",
    "In the cell below, make the eng2sp dictionary all in one statement."
   ]
  },
  {
   "cell_type": "code",
   "execution_count": 12,
   "metadata": {},
   "outputs": [
    {
     "name": "stdout",
     "output_type": "stream",
     "text": [
      "{'one': 'uno', 'two': 'dos', 'three': 'tres'}\n"
     ]
    }
   ],
   "source": [
    "eng2sp = {'one':'uno','two':'dos','three':'tres'}\n",
    "print(eng2sp)"
   ]
  },
  {
   "cell_type": "markdown",
   "metadata": {},
   "source": [
    "# dict() does not have .append() #\n",
    "\n",
    "There is NO METHOD analogous to .append() for dictionaries. We either pass in a key:value pair that gets added to our dict() as shown above, or we can update it with the contents of a second dict() using dict.update(dict2).\n",
    "\n",
    "In the cell below, make a second dictionary containing the word pairs six/seis, seven/siete, eight/ocho, nine/nueve, ten/diez. Add it to your original dictionary using dict.update(dict2)"
   ]
  },
  {
   "cell_type": "code",
   "execution_count": 38,
   "metadata": {},
   "outputs": [
    {
     "name": "stdout",
     "output_type": "stream",
     "text": [
      "{'one': 'uno', 'two': 'dos', 'three': 'tres', 'four': 'cuatro', 'five': 'cinco', 'six': 'seis', 'seven': 'siete', 'eight': 'ocho', 'nine': 'nueve', 'ten': 'diez'}\n"
     ]
    }
   ],
   "source": [
    "e2g = {'one':'uno','two':'dos','three':'tres','four':'cuatro','five':'cinco'}\n",
    "e2g2 = {'six':'seis','seven':'siete','eight':'ocho','nine':'nueve','ten':'diez'}\n",
    "e2g.update(e2g2)\n",
    "print(e2g)"
   ]
  },
  {
   "cell_type": "markdown",
   "metadata": {},
   "source": [
    "# Extract a value from a dictionary #\n",
    "\n",
    "To extract a value from a dictionary, you can use an index. The syntax is like using a slice except that the value in the square brackets is your key.\n",
    "\n",
    "dict['key']\n",
    "\n",
    "This is, of course (because python) not the only way to get a value from a dictionary. You can also use the .get() dictionary method:\n",
    "\n",
    "dict.get('key')\n",
    "\n",
    "In the cell below, use each of these ways to get the value corresponding to the key 'three' from your English to Spanish dictionary."
   ]
  },
  {
   "cell_type": "code",
   "execution_count": 29,
   "metadata": {},
   "outputs": [
    {
     "name": "stdout",
     "output_type": "stream",
     "text": [
      "tres\n"
     ]
    }
   ],
   "source": [
    "print(eng2sp.get('three'))"
   ]
  },
  {
   "cell_type": "markdown",
   "metadata": {},
   "source": [
    "# Common dict() errors #\n",
    "\n",
    "If you request a key that is not in the dictionary, then python will raise a KeyError exception. Try this statement with your dictionary and see how the error looks:\n",
    "\n",
    "```eng2sp['eleven']```\n",
    "\n",
    "If we use dict['key'] to call a nonexistent key, vs. using dict.get(), we get different results. dict.get() of a nonexistent key will return the value None. Also try this below and print the result.\n",
    "\n",
    "Using dict.get() would be the preferred way to access a value in a dictionary if you did not want your program to error out over a missing key."
   ]
  },
  {
   "cell_type": "code",
   "execution_count": 31,
   "metadata": {},
   "outputs": [
    {
     "name": "stdout",
     "output_type": "stream",
     "text": [
      "None\n"
     ]
    }
   ],
   "source": [
    "print(eng2sp.get('eleven'))"
   ]
  },
  {
   "cell_type": "markdown",
   "metadata": {},
   "source": [
    "# Keys must be unique #\n",
    "\n",
    "What happens if you try to add a new key/value pair six/once to your eng2sp dictionary? Try it in the cell below. Print the dict() before and after you add the value.\n",
    "\n",
    "You won't get an error if you add a non-unique key:value pair to the dictionary, but you'll overwrite the original value."
   ]
  },
  {
   "cell_type": "code",
   "execution_count": 39,
   "metadata": {},
   "outputs": [
    {
     "name": "stdout",
     "output_type": "stream",
     "text": [
      "{'one': 'uno', 'two': 'dos', 'three': 'tres', 'four': 'cuatro', 'five': 'cinco', 'six': 'seis', 'seven': 'siete', 'eight': 'ocho', 'nine': 'nueve', 'ten': 'diez'}\n",
      "{'one': 'uno', 'two': 'dos', 'three': 'tres', 'four': 'cuatro', 'five': 'cinco', 'six': 'once', 'seven': 'siete', 'eight': 'ocho', 'nine': 'nueve', 'ten': 'diez'}\n"
     ]
    }
   ],
   "source": [
    "print(e2g)\n",
    "e2g['six'] = 'once'\n",
    "print(e2g)"
   ]
  },
  {
   "cell_type": "markdown",
   "metadata": {},
   "source": [
    "# Check for existing keys with dict.has_key() #\n",
    "\n",
    "If you want to be sure you don't overwrite a value in your dictionary, you can check before assigning a key:value pair using a built-in called .has_key(). In the cell below, check your eng2sp dictionary for the keys 'three' and 'eleven'. Print the value returned by the dict method to see what type of value it returns."
   ]
  },
  {
   "cell_type": "code",
   "execution_count": 33,
   "metadata": {},
   "outputs": [
    {
     "name": "stdout",
     "output_type": "stream",
     "text": [
      "tres\n"
     ]
    }
   ],
   "source": [
    "if 'three' in eng2sp:\n",
    "    print(eng2sp['three'])"
   ]
  },
  {
   "cell_type": "markdown",
   "metadata": {},
   "source": [
    "# Making a dictionary with zip() #\n",
    "\n",
    "We have already used the zip() command to zip lists together into lists of tuples.\n",
    "\n",
    "Could we do the same and make a dictionary? Of course! Python has a function for that, dict().\n",
    "\n",
    "Just like we used list(zip(list1,list2)), we can use the dict() function with the zip() of 2 lists. We can't use it with more than 2.\n",
    "\n",
    "In the cell below, zip the two lists together into a dict. Of course if you were going to do this in real life, you'd have to be sure your dictionary's keys were all unique first."
   ]
  },
  {
   "cell_type": "code",
   "execution_count": 44,
   "metadata": {},
   "outputs": [],
   "source": [
    "english = [\"one\",\"two\",\"three\",\"four\",\"five\"]\n",
    "spanish = [\"uno\",\"dos\",\"tres\", \"cuatro\",\"cinco\"]\n",
    "eng2sp = dict(zip(english,spanish))\n"
   ]
  },
  {
   "cell_type": "markdown",
   "metadata": {},
   "source": [
    "# Sidebar: unique keys #\n",
    "\n",
    "How could you tell if a list's keys were all unique? Think back to other  list functions that we know. Here are two lists.\n",
    "\n",
    "```english = [\"one\",\"two\",\"three\",\"four\",\"five\"]\n",
    "english2 = [\"one\",\"one\",\"two\",\"three\",\"four\",\"four\",\"five\"]```\n",
    "\n",
    "Can you write a snip of code that would distinguish between a list that has a set of unique keys and one that does not?"
   ]
  },
  {
   "cell_type": "code",
   "execution_count": null,
   "metadata": {},
   "outputs": [],
   "source": []
  },
  {
   "cell_type": "markdown",
   "metadata": {},
   "source": [
    "# Populate a dict() with a for loop #\n",
    "\n",
    "Say you have two lists with parallel indices. Using the commands we've learned above, put the key value pairs into the dict using a for loop. zip() is convenient, but that only works if we have the two lists ready made, so we want to think about how to add values to the dict one by one, without manually adding them."
   ]
  },
  {
   "cell_type": "code",
   "execution_count": 54,
   "metadata": {},
   "outputs": [
    {
     "name": "stdout",
     "output_type": "stream",
     "text": [
      "{'one': 'uno', 'two': 'dos', 'three': 'tres', 'four': 'cuatro', 'five': 'cinco'}\n"
     ]
    }
   ],
   "source": [
    "english = [\"one\",\"two\",\"three\",\"four\",\"five\"]\n",
    "spanish = [\"uno\",\"dos\",\"tres\", \"cuatro\",\"cinco\"]\n",
    "lis = {}\n",
    "for i in range(len(spanish)):\n",
    "    lis[english[i]] = spanish[i]\n",
    "print(lis)"
   ]
  },
  {
   "cell_type": "markdown",
   "metadata": {},
   "source": [
    "# Populate a dict() from a file #\n",
    "\n",
    "Let's use the file aamw.txt that you are already familiar with from last week. Remember, the format of the non-comment lines is:\n",
    "\n",
    "```I\t131.1736\n",
    "L\t131.1736\n",
    "K\t146.1882```\n",
    "\n",
    "To make a dictionary out of this file, you need to open the file, loop over the lines, and if they are non-comment lines, put the molecular weight as the value in the dictionary with the amino acid code as the key. You can do this with a normal for loop with a nested if block."
   ]
  },
  {
   "cell_type": "code",
   "execution_count": 46,
   "metadata": {},
   "outputs": [
    {
     "name": "stdout",
     "output_type": "stream",
     "text": [
      "{'I': '131.1736', 'L': '131.1736', 'K': '146.1882', 'M': '149.2124', 'F': '165.1900', 'T': '119.1197', 'W': '204.2262', 'V': '117.1469', 'R': '174.2017', 'H': '155.1552', 'A': '89.0935', 'N': '132.1184', 'D': '133.1032', 'C': '121.1590', 'E': '147.1299', 'Q': '146.1451', 'G': '75.0669', 'P': '115.1310', 'S': '105.0930', 'Y': '181.1894'}\n"
     ]
    }
   ],
   "source": [
    "aamwdict = {}\n",
    "with open(\"aamw.txt\") as file:\n",
    "    for line in file.readlines():\n",
    "        if line[0] != '#':\n",
    "            aamwdict[line.split()[0].strip()] = line.split()[1].strip()\n",
    "print(aamwdict)"
   ]
  },
  {
   "cell_type": "markdown",
   "metadata": {},
   "source": [
    "# Populate a dict() with a comprehension #\n",
    "\n",
    "We have already made the complement of a DNA sequence in a number of ways. We used the built in string method .replace(). We also used .maketrans() and .translate(). We can also easily use a dictionary to solve this problem.\n",
    "\n",
    "To make a dictionary of the ATGCTACG string, we could use a dict comprehension:\n",
    "\n",
    "dnac = \"ATGCTACG\"\n",
    "dnacomp = {dnac[i]:dnac[i+4] for i in range(0,int(len(dnac)/2))}\n",
    "\n",
    "A dict comprehension statement is just like any other comprehension statement, except that what you are generating inside the squirrely brackets is a key:value pair instead of just a value. The syntax is exactly like when we put \"one\":\"uno\" manually into a dictionary up above. key:value separated by a colon.\n",
    "\n",
    "In the cell below, see if you can create a comprehension statement that will put the values from the aamw.txt lines into a dictionary."
   ]
  },
  {
   "cell_type": "code",
   "execution_count": 53,
   "metadata": {},
   "outputs": [
    {
     "data": {
      "text/plain": [
       "{'I': '131.1736',\n",
       " 'L': '131.1736',\n",
       " 'K': '146.1882',\n",
       " 'M': '149.2124',\n",
       " 'F': '165.1900',\n",
       " 'T': '119.1197',\n",
       " 'W': '204.2262',\n",
       " 'V': '117.1469',\n",
       " 'R': '174.2017',\n",
       " 'H': '155.1552',\n",
       " 'A': '89.0935',\n",
       " 'N': '132.1184',\n",
       " 'D': '133.1032',\n",
       " 'C': '121.1590',\n",
       " 'E': '147.1299',\n",
       " 'Q': '146.1451',\n",
       " 'G': '75.0669',\n",
       " 'P': '115.1310',\n",
       " 'S': '105.0930',\n",
       " 'Y': '181.1894'}"
      ]
     },
     "execution_count": 53,
     "metadata": {},
     "output_type": "execute_result"
    }
   ],
   "source": [
    "with open(\"aamw.txt\") as op:\n",
    "    op = op.readlines()\n",
    "di1 = {i[0]:i[2:10].strip() for i in op if i[0] != '#'}\n",
    "di1"
   ]
  },
  {
   "cell_type": "markdown",
   "metadata": {},
   "source": [
    "# Use your dicts to solve familiar problems #\n",
    "\n",
    "All you'll need to start using your dictionaries is the dict.get() command. In the two cells below, use the dictionaries we saw how to make above.\n",
    "\n",
    "In the first cell, make the reverse complement dictionary, and then use it to produce the reverse complement of the following sequence:\n",
    "\n",
    "\"ATGCATGCATGC\"\n",
    "\n",
    "In the second cell, make the amino acid molecular weight dictionary, and use it to calculate the molecular weight of insulin, like we did last time with the list of tuples. Because we do have unique keys for each value, this problem is a perfect time to use a dictionary rather than a list of tuples.\n",
    "\n",
    "\"MALWMRLLPLLALLALWGPDPAAAFVNQHLCGSHLVEALYLVCGERGFFYTPKTRREAEDLQVGQVELGGGPGAGSLQPLALEGSLQKRGIVEQCCTSICSLYQLENYCN\" "
   ]
  },
  {
   "cell_type": "code",
   "execution_count": 58,
   "metadata": {},
   "outputs": [
    {
     "name": "stdout",
     "output_type": "stream",
     "text": [
      "TACGTACGTACG\n"
     ]
    }
   ],
   "source": [
    "rev = []\n",
    "dnac = \"ATGCTACG\"\n",
    "dnacomp = {dnac[i]:dnac[i+4] for i in range(0,int(len(dnac)/2))}\n",
    "for i in \"ATGCATGCATGC\":\n",
    "    rev.append(dnacomp.get(i))\n",
    "print(''.join(rev))"
   ]
  },
  {
   "cell_type": "code",
   "execution_count": 59,
   "metadata": {},
   "outputs": [
    {
     "ename": "ValueError",
     "evalue": "I/O operation on closed file.",
     "output_type": "error",
     "traceback": [
      "\u001b[0;31m---------------------------------------------------------------------------\u001b[0m",
      "\u001b[0;31mValueError\u001b[0m                                Traceback (most recent call last)",
      "\u001b[0;32m<ipython-input-59-e4b2d5ee5778>\u001b[0m in \u001b[0;36m<module>\u001b[0;34m\u001b[0m\n\u001b[1;32m      3\u001b[0m \u001b[0;32mwith\u001b[0m \u001b[0mopen\u001b[0m\u001b[0;34m(\u001b[0m\u001b[0;34m\"aamw.txt\"\u001b[0m\u001b[0;34m)\u001b[0m \u001b[0;32mas\u001b[0m \u001b[0mop\u001b[0m\u001b[0;34m:\u001b[0m\u001b[0;34m\u001b[0m\u001b[0;34m\u001b[0m\u001b[0m\n\u001b[1;32m      4\u001b[0m     \u001b[0mope\u001b[0m \u001b[0;34m=\u001b[0m \u001b[0mop\u001b[0m\u001b[0;34m.\u001b[0m\u001b[0mreadlines\u001b[0m\u001b[0;34m(\u001b[0m\u001b[0;34m)\u001b[0m\u001b[0;34m;\u001b[0m\u001b[0;34m\u001b[0m\u001b[0;34m\u001b[0m\u001b[0m\n\u001b[0;32m----> 5\u001b[0;31m \u001b[0mdi1\u001b[0m \u001b[0;34m=\u001b[0m \u001b[0;34m{\u001b[0m\u001b[0mi\u001b[0m\u001b[0;34m[\u001b[0m\u001b[0;36m0\u001b[0m\u001b[0;34m]\u001b[0m\u001b[0;34m:\u001b[0m\u001b[0mi\u001b[0m\u001b[0;34m[\u001b[0m\u001b[0;36m2\u001b[0m\u001b[0;34m:\u001b[0m\u001b[0;36m10\u001b[0m\u001b[0;34m]\u001b[0m\u001b[0;34m.\u001b[0m\u001b[0mstrip\u001b[0m\u001b[0;34m(\u001b[0m\u001b[0;34m)\u001b[0m \u001b[0;32mfor\u001b[0m \u001b[0mi\u001b[0m \u001b[0;32min\u001b[0m \u001b[0mop\u001b[0m \u001b[0;32mif\u001b[0m \u001b[0mi\u001b[0m\u001b[0;34m[\u001b[0m\u001b[0;36m0\u001b[0m\u001b[0;34m]\u001b[0m \u001b[0;34m!=\u001b[0m \u001b[0;34m'#'\u001b[0m\u001b[0;34m}\u001b[0m\u001b[0;34m\u001b[0m\u001b[0;34m\u001b[0m\u001b[0m\n\u001b[0m\u001b[1;32m      6\u001b[0m \u001b[0mdi1\u001b[0m\u001b[0;34m\u001b[0m\u001b[0;34m\u001b[0m\u001b[0m\n\u001b[1;32m      7\u001b[0m \u001b[0;32mfor\u001b[0m \u001b[0ma\u001b[0m \u001b[0;32min\u001b[0m \u001b[0minsulin\u001b[0m\u001b[0;34m:\u001b[0m\u001b[0;34m\u001b[0m\u001b[0;34m\u001b[0m\u001b[0m\n",
      "\u001b[0;31mValueError\u001b[0m: I/O operation on closed file."
     ]
    }
   ],
   "source": [
    "insulin = \"MALWMRLLPLLALLALWGPDPAAAFVNQHLCGSHLVEALYLVCGERGFFYTPKTRREAEDLQVGQVELGGGPGAGSLQPLALEGSLQKRGIVEQCCTSICSLYQLENYCN\"\n",
    "weight = 0\n",
    "with open(\"aamw.txt\") as op:\n",
    "    ope = op.readlines();\n",
    "di1 = {i[0]:i[2:10].strip() for i in op if i[0] != '#'}\n",
    "di1\n",
    "for a in insulin:\n",
    "    weight += float(di1.get(i))\n",
    "print(weight)"
   ]
  },
  {
   "cell_type": "code",
   "execution_count": null,
   "metadata": {},
   "outputs": [],
   "source": []
  }
 ],
 "metadata": {
  "kernelspec": {
   "display_name": "Python 3",
   "language": "python",
   "name": "python3"
  },
  "language_info": {
   "codemirror_mode": {
    "name": "ipython",
    "version": 3
   },
   "file_extension": ".py",
   "mimetype": "text/x-python",
   "name": "python",
   "nbconvert_exporter": "python",
   "pygments_lexer": "ipython3",
   "version": "3.7.4"
  }
 },
 "nbformat": 4,
 "nbformat_minor": 2
}
