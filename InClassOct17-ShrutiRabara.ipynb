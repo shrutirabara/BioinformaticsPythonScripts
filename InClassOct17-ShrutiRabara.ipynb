{
 "cells": [
  {
   "cell_type": "code",
   "execution_count": null,
   "metadata": {},
   "outputs": [],
   "source": [
    "# Filtering and Iterating over Dictionaries -- In Class Oct 17\n",
    "# Shruti Rabara\n",
    "# Date"
   ]
  },
  {
   "cell_type": "markdown",
   "metadata": {},
   "source": [
    "# Let's make an example #\n",
    "\n",
    "In the cell below, create a dictionary called aamws from the file aamw.txt, as we did last time. We'll use this file in our subsequent examples. MAKE SURE THAT YOU PUT THE MOLECULAR WEIGHTS INTO YOUR DICT AS FLOATS and not as strings. It'll make life easier later."
   ]
  },
  {
   "cell_type": "code",
   "execution_count": 30,
   "metadata": {},
   "outputs": [
    {
     "name": "stdout",
     "output_type": "stream",
     "text": [
      "{'I': 131.1736, 'L': 131.1736, 'K': 146.1882, 'M': 149.2124, 'F': 165.19, 'T': 119.1197, 'W': 204.2262, 'V': 117.1469, 'R': 174.2017, 'H': 155.1552, 'A': 89.0935, 'N': 132.1184, 'D': 133.1032, 'C': 121.159, 'E': 147.1299, 'Q': 146.1451, 'G': 75.0669, 'P': 115.131, 'S': 105.093, 'Y': 181.1894}\n"
     ]
    }
   ],
   "source": [
    "dict = {}\n",
    "with open(\"aamw.txt\") as file:\n",
    "    for line in file.readlines():\n",
    "        if line[0] != '#':\n",
    "            dict[line.split()[0].strip()] = float(line.split()[1].strip())\n",
    "    print(dict)"
   ]
  },
  {
   "cell_type": "markdown",
   "metadata": {},
   "source": [
    "# Checking to see if a key is in the dictionary #\n",
    "\n",
    "The in operator is the python3 way of checking to see if a key is in a dictionary. "
   ]
  },
  {
   "cell_type": "code",
   "execution_count": 31,
   "metadata": {},
   "outputs": [
    {
     "name": "stdout",
     "output_type": "stream",
     "text": [
      "131.1736\n"
     ]
    }
   ],
   "source": [
    "if 'I' in dict:\n",
    "    print(dict['I'])"
   ]
  },
  {
   "cell_type": "markdown",
   "metadata": {},
   "source": [
    "# .keys() gets the keys #\n",
    "\n",
    "If you want to access a dictionary via its keys, you can extract just the keys with .keys()\n",
    "\n",
    "print(my_dict.keys())\n",
    "\n",
    "Print the list of keys for your amino acid molecular weights dictionary in the cell below."
   ]
  },
  {
   "cell_type": "code",
   "execution_count": 32,
   "metadata": {},
   "outputs": [
    {
     "name": "stdout",
     "output_type": "stream",
     "text": [
      "dict_keys(['I', 'L', 'K', 'M', 'F', 'T', 'W', 'V', 'R', 'H', 'A', 'N', 'D', 'C', 'E', 'Q', 'G', 'P', 'S', 'Y'])\n"
     ]
    }
   ],
   "source": [
    "print(dict.keys())"
   ]
  },
  {
   "cell_type": "markdown",
   "metadata": {},
   "source": [
    "# .values() gets the values #\n",
    "\n",
    "Just like .keys(), .values() gets just the values for your dictionary.\n",
    "\n",
    "Do this below for your amino acid molecular weights dictionary."
   ]
  },
  {
   "cell_type": "code",
   "execution_count": 33,
   "metadata": {},
   "outputs": [
    {
     "name": "stdout",
     "output_type": "stream",
     "text": [
      "dict_values([131.1736, 131.1736, 146.1882, 149.2124, 165.19, 119.1197, 204.2262, 117.1469, 174.2017, 155.1552, 89.0935, 132.1184, 133.1032, 121.159, 147.1299, 146.1451, 75.0669, 115.131, 105.093, 181.1894])\n"
     ]
    }
   ],
   "source": [
    "print(dict.values())"
   ]
  },
  {
   "cell_type": "markdown",
   "metadata": {},
   "source": [
    "# .items() gets the key:value pairs #\n",
    "\n",
    ".items() works the same way as the other two methods -- but it gets a list of the paired key/value items in your dictionary. Try this below."
   ]
  },
  {
   "cell_type": "code",
   "execution_count": 34,
   "metadata": {},
   "outputs": [
    {
     "name": "stdout",
     "output_type": "stream",
     "text": [
      "dict_items([('I', 131.1736), ('L', 131.1736), ('K', 146.1882), ('M', 149.2124), ('F', 165.19), ('T', 119.1197), ('W', 204.2262), ('V', 117.1469), ('R', 174.2017), ('H', 155.1552), ('A', 89.0935), ('N', 132.1184), ('D', 133.1032), ('C', 121.159), ('E', 147.1299), ('Q', 146.1451), ('G', 75.0669), ('P', 115.131), ('S', 105.093), ('Y', 181.1894)])\n"
     ]
    }
   ],
   "source": [
    "print(dict.items())"
   ]
  },
  {
   "cell_type": "markdown",
   "metadata": {},
   "source": [
    "# Answer this question #\n",
    "\n",
    "What is the list that .items() returns a list of? YOUR ANSWER"
   ]
  },
  {
   "cell_type": "markdown",
   "metadata": {},
   "source": [
    "# What can you do with these objects? #\n",
    "\n",
    "The returned objects from .keys(), .values() and .items() look a lot like lists. But are they? To see what I mean, try to use one of the list methods that we used to change a list in place.  .sort(), or .reverse.\n",
    "\n",
    "Try out dict.keys().sort() on your aamws dictionary. What happens? Are these items actually standard lists? Use type() to find out."
   ]
  },
  {
   "cell_type": "markdown",
   "metadata": {},
   "source": [
    "YOUR ANSWER"
   ]
  },
  {
   "cell_type": "markdown",
   "metadata": {},
   "source": [
    "# Dict objects #\n",
    "\n",
    "Even though you can't use standard list methods on these objects, you can use some of the built-in functions that we know and love.\n",
    "\n",
    "In the cell below, try the following:\n",
    "\n",
    "sorted() on dict.keys()\n",
    "reversed(sorted()) on dict.keys()\n",
    "sum() on dict.values()\n",
    "len() on dict.items()\n",
    "min() on dict.values()\n",
    "max() on dict.values()\n",
    "set() on dict.values()"
   ]
  },
  {
   "cell_type": "markdown",
   "metadata": {},
   "source": [
    "# Change dict objects to lists #\n",
    "\n",
    "Using a function we've seen previously, how would you change a dict keys or dict values object to a regular list, if you needed to? Try it out in the cell below."
   ]
  },
  {
   "cell_type": "code",
   "execution_count": 52,
   "metadata": {},
   "outputs": [
    {
     "name": "stdout",
     "output_type": "stream",
     "text": [
      "[131.1736, 131.1736, 146.1882, 149.2124, 165.19, 119.1197, 204.2262, 117.1469, 174.2017, 155.1552, 89.0935, 132.1184, 133.1032, 121.159, 147.1299, 146.1451, 75.0669, 115.131, 105.093, 181.1894]\n"
     ]
    }
   ],
   "source": [
    "lis = list(dict.values())\n",
    "print(lis)"
   ]
  },
  {
   "cell_type": "markdown",
   "metadata": {},
   "source": [
    "# Getting a value when you have a key #\n",
    "\n",
    "Last time we saw how to use .get() to get the value associated with a key. Use .get() to get the value associated with the amino acid cysteine (C) in the cell below."
   ]
  },
  {
   "cell_type": "code",
   "execution_count": 35,
   "metadata": {},
   "outputs": [
    {
     "data": {
      "text/plain": [
       "121.159"
      ]
     },
     "execution_count": 35,
     "metadata": {},
     "output_type": "execute_result"
    }
   ],
   "source": [
    "dict.get('C')"
   ]
  },
  {
   "cell_type": "markdown",
   "metadata": {},
   "source": [
    "# Getting a key when you have a value #\n",
    "\n",
    "We can also get a key when we know a value. This can be fraught with danger because sometimes we have values that are non-unique. But if we do something like, say, getting the min() or max() of a list of values, then we can go back and get the corresponding key by iterating over the items.\n",
    "\n",
    "# Iterating over .items() #\n",
    "\n",
    ".items() returns a tuple-like object, so you need to iterate over it with a statement that has a variable for each value in the tuple:\n",
    "\n",
    "``for aa,mw in aamws.items():\n",
    "    if mw == the_value_i_want:\n",
    "        the_answer = aa```"
   ]
  },
  {
   "cell_type": "code",
   "execution_count": 37,
   "metadata": {},
   "outputs": [
    {
     "name": "stdout",
     "output_type": "stream",
     "text": [
      "L\n"
     ]
    }
   ],
   "source": [
    "value = 131.1736\n",
    "ans = 0\n",
    "for aa,mw in dict.items():\n",
    "    if mw == value:\n",
    "        ans = aa\n",
    "print(ans)"
   ]
  },
  {
   "cell_type": "markdown",
   "metadata": {},
   "source": [
    "# Iterating over .keys() #\n",
    "\n",
    "To iterate over only the keys in your dictionary and get the associated values, you would use a loop like:\n",
    "\n",
    "```for aa in aamws.keys():\n",
    "    print(aamws[aa])```"
   ]
  },
  {
   "cell_type": "code",
   "execution_count": 53,
   "metadata": {},
   "outputs": [
    {
     "name": "stdout",
     "output_type": "stream",
     "text": [
      "131.1736\n",
      "131.1736\n",
      "146.1882\n",
      "149.2124\n",
      "165.19\n",
      "119.1197\n",
      "204.2262\n",
      "117.1469\n",
      "174.2017\n",
      "155.1552\n",
      "89.0935\n",
      "132.1184\n",
      "133.1032\n",
      "121.159\n",
      "147.1299\n",
      "146.1451\n",
      "75.0669\n",
      "115.131\n",
      "105.093\n",
      "181.1894\n"
     ]
    }
   ],
   "source": [
    "for aa in dict.keys():\n",
    "    print(dict[aa])"
   ]
  },
  {
   "cell_type": "markdown",
   "metadata": {},
   "source": [
    "# Sorting .keys() #\n",
    "\n",
    "You can use sorted() and reversed() with dict object types. In the cell below, access your keys in sorted() and reversed(sorted()) order to print out the amino acid molecular weight list in alphabetical and reverse alphabetical order."
   ]
  },
  {
   "cell_type": "code",
   "execution_count": 54,
   "metadata": {},
   "outputs": [
    {
     "name": "stdout",
     "output_type": "stream",
     "text": [
      "A\n",
      "C\n",
      "D\n",
      "E\n",
      "F\n",
      "G\n",
      "H\n",
      "I\n",
      "K\n",
      "L\n",
      "M\n",
      "N\n",
      "P\n",
      "Q\n",
      "R\n",
      "S\n",
      "T\n",
      "V\n",
      "W\n",
      "Y\n",
      "Y\n",
      "W\n",
      "V\n",
      "T\n",
      "S\n",
      "R\n",
      "Q\n",
      "P\n",
      "N\n",
      "M\n",
      "L\n",
      "K\n",
      "I\n",
      "H\n",
      "G\n",
      "F\n",
      "E\n",
      "D\n",
      "C\n",
      "A\n"
     ]
    }
   ],
   "source": [
    "for i in sorted(dict.keys()):\n",
    "    print(i)\n",
    "    \n",
    "for k in reversed(sorted(dict.keys())):\n",
    "    print(k)"
   ]
  },
  {
   "cell_type": "markdown",
   "metadata": {},
   "source": [
    "# Iterating over .values() #\n",
    "\n",
    "You can, but should you? Let's try.\n",
    "\n",
    "```for mw in aamws.values():```\n",
    "\n",
    "Starting from this point, and with what we learned above, would you have to do to go back and get the keys for each value in the list?\n",
    "\n",
    "Would it be a good idea to get set(dict.values()) and iterate over that instead? Why? "
   ]
  },
  {
   "cell_type": "code",
   "execution_count": 55,
   "metadata": {},
   "outputs": [
    {
     "name": "stdout",
     "output_type": "stream",
     "text": [
      "131.1736\n",
      "131.1736\n",
      "146.1882\n",
      "149.2124\n",
      "165.19\n",
      "119.1197\n",
      "204.2262\n",
      "117.1469\n",
      "174.2017\n",
      "155.1552\n",
      "89.0935\n",
      "132.1184\n",
      "133.1032\n",
      "121.159\n",
      "147.1299\n",
      "146.1451\n",
      "75.0669\n",
      "115.131\n",
      "105.093\n",
      "181.1894\n"
     ]
    }
   ],
   "source": [
    "for mw in dict.values():\n",
    "    print(mw)"
   ]
  },
  {
   "cell_type": "markdown",
   "metadata": {},
   "source": [
    "YOUR ANSWER"
   ]
  }
 ],
 "metadata": {
  "kernelspec": {
   "display_name": "Python 3",
   "language": "python",
   "name": "python3"
  },
  "language_info": {
   "codemirror_mode": {
    "name": "ipython",
    "version": 3
   },
   "file_extension": ".py",
   "mimetype": "text/x-python",
   "name": "python",
   "nbconvert_exporter": "python",
   "pygments_lexer": "ipython3",
   "version": "3.7.4"
  }
 },
 "nbformat": 4,
 "nbformat_minor": 2
}
