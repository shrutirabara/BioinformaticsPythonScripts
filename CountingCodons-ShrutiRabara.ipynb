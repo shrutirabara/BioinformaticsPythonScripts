{
 "cells": [
  {
   "cell_type": "code",
   "execution_count": null,
   "metadata": {},
   "outputs": [],
   "source": [
    "#Counting Codons Lab Sept. 19 Submission\n",
    "#Date\n",
    "#Shruti Rabara"
   ]
  },
  {
   "cell_type": "markdown",
   "metadata": {},
   "source": [
    "# Using multiple loops #\n",
    "\n",
    "What we want to do in this problem is take a DNA sequence and count up how many types of codons are used.\n",
    "\n",
    "The first thing we need is to generate a list that will give us a *reference* list for all the codons. We need that so that we can tell the .count() statement what to count.\n",
    "\n",
    "We did this problem once already to show how loops could nest. You need an outer loop that steps through A,T,G,C to get the first nucleotide, and then an inner loop that does the same thing to get the second nucleotide, and then a further inner loop that gets the third nucleotide.\n",
    "\n",
    "```for i in [A,T,G,C]:\n",
    "    for j in [A,T,G,C]:\n",
    "        for k in [A,T,G,C]:\n",
    "            print(i + j + k)```\n",
    "\n",
    "Modify this code so that:\n",
    "- it's in a function\n",
    "- the codons get appended to a list instead of printed\n",
    "- the function returns the list of codons"
   ]
  },
  {
   "cell_type": "code",
   "execution_count": 38,
   "metadata": {},
   "outputs": [
    {
     "data": {
      "text/plain": [
       "['AAA',\n",
       " 'AAT',\n",
       " 'AAG',\n",
       " 'AAC',\n",
       " 'ATA',\n",
       " 'ATT',\n",
       " 'ATG',\n",
       " 'ATC',\n",
       " 'AGA',\n",
       " 'AGT',\n",
       " 'AGG',\n",
       " 'AGC',\n",
       " 'ACA',\n",
       " 'ACT',\n",
       " 'ACG',\n",
       " 'ACC',\n",
       " 'TAA',\n",
       " 'TAT',\n",
       " 'TAG',\n",
       " 'TAC',\n",
       " 'TTA',\n",
       " 'TTT',\n",
       " 'TTG',\n",
       " 'TTC',\n",
       " 'TGA',\n",
       " 'TGT',\n",
       " 'TGG',\n",
       " 'TGC',\n",
       " 'TCA',\n",
       " 'TCT',\n",
       " 'TCG',\n",
       " 'TCC',\n",
       " 'GAA',\n",
       " 'GAT',\n",
       " 'GAG',\n",
       " 'GAC',\n",
       " 'GTA',\n",
       " 'GTT',\n",
       " 'GTG',\n",
       " 'GTC',\n",
       " 'GGA',\n",
       " 'GGT',\n",
       " 'GGG',\n",
       " 'GGC',\n",
       " 'GCA',\n",
       " 'GCT',\n",
       " 'GCG',\n",
       " 'GCC',\n",
       " 'CAA',\n",
       " 'CAT',\n",
       " 'CAG',\n",
       " 'CAC',\n",
       " 'CTA',\n",
       " 'CTT',\n",
       " 'CTG',\n",
       " 'CTC',\n",
       " 'CGA',\n",
       " 'CGT',\n",
       " 'CGG',\n",
       " 'CGC',\n",
       " 'CCA',\n",
       " 'CCT',\n",
       " 'CCG',\n",
       " 'CCC']"
      ]
     },
     "execution_count": 38,
     "metadata": {},
     "output_type": "execute_result"
    }
   ],
   "source": [
    "\n",
    "def list_of_codons():\n",
    "    codon = []\n",
    "    for i in ['A','T','G','C']:\n",
    "        \n",
    "        for j in ['A','T','G','C']:\n",
    "            \n",
    "            for k in ['A','T','G','C']:\n",
    "                codon.append(i + j + k)\n",
    "    return codon\n",
    "                \n",
    "list_of_codons()"
   ]
  },
  {
   "cell_type": "markdown",
   "metadata": {},
   "source": [
    "# Extracting the codons in one frame #\n",
    "\n",
    "If we just straight up used .count() to count each of our types of codons, that wouldn't quite get us what we want. Gene sequences are read in READING FRAMES, and the codon frequencies that matter are the ones in the encoded genes, not the more random codons in the frames that don't get read. So what we'd really want to do is count only the codons in frame 1, only the codons in frame 2, etc.\n",
    "\n",
    "Let's just start by counting the codons in frame 1. That means we assume that the very first character of the sequence, [0], is also the start of the gene. \n",
    "\n",
    "You'll remember in slice notation, that we can ask for a slice that has *steps*, [start:stop:step], so that we'd only get every third character, or whatever we specified as the step. And if we put -1 in the step field [::-1], we get the whole sequence in reverse.\n",
    "\n",
    "Range can also use a step. Run the cell below to see how it works."
   ]
  },
  {
   "cell_type": "code",
   "execution_count": 3,
   "metadata": {},
   "outputs": [
    {
     "name": "stdout",
     "output_type": "stream",
     "text": [
      "0\n",
      "5\n",
      "10\n",
      "15\n",
      "20\n",
      "25\n",
      "30\n",
      "35\n",
      "40\n",
      "45\n",
      "50\n",
      "55\n",
      "60\n",
      "65\n",
      "70\n",
      "75\n",
      "80\n",
      "85\n",
      "90\n",
      "95\n"
     ]
    }
   ],
   "source": [
    "for i in range(0,100,5):\n",
    "    print(i)"
   ]
  },
  {
   "cell_type": "code",
   "execution_count": null,
   "metadata": {},
   "outputs": [],
   "source": [
    "TetW = \"\"\"ATGAAAATAATCAATATTGGAATTCTTGCCCATGTAGACGCTGGAAAGACGACCTTGACGGAGAGCCTGC\n",
    "TATATGCCAGCGGAGCCATTTCAGAACCGGGGAGCGTCAAAAAAGGGACAACGAGGACGGACACCATGTT\n",
    "TTTGGAGCGGCAGCGTGGGATTACCATTCAAGCGGCAGTCACTTCCTTCCAGTGGCACAGATGTAAAGTC\n",
    "AACATTGTGGATACGCCCGGCCACATGGATTTTTTGGCGGAGGTGTACCGCTCTTTGGCTGTTTTAGATG\n",
    "GGGCCATCTTGGTGATCTCCGCTAAAGATGGCGTGCAGGCCCAGACCCGTATTCTGTTCCATGCCCTGCG\n",
    "GAAAATGAACATTCCCACCGTTATCTTTATCAACAAGATCGACCAGGCTGGCGTTGATTTGCAGAGCGTG\n",
    "GTTCAGTCTGTTCGGGATAAGCTCTCCGCCGATATTATCATCAAGCAGACGGTGTCGCTGTCCCCGGAAA\n",
    "TAGTCCTGGAGGAAAATACCGACATAGAAGCATGGGATGCGGTCATCGAAAATAACGATAAATTATTGGA\n",
    "AAAGTATATCGCAGGAGAACCAATCAGCCGGGAAAAACTTGTGCGGGAGGAACAGCGGCGGGTTCAAGAC\n",
    "GCCTCCCTGTTCCCGGTCTATTATGGCAGCGCCAAAAAGGGCCTTGGCATTCAACCGTTGATGGATGCGG\n",
    "TGACAGGGCTGTTCCAACCGATTGGGGAACAGGGGAGCGCCGCCCTATGCGGCAGCGTTTTCAAGGTGGA\n",
    "GTATACAGATTGCGGCCAGCGGCGTGTCTATCTACGGCTATACAGCGGAACGCTGCGCCTGCGGGATACG\n",
    "GTGGCCCTGGCCGGGAGAGAAAAGCTGAAAATCACAGAGATGCGTATTCCATCCAAAGGGGAAATTGTTC\n",
    "GGACAGACACCGCTTATCCGGGTGAAATTGTTATCCTTCCCAGCGACAGCGTGAGGTTAAACGATGTATT\n",
    "AGGGGACCCAACCCGGCTCCCTCGTAAAAGGTGGCGTGAGGACCCCCTCCCCATGCTGCGGACGTCGATT\n",
    "GCGCCGAAAACGGCAGCGCAAAGAGAACGGCTGCTGGACGCTCTTACGCAACTTGCGGATACTGACCCGC\n",
    "TTTTGCGCTGCGAGGTGGATTCCATCACCCATGAGATCATTCTTTCTTTTTTGGGCCGGGTGCAGTTGGA\n",
    "GGTTGTTTCCGCTTTGCTGTCGGAAAAATACAAGCTTGAAACAGTGGTAAAGGAACCCACCGTCATTTAT\n",
    "ATGGAGCGGCCGCTCAAAGCAGCCAGCCACACCATCCATATCGAGGTGCCGCCCAACCCGTTTTGGGCAT\n",
    "CCATCGGACTGTCTGTTACACCACTCCCGCTTGGCTCCGGTGTACAATACGAGAGCCGGGTTTCGCTGGG\n",
    "ATACTTGAACCAGAGTTTTCAAAACGCTGTCAGGGATGGTATCCGTTACGGGCTGGAGCAGGGCTTGTTC\n",
    "GGCTGGAACGTAACGGACTGTAAGATTTGCTTTGAATACGGGCTTTATTACAGTCCGGTCAGCACGCCGG\n",
    "CGGACTTCCGCTCATTGGCCCCGATTGTATTGGAACAGGCATTGAAGGAATCAGGGACGCAACTGCTGGA\n",
    "ACCTTATCTCTCCTTCACCCTCTATGCGCCCCGGGAATATCTTTCCAGGGCTTATCATGATGCACCGAAA\n",
    "TACTGTGCCACCATCGAAACGGTCCAGGTAAAAAAGGATGAAGTTGTCTTTACTGGCGAGATTCCCGCCC\n",
    "GCTGTATACAGGCATACCGTACTGATCTGGCCTCTTACACCAACGGGCAGAGCGTATGCCTTACAGAACT\n",
    "GAAAGGGTATCAGGCCGCTGTCGGCAAGCCAGTCATCCAGCCCCGCCGTCCAAACAGCCGCCTGGACAAG\n",
    "GTGCGCTATATGTTTCAGAAGATAATGTAA\"\"\"\n",
    "Tetlist = TetW.split()\n",
    "TetW = \"\".join(Tetlist)"
   ]
  },
  {
   "cell_type": "markdown",
   "metadata": {},
   "source": [
    "# Combine range with step and slicing #\n",
    "\n",
    "The sequence above, which has been assigned to the variable name TetW for your convenience, is a bacterial antibiotic resistance gene that is acquired by bacteria as part of a plasmid. It is a single-exon gene, and obeys the typical genetic code shown in the slides. In the first cell below, calculate the length of TetW and find out whether it is divisible by 3.\n",
    "\n",
    "Then consider how you would combine the range with step and taking a slice of the sequence to break out each codon as an individual item. \n",
    "\n",
    "- the range counter is going to be a part of the slice equation so that the slice changes as it increments up\n",
    "- remember to define empty lists you need outside the loop, and .append() inside the loop\n",
    "\n",
    "In the second cell below, write a for loop that steps through the codons in a sequence in one frame and adds them to a list."
   ]
  },
  {
   "cell_type": "code",
   "execution_count": 5,
   "metadata": {
    "scrolled": true
   },
   "outputs": [
    {
     "name": "stdout",
     "output_type": "stream",
     "text": [
      "1920\n"
     ]
    }
   ],
   "source": [
    "TetW = \"\"\"ATGAAAATAATCAATATTGGAATTCTTGCCCATGTAGACGCTGGAAAGACGACCTTGACGGAGAGCCTGC\n",
    "TATATGCCAGCGGAGCCATTTCAGAACCGGGGAGCGTCAAAAAAGGGACAACGAGGACGGACACCATGTT\n",
    "TTTGGAGCGGCAGCGTGGGATTACCATTCAAGCGGCAGTCACTTCCTTCCAGTGGCACAGATGTAAAGTC\n",
    "AACATTGTGGATACGCCCGGCCACATGGATTTTTTGGCGGAGGTGTACCGCTCTTTGGCTGTTTTAGATG\n",
    "GGGCCATCTTGGTGATCTCCGCTAAAGATGGCGTGCAGGCCCAGACCCGTATTCTGTTCCATGCCCTGCG\n",
    "GAAAATGAACATTCCCACCGTTATCTTTATCAACAAGATCGACCAGGCTGGCGTTGATTTGCAGAGCGTG\n",
    "GTTCAGTCTGTTCGGGATAAGCTCTCCGCCGATATTATCATCAAGCAGACGGTGTCGCTGTCCCCGGAAA\n",
    "TAGTCCTGGAGGAAAATACCGACATAGAAGCATGGGATGCGGTCATCGAAAATAACGATAAATTATTGGA\n",
    "AAAGTATATCGCAGGAGAACCAATCAGCCGGGAAAAACTTGTGCGGGAGGAACAGCGGCGGGTTCAAGAC\n",
    "GCCTCCCTGTTCCCGGTCTATTATGGCAGCGCCAAAAAGGGCCTTGGCATTCAACCGTTGATGGATGCGG\n",
    "TGACAGGGCTGTTCCAACCGATTGGGGAACAGGGGAGCGCCGCCCTATGCGGCAGCGTTTTCAAGGTGGA\n",
    "GTATACAGATTGCGGCCAGCGGCGTGTCTATCTACGGCTATACAGCGGAACGCTGCGCCTGCGGGATACG\n",
    "GTGGCCCTGGCCGGGAGAGAAAAGCTGAAAATCACAGAGATGCGTATTCCATCCAAAGGGGAAATTGTTC\n",
    "GGACAGACACCGCTTATCCGGGTGAAATTGTTATCCTTCCCAGCGACAGCGTGAGGTTAAACGATGTATT\n",
    "AGGGGACCCAACCCGGCTCCCTCGTAAAAGGTGGCGTGAGGACCCCCTCCCCATGCTGCGGACGTCGATT\n",
    "GCGCCGAAAACGGCAGCGCAAAGAGAACGGCTGCTGGACGCTCTTACGCAACTTGCGGATACTGACCCGC\n",
    "TTTTGCGCTGCGAGGTGGATTCCATCACCCATGAGATCATTCTTTCTTTTTTGGGCCGGGTGCAGTTGGA\n",
    "GGTTGTTTCCGCTTTGCTGTCGGAAAAATACAAGCTTGAAACAGTGGTAAAGGAACCCACCGTCATTTAT\n",
    "ATGGAGCGGCCGCTCAAAGCAGCCAGCCACACCATCCATATCGAGGTGCCGCCCAACCCGTTTTGGGCAT\n",
    "CCATCGGACTGTCTGTTACACCACTCCCGCTTGGCTCCGGTGTACAATACGAGAGCCGGGTTTCGCTGGG\n",
    "ATACTTGAACCAGAGTTTTCAAAACGCTGTCAGGGATGGTATCCGTTACGGGCTGGAGCAGGGCTTGTTC\n",
    "GGCTGGAACGTAACGGACTGTAAGATTTGCTTTGAATACGGGCTTTATTACAGTCCGGTCAGCACGCCGG\n",
    "CGGACTTCCGCTCATTGGCCCCGATTGTATTGGAACAGGCATTGAAGGAATCAGGGACGCAACTGCTGGA\n",
    "ACCTTATCTCTCCTTCACCCTCTATGCGCCCCGGGAATATCTTTCCAGGGCTTATCATGATGCACCGAAA\n",
    "TACTGTGCCACCATCGAAACGGTCCAGGTAAAAAAGGATGAAGTTGTCTTTACTGGCGAGATTCCCGCCC\n",
    "GCTGTATACAGGCATACCGTACTGATCTGGCCTCTTACACCAACGGGCAGAGCGTATGCCTTACAGAACT\n",
    "GAAAGGGTATCAGGCCGCTGTCGGCAAGCCAGTCATCCAGCCCCGCCGTCCAAACAGCCGCCTGGACAAG\n",
    "GTGCGCTATATGTTTCAGAAGATAATGTAA\"\"\"\n",
    "Tetlist = TetW.split()\n",
    "TetW = \"\".join(Tetlist)\n",
    "print(len(TetW))"
   ]
  },
  {
   "cell_type": "code",
   "execution_count": 21,
   "metadata": {},
   "outputs": [
    {
     "name": "stdout",
     "output_type": "stream",
     "text": [
      "['ATG', 'AAA', 'ATA', 'ATC', 'AAT', 'ATT', 'GGA', 'ATT', 'CTT', 'GCC', 'CAT', 'GTA', 'GAC', 'GCT', 'GGA', 'AAG', 'ACG', 'ACC', 'TTG', 'ACG', 'GAG', 'AGC', 'CTG', 'C\\nT', 'ATA', 'TGC', 'CAG', 'CGG', 'AGC', 'CAT', 'TTC', 'AGA', 'ACC', 'GGG', 'GAG', 'CGT', 'CAA', 'AAA', 'AGG', 'GAC', 'AAC', 'GAG', 'GAC', 'GGA', 'CAC', 'CAT', 'GTT', '\\nTT', 'TGG', 'AGC', 'GGC', 'AGC', 'GTG', 'GGA', 'TTA', 'CCA', 'TTC', 'AAG', 'CGG', 'CAG', 'TCA', 'CTT', 'CCT', 'TCC', 'AGT', 'GGC', 'ACA', 'GAT', 'GTA', 'AAG', 'TC\\n', 'AAC', 'ATT', 'GTG', 'GAT', 'ACG', 'CCC', 'GGC', 'CAC', 'ATG', 'GAT', 'TTT', 'TTG', 'GCG', 'GAG', 'GTG', 'TAC', 'CGC', 'TCT', 'TTG', 'GCT', 'GTT', 'TTA', 'GAT', 'G\\nG', 'GGC', 'CAT', 'CTT', 'GGT', 'GAT', 'CTC', 'CGC', 'TAA', 'AGA', 'TGG', 'CGT', 'GCA', 'GGC', 'CCA', 'GAC', 'CCG', 'TAT', 'TCT', 'GTT', 'CCA', 'TGC', 'CCT', 'GCG', '\\nGA', 'AAA', 'TGA', 'ACA', 'TTC', 'CCA', 'CCG', 'TTA', 'TCT', 'TTA', 'TCA', 'ACA', 'AGA', 'TCG', 'ACC', 'AGG', 'CTG', 'GCG', 'TTG', 'ATT', 'TGC', 'AGA', 'GCG', 'TG\\n', 'GTT', 'CAG', 'TCT', 'GTT', 'CGG', 'GAT', 'AAG', 'CTC', 'TCC', 'GCC', 'GAT', 'ATT', 'ATC', 'ATC', 'AAG', 'CAG', 'ACG', 'GTG', 'TCG', 'CTG', 'TCC', 'CCG', 'GAA', 'A\\nT', 'AGT', 'CCT', 'GGA', 'GGA', 'AAA', 'TAC', 'CGA', 'CAT', 'AGA', 'AGC', 'ATG', 'GGA', 'TGC', 'GGT', 'CAT', 'CGA', 'AAA', 'TAA', 'CGA', 'TAA', 'ATT', 'ATT', 'GGA', '\\nAA', 'AGT', 'ATA', 'TCG', 'CAG', 'GAG', 'AAC', 'CAA', 'TCA', 'GCC', 'GGG', 'AAA', 'AAC', 'TTG', 'TGC', 'GGG', 'AGG', 'AAC', 'AGC', 'GGC', 'GGG', 'TTC', 'AAG', 'AC\\n', 'GCC', 'TCC', 'CTG', 'TTC', 'CCG', 'GTC', 'TAT', 'TAT', 'GGC', 'AGC', 'GCC', 'AAA', 'AAG', 'GGC', 'CTT', 'GGC', 'ATT', 'CAA', 'CCG', 'TTG', 'ATG', 'GAT', 'GCG', 'G\\nT', 'GAC', 'AGG', 'GCT', 'GTT', 'CCA', 'ACC', 'GAT', 'TGG', 'GGA', 'ACA', 'GGG', 'GAG', 'CGC', 'CGC', 'CCT', 'ATG', 'CGG', 'CAG', 'CGT', 'TTT', 'CAA', 'GGT', 'GGA', '\\nGT', 'ATA', 'CAG', 'ATT', 'GCG', 'GCC', 'AGC', 'GGC', 'GTG', 'TCT', 'ATC', 'TAC', 'GGC', 'TAT', 'ACA', 'GCG', 'GAA', 'CGC', 'TGC', 'GCC', 'TGC', 'GGG', 'ATA', 'CG\\n', 'GTG', 'GCC', 'CTG', 'GCC', 'GGG', 'AGA', 'GAA', 'AAG', 'CTG', 'AAA', 'ATC', 'ACA', 'GAG', 'ATG', 'CGT', 'ATT', 'CCA', 'TCC', 'AAA', 'GGG', 'GAA', 'ATT', 'GTT', 'C\\nG', 'GAC', 'AGA', 'CAC', 'CGC', 'TTA', 'TCC', 'GGG', 'TGA', 'AAT', 'TGT', 'TAT', 'CCT', 'TCC', 'CAG', 'CGA', 'CAG', 'CGT', 'GAG', 'GTT', 'AAA', 'CGA', 'TGT', 'ATT', '\\nAG', 'GGG', 'ACC', 'CAA', 'CCC', 'GGC', 'TCC', 'CTC', 'GTA', 'AAA', 'GGT', 'GGC', 'GTG', 'AGG', 'ACC', 'CCC', 'TCC', 'CCA', 'TGC', 'TGC', 'GGA', 'CGT', 'CGA', 'TT\\n', 'GCG', 'CCG', 'AAA', 'ACG', 'GCA', 'GCG', 'CAA', 'AGA', 'GAA', 'CGG', 'CTG', 'CTG', 'GAC', 'GCT', 'CTT', 'ACG', 'CAA', 'CTT', 'GCG', 'GAT', 'ACT', 'GAC', 'CCG', 'C\\nT', 'TTT', 'GCG', 'CTG', 'CGA', 'GGT', 'GGA', 'TTC', 'CAT', 'CAC', 'CCA', 'TGA', 'GAT', 'CAT', 'TCT', 'TTC', 'TTT', 'TTT', 'GGG', 'CCG', 'GGT', 'GCA', 'GTT', 'GGA', '\\nGG', 'TTG', 'TTT', 'CCG', 'CTT', 'TGC', 'TGT', 'CGG', 'AAA', 'AAT', 'ACA', 'AGC', 'TTG', 'AAA', 'CAG', 'TGG', 'TAA', 'AGG', 'AAC', 'CCA', 'CCG', 'TCA', 'TTT', 'AT\\n', 'ATG', 'GAG', 'CGG', 'CCG', 'CTC', 'AAA', 'GCA', 'GCC', 'AGC', 'CAC', 'ACC', 'ATC', 'CAT', 'ATC', 'GAG', 'GTG', 'CCG', 'CCC', 'AAC', 'CCG', 'TTT', 'TGG', 'GCA', 'T\\nC', 'CAT', 'CGG', 'ACT', 'GTC', 'TGT', 'TAC', 'ACC', 'ACT', 'CCC', 'GCT', 'TGG', 'CTC', 'CGG', 'TGT', 'ACA', 'ATA', 'CGA', 'GAG', 'CCG', 'GGT', 'TTC', 'GCT', 'GGG', '\\nAT', 'ACT', 'TGA', 'ACC', 'AGA', 'GTT', 'TTC', 'AAA', 'ACG', 'CTG', 'TCA', 'GGG', 'ATG', 'GTA', 'TCC', 'GTT', 'ACG', 'GGC', 'TGG', 'AGC', 'AGG', 'GCT', 'TGT', 'TC\\n', 'GGC', 'TGG', 'AAC', 'GTA', 'ACG', 'GAC', 'TGT', 'AAG', 'ATT', 'TGC', 'TTT', 'GAA', 'TAC', 'GGG', 'CTT', 'TAT', 'TAC', 'AGT', 'CCG', 'GTC', 'AGC', 'ACG', 'CCG', 'G\\nC', 'GGA', 'CTT', 'CCG', 'CTC', 'ATT', 'GGC', 'CCC', 'GAT', 'TGT', 'ATT', 'GGA', 'ACA', 'GGC', 'ATT', 'GAA', 'GGA', 'ATC', 'AGG', 'GAC', 'GCA', 'ACT', 'GCT', 'GGA', '\\nAC', 'CTT', 'ATC', 'TCT', 'CCT', 'TCA', 'CCC', 'TCT', 'ATG', 'CGC', 'CCC', 'GGG', 'AAT', 'ATC', 'TTT', 'CCA', 'GGG', 'CTT', 'ATC', 'ATG', 'ATG', 'CAC', 'CGA', 'AA\\n', 'TAC', 'TGT', 'GCC', 'ACC', 'ATC', 'GAA', 'ACG', 'GTC', 'CAG', 'GTA', 'AAA', 'AAG', 'GAT', 'GAA', 'GTT', 'GTC', 'TTT', 'ACT', 'GGC', 'GAG', 'ATT', 'CCC', 'GCC', 'C\\nG', 'CTG', 'TAT', 'ACA', 'GGC', 'ATA', 'CCG', 'TAC', 'TGA', 'TCT', 'GGC', 'CTC', 'TTA', 'CAC', 'CAA', 'CGG', 'GCA', 'GAG', 'CGT', 'ATG', 'CCT', 'TAC', 'AGA', 'ACT', '\\nGA', 'AAG', 'GGT', 'ATC', 'AGG', 'CCG', 'CTG', 'TCG', 'GCA', 'AGC', 'CAG', 'TCA', 'TCC', 'AGC', 'CCC', 'GCC', 'GTC', 'CAA', 'ACA', 'GCC', 'GCC', 'TGG', 'ACA', 'AG\\n', 'GTG', 'CGC', 'TAT', 'ATG', 'TTT', 'CAG', 'AAG', 'ATA', 'ATG', 'TAA', 'TGA', 'AAA', 'TAA', 'TCA', 'ATA', 'TTG', 'GAA', 'TTC', 'TTG', 'CCC', 'ATG', 'TAG', 'ACG', 'CTG', 'GAA', 'AGA', 'CGA', 'CCT', 'TGA', 'CGG', 'AGA', 'GCC', 'TGC', '\\nTA', 'TAT', 'GCC', 'AGC', 'GGA', 'GCC', 'ATT', 'TCA', 'GAA', 'CCG', 'GGG', 'AGC', 'GTC', 'AAA', 'AAA', 'GGG', 'ACA', 'ACG', 'AGG', 'ACG', 'GAC', 'ACC', 'ATG', 'TT\\n', 'TTT', 'GGA', 'GCG', 'GCA', 'GCG', 'TGG', 'GAT', 'TAC', 'CAT', 'TCA', 'AGC', 'GGC', 'AGT', 'CAC', 'TTC', 'CTT', 'CCA', 'GTG', 'GCA', 'CAG', 'ATG', 'TAA', 'AGT', 'C\\nA', 'ACA', 'TTG', 'TGG', 'ATA', 'CGC', 'CCG', 'GCC', 'ACA', 'TGG', 'ATT', 'TTT', 'TGG', 'CGG', 'AGG', 'TGT', 'ACC', 'GCT', 'CTT', 'TGG', 'CTG', 'TTT', 'TAG', 'ATG', '\\nGG', 'GCC', 'ATC', 'TTG', 'GTG', 'ATC', 'TCC', 'GCT', 'AAA', 'GAT', 'GGC', 'GTG', 'CAG', 'GCC', 'CAG', 'ACC', 'CGT', 'ATT', 'CTG', 'TTC', 'CAT', 'GCC', 'CTG', 'CG\\n', 'GAA', 'AAT', 'GAA', 'CAT', 'TCC', 'CAC', 'CGT', 'TAT', 'CTT', 'TAT', 'CAA', 'CAA', 'GAT', 'CGA', 'CCA', 'GGC', 'TGG', 'CGT', 'TGA', 'TTT', 'GCA', 'GAG', 'CGT', 'G\\nG', 'TTC', 'AGT', 'CTG', 'TTC', 'GGG', 'ATA', 'AGC', 'TCT', 'CCG', 'CCG', 'ATA', 'TTA', 'TCA', 'TCA', 'AGC', 'AGA', 'CGG', 'TGT', 'CGC', 'TGT', 'CCC', 'CGG', 'AAA', '\\nTA', 'GTC', 'CTG', 'GAG', 'GAA', 'AAT', 'ACC', 'GAC', 'ATA', 'GAA', 'GCA', 'TGG', 'GAT', 'GCG', 'GTC', 'ATC', 'GAA', 'AAT', 'AAC', 'GAT', 'AAA', 'TTA', 'TTG', 'GA\\n', 'AAA', 'GTA', 'TAT', 'CGC', 'AGG', 'AGA', 'ACC', 'AAT', 'CAG', 'CCG', 'GGA', 'AAA', 'ACT', 'TGT', 'GCG', 'GGA', 'GGA', 'ACA', 'GCG', 'GCG', 'GGT', 'TCA', 'AGA', 'C\\nG', 'CCT', 'CCC', 'TGT', 'TCC', 'CGG', 'TCT', 'ATT', 'ATG', 'GCA', 'GCG', 'CCA', 'AAA', 'AGG', 'GCC', 'TTG', 'GCA', 'TTC', 'AAC', 'CGT', 'TGA', 'TGG', 'ATG', 'CGG', '\\nTG', 'ACA', 'GGG', 'CTG', 'TTC', 'CAA', 'CCG', 'ATT', 'GGG', 'GAA', 'CAG', 'GGG', 'AGC', 'GCC', 'GCC', 'CTA', 'TGC', 'GGC', 'AGC', 'GTT', 'TTC', 'AAG', 'GTG', 'GA\\n', 'GTA', 'TAC', 'AGA', 'TTG', 'CGG', 'CCA', 'GCG', 'GCG', 'TGT', 'CTA', 'TCT', 'ACG', 'GCT', 'ATA', 'CAG', 'CGG', 'AAC', 'GCT', 'GCG', 'CCT', 'GCG', 'GGA', 'TAC', 'G\\nG', 'TGG', 'CCC', 'TGG', 'CCG', 'GGA', 'GAG', 'AAA', 'AGC', 'TGA', 'AAA', 'TCA', 'CAG', 'AGA', 'TGC', 'GTA', 'TTC', 'CAT', 'CCA', 'AAG', 'GGG', 'AAA', 'TTG', 'TTC', '\\nGG', 'ACA', 'GAC', 'ACC', 'GCT', 'TAT', 'CCG', 'GGT', 'GAA', 'ATT', 'GTT', 'ATC', 'CTT', 'CCC', 'AGC', 'GAC', 'AGC', 'GTG', 'AGG', 'TTA', 'AAC', 'GAT', 'GTA', 'TT\\n', 'AGG', 'GGA', 'CCC', 'AAC', 'CCG', 'GCT', 'CCC', 'TCG', 'TAA', 'AAG', 'GTG', 'GCG', 'TGA', 'GGA', 'CCC', 'CCT', 'CCC', 'CAT', 'GCT', 'GCG', 'GAC', 'GTC', 'GAT', 'T\\nG', 'CGC', 'CGA', 'AAA', 'CGG', 'CAG', 'CGC', 'AAA', 'GAG', 'AAC', 'GGC', 'TGC', 'TGG', 'ACG', 'CTC', 'TTA', 'CGC', 'AAC', 'TTG', 'CGG', 'ATA', 'CTG', 'ACC', 'CGC', '\\nTT', 'TTG', 'CGC', 'TGC', 'GAG', 'GTG', 'GAT', 'TCC', 'ATC', 'ACC', 'CAT', 'GAG', 'ATC', 'ATT', 'CTT', 'TCT', 'TTT', 'TTG', 'GGC', 'CGG', 'GTG', 'CAG', 'TTG', 'GA\\n', 'GGT', 'TGT', 'TTC', 'CGC', 'TTT', 'GCT', 'GTC', 'GGA', 'AAA', 'ATA', 'CAA', 'GCT', 'TGA', 'AAC', 'AGT', 'GGT', 'AAA', 'GGA', 'ACC', 'CAC', 'CGT', 'CAT', 'TTA', 'T\\nA', 'TGG', 'AGC', 'GGC', 'CGC', 'TCA', 'AAG', 'CAG', 'CCA', 'GCC', 'ACA', 'CCA', 'TCC', 'ATA', 'TCG', 'AGG', 'TGC', 'CGC', 'CCA', 'ACC', 'CGT', 'TTT', 'GGG', 'CAT', '\\nCC', 'ATC', 'GGA', 'CTG', 'TCT', 'GTT', 'ACA', 'CCA', 'CTC', 'CCG', 'CTT', 'GGC', 'TCC', 'GGT', 'GTA', 'CAA', 'TAC', 'GAG', 'AGC', 'CGG', 'GTT', 'TCG', 'CTG', 'GG\\n', 'ATA', 'CTT', 'GAA', 'CCA', 'GAG', 'TTT', 'TCA', 'AAA', 'CGC', 'TGT', 'CAG', 'GGA', 'TGG', 'TAT', 'CCG', 'TTA', 'CGG', 'GCT', 'GGA', 'GCA', 'GGG', 'CTT', 'GTT', 'C\\nG', 'GCT', 'GGA', 'ACG', 'TAA', 'CGG', 'ACT', 'GTA', 'AGA', 'TTT', 'GCT', 'TTG', 'AAT', 'ACG', 'GGC', 'TTT', 'ATT', 'ACA', 'GTC', 'CGG', 'TCA', 'GCA', 'CGC', 'CGG', '\\nCG', 'GAC', 'TTC', 'CGC', 'TCA', 'TTG', 'GCC', 'CCG', 'ATT', 'GTA', 'TTG', 'GAA', 'CAG', 'GCA', 'TTG', 'AAG', 'GAA', 'TCA', 'GGG', 'ACG', 'CAA', 'CTG', 'CTG', 'GA\\n', 'ACC', 'TTA', 'TCT', 'CTC', 'CTT', 'CAC', 'CCT', 'CTA', 'TGC', 'GCC', 'CCG', 'GGA', 'ATA', 'TCT', 'TTC', 'CAG', 'GGC', 'TTA', 'TCA', 'TGA', 'TGC', 'ACC', 'GAA', 'A\\nT', 'ACT', 'GTG', 'CCA', 'CCA', 'TCG', 'AAA', 'CGG', 'TCC', 'AGG', 'TAA', 'AAA', 'AGG', 'ATG', 'AAG', 'TTG', 'TCT', 'TTA', 'CTG', 'GCG', 'AGA', 'TTC', 'CCG', 'CCC', '\\nGC', 'TGT', 'ATA', 'CAG', 'GCA', 'TAC', 'CGT', 'ACT', 'GAT', 'CTG', 'GCC', 'TCT', 'TAC', 'ACC', 'AAC', 'GGG', 'CAG', 'AGC', 'GTA', 'TGC', 'CTT', 'ACA', 'GAA', 'CT\\n', 'GAA', 'AGG', 'GTA', 'TCA', 'GGC', 'CGC', 'TGT', 'CGG', 'CAA', 'GCC', 'AGT', 'CAT', 'CCA', 'GCC', 'CCG', 'CCG', 'TCC', 'AAA', 'CAG', 'CCG', 'CCT', 'GGA', 'CAA', 'G\\nG', 'TGC', 'GCT', 'ATA', 'TGT', 'TTC', 'AGA', 'AGA', 'TAA', 'TGT']\n"
     ]
    }
   ],
   "source": [
    "\n",
    "ref_list = []\n",
    "\n",
    "for j in range(2):\n",
    "    x = 0\n",
    "    length = (len(TetW[::3]) - (len(TetW) % 3))\n",
    "    for i in range(length):\n",
    "        ref_list.append(TetW[x+j:(x+j)+3])\n",
    "        x+=3\n",
    "    if len(ref_list[-1]) != 3:\n",
    "        ref_list = ref_list[0:-1]\n",
    "print(ref_list)\n",
    "\n",
    "#start with this, take TetW reverse the order of the letters and then convert to complementry sequence (translate) and take that and run it through the above code"
   ]
  },
  {
   "cell_type": "markdown",
   "metadata": {},
   "source": [
    "# Extracting the codons in all the frames #\n",
    "\n",
    "This is the hard part. There are six \"frames\" in which a strand of DNA could theoretically be read. You could label them 1, 2, 3, -1, -2, -3. Can you design a loop that will extract the codons from each frame in this list?  It would probably help to use an if/else loop where you did one thing if the frame index was negative, and another thing if it was positive.\n",
    "\n",
    "This is the hardest part of the assignment, and it's hard because of slice math. See, if you try to slice things or find a range index that are outside of the length of the string, you'll create an error. So you have to do some complicated string math to get the loop to stop looping where it should.\n",
    "\n",
    "Let's see what happens with a bad ranged loop with a slice that reaches beyond the end of the string. The last two pieces aren't full codons, right? Plus, the length of the string might not even be divisible by 3. Check that in the cell below."
   ]
  },
  {
   "cell_type": "code",
   "execution_count": 3,
   "metadata": {},
   "outputs": [
    {
     "name": "stdout",
     "output_type": "stream",
     "text": [
      "ABC\n",
      "DEF\n",
      "GHI\n",
      "JKL\n",
      "MNO\n",
      "PQR\n",
      "STU\n",
      "VWX\n"
     ]
    }
   ],
   "source": [
    "string = \"ABCDEFGHIJKLMNOPQRSTUVWXYZ\"\n",
    "for i in range(0,len(string) - 2,3):\n",
    "    codon = string[i:i+3]\n",
    "    print(codon)"
   ]
  },
  {
   "cell_type": "markdown",
   "metadata": {},
   "source": [
    "So we need to get loop delimiters for each frame and they're going to be a little different depending on where the frame starts and ends within the sequence you have.\n",
    "\n",
    "To solve this, I had to use:\n",
    "- math\n",
    "- floor division to make sure all the length cases were handled\n",
    "- because zero can't be in the list of frames (it can't have both a positive and negative value) I had to remember to shift the frame index to [0,1,2] once I was doing the math\n",
    "- I had to reverse the string for the negative cases\n",
    "- I had to use abs() on the frame index once I was inside the else block\n",
    "\n",
    "I'm going to show you a partially worked through solution for this. I don't want to give you the whole answer, obviously, but this for loop produces a range start and end for each frame and also creates the reversed DNASeq. \n",
    "\n",
    "The values that are printed at the end could easily be appended to 3 lists instead, and you could iterate over those to get your codons for each frame (which will themselves be a list, and individual codons will need to be counted with .count())\n",
    "\n",
    "You can work on this in here, or you can take it out to a separate script in BBEdit, as I showed you in class. It's probably a good idea to start getting the feel for working outside of Jupyter now as the lab problems will get bigger.\n",
    "\n",
    "```for frame in frames:\n",
    "\tseqlist = []\n",
    "\tframeslist = []\n",
    "\tframeelist = []\n",
    "\tif frame > 0:\n",
    "\t\tstart = frame - 1\n",
    "\t\tend = (((len(DNASeq) - start) // 3) * 3) - (2 - start)\n",
    "\t\tprint(DNASeq[0:10], start, end)\n",
    "\telse:\n",
    "\t\tframe = abs(frame)\n",
    "\t\trevDNASeq = DNASeq[::-1]\n",
    "\t\tstart = frame - 1\n",
    "\t\tend = (((len(revDNASeq) - start) // 3) * 3) - (2 - start)\n",
    "\t\tprint(revDNASeq[0:10], start, end)```"
   ]
  },
  {
   "cell_type": "code",
   "execution_count": 33,
   "metadata": {},
   "outputs": [
    {
     "name": "stdout",
     "output_type": "stream",
     "text": [
      "AATGTAATAG 2 1944\n",
      "['GTA', 'ATA', 'GAA', 'GAC', 'TTT', 'GTA', 'TAT', 'CGC', 'GTG', '\\nGA', 'ACA', 'GGT', 'CCG', 'CCG', 'ACA', 'AAC', 'CTG', 'CCG', 'CCC', 'CGA', 'CCT', 'ACT', 'GAC', 'CGA', 'ACG', 'GCT', 'GTC', 'GCC', 'GGA', 'CTA', 'TGG', 'GAA', 'AG\\n', 'TCA', 'AGA', 'CAT', 'TCC', 'GTA', 'TGC', 'GAG', 'ACG', 'GGC', 'AAC', 'CAC', 'ATT', 'CTC', 'CGG', 'TCT', 'AGT', 'CAT', 'GCC', 'ATA', 'CGG', 'ACA', 'TAT', 'GTC', 'G\\nC', 'CCG', 'CCC', 'TTA', 'GAG', 'CGG', 'TCA', 'TTT', 'CTG', 'TTG', 'AAG', 'TAG', 'GAA', 'AAA', 'ATG', 'GAC', 'CTG', 'GCA', 'AAG', 'CTA', 'CCA', 'CCG', 'TGT', 'CAT', '\\nAA', 'AGC', 'CAC', 'GTA', 'GTA', 'CTA', 'TTC', 'GGG', 'ACC', 'TTT', 'CTA', 'TAA', 'GGG', 'CCC', 'CGC', 'GTA', 'TCT', 'CCC', 'ACT', 'TCC', 'TCT', 'CTA', 'TTC', 'CA\\n', 'AGG', 'TCG', 'TCA', 'ACG', 'CAG', 'GGA', 'CTA', 'AGG', 'AAG', 'TTA', 'CGG', 'ACA', 'AGG', 'TTA', 'TGT', 'TAG', 'CCC', 'CGG', 'TTA', 'CTC', 'GCC', 'TTC', 'AGG', 'C\\nG', 'GCC', 'GCA', 'CGA', 'CTG', 'GCC', 'TGA', 'CAT', 'TAT', 'TTC', 'GGG', 'CAT', 'AAG', 'TTT', 'CGT', 'TTA', 'GAA', 'TGT', 'CAG', 'GCA', 'ATG', 'CAA', 'GGT', 'CGG', '\\nCT', 'TGT', 'TCG', 'GGA', 'CGA', 'GGT', 'CGG', 'GCA', 'TTG', 'CCT', 'ATG', 'GTA', 'GGG', 'ACT', 'GTC', 'GCA', 'AAA', 'CTT', 'TTG', 'AGA', 'CCA', 'AGT', 'TCA', 'TA\\n', 'GGG', 'TCG', 'CTT', 'TGG', 'GCC', 'GAG', 'AGC', 'ATA', 'ACA', 'TGT', 'GGC', 'CTC', 'GGT', 'TCG', 'CCC', 'TCA', 'CCA', 'CAT', 'TGT', 'CTG', 'TCA', 'GGC', 'TAC', 'C\\nT', 'ACG', 'GGT', 'TTT', 'GCC', 'CAA', 'CCC', 'GCC', 'GTG', 'GAG', 'CTA', 'TAC', 'CTA', 'CCA', 'CAC', 'CGA', 'CCG', 'ACG', 'AAA', 'CTC', 'GCC', 'GGC', 'GAG', 'GTA', '\\nTA', 'TTT', 'ACT', 'GCC', 'ACC', 'CAA', 'GGA', 'AAT', 'GGT', 'GAC', 'AAA', 'GTT', 'CGA', 'ACA', 'TAA', 'AAA', 'GGC', 'TGT', 'CGT', 'TTC', 'GCC', 'TTT', 'GTT', 'GG\\n', 'AGG', 'TTG', 'ACG', 'TGG', 'GCC', 'GGG', 'TTT', 'TTT', 'CTT', 'TCT', 'TAC', 'TAG', 'AGT', 'ACC', 'CAC', 'TAC', 'CTT', 'AGG', 'TGG', 'AGC', 'GTC', 'GCG', 'TTT', 'T\\nC', 'GCC', 'CAG', 'TCA', 'TAG', 'GCG', 'TTC', 'AAC', 'GCA', 'TTC', 'TCG', 'CAG', 'GTC', 'GTC', 'GGC', 'AAG', 'AGA', 'AAC', 'GCG', 'ACG', 'GCA', 'AAA', 'GCC', 'GCG', '\\nTT', 'AGC', 'TGC', 'AGG', 'CGT', 'CGT', 'ACC', 'CCT', 'CCC', 'CCA', 'GGA', 'GTG', 'CGG', 'TGG', 'AAA', 'ATG', 'CTC', 'CCT', 'CGG', 'CCC', 'AAC', 'CCA', 'GGG', 'GA\\n', 'TTA', 'TGT', 'AGC', 'AAA', 'TTG', 'GAG', 'TGC', 'GAC', 'AGC', 'GAC', 'CCT', 'TCC', 'TAT', 'TGT', 'TAA', 'AGT', 'GGG', 'CCT', 'ATT', 'CGC', 'CAC', 'AGA', 'CAG', 'G\\nC', 'TTG', 'TTA', 'AAG', 'GGG', 'AAA', 'CCT', 'ACC', 'TTA', 'TGC', 'GTA', 'GAG', 'ACA', 'CTA', 'AAA', 'GTC', 'GAA', 'AAG', 'AGA', 'GGG', 'CCG', 'GTC', 'CCG', 'GTG', '\\nGC', 'ATA', 'GGG', 'CGT', 'CCG', 'CGT', 'CGC', 'AAG', 'GCG', 'ACA', 'TAT', 'CGG', 'CAT', 'CTA', 'TCT', 'GTG', 'CGG', 'CGA', 'CCG', 'GCG', 'TTA', 'GAC', 'ATA', 'TG\\n', 'AGG', 'TGG', 'AAC', 'TTT', 'TGC', 'GAC', 'GGC', 'GTA', 'TCC', 'CGC', 'CGC', 'GAG', 'GGG', 'ACA', 'AGG', 'GGT', 'TAG', 'CCA', 'ACC', 'TTG', 'TCG', 'GGA', 'CAG', 'T\\nG', 'GCG', 'TAG', 'GTA', 'GTT', 'GCC', 'AAC', 'TTA', 'CGG', 'TTC', 'CGG', 'GAA', 'AAA', 'CCG', 'CGA', 'CGG', 'TAT', 'TAT', 'CTG', 'GCC', 'CTT', 'GTC', 'CCT', 'CCG', '\\nCA', 'GAA', 'CTT', 'GGG', 'CGG', 'CGA', 'CAA', 'GGA', 'GGG', 'CGT', 'GTT', 'CAA', 'AAA', 'GGG', 'CCG', 'ACT', 'AAC', 'CAA', 'GAG', 'GAC', 'GCT', 'ATA', 'TGA', 'AA\\n', 'AGG', 'TTA', 'TTA', 'AAT', 'AGC', 'AAT', 'AAA', 'AGC', 'TAC', 'TGG', 'CGT', 'AGG', 'GTA', 'CGA', 'AGA', 'TAC', 'AGC', 'CAT', 'AAA', 'AGG', 'AGG', 'TCC', 'TGA', 'T\\nA', 'AAG', 'GCC', 'CCT', 'GTC', 'GCT', 'GTG', 'GCA', 'GAC', 'GAA', 'CTA', 'CTA', 'TTA', 'TAG', 'CCG', 'CCT', 'CTC', 'GAA', 'TAG', 'GGC', 'TTG', 'TCT', 'GAC', 'TTG', '\\nGT', 'GCG', 'AGA', 'CGT', 'TTA', 'GTT', 'GCG', 'GTC', 'GGA', 'CCA', 'GCT', 'AGA', 'ACA', 'ACT', 'ATT', 'TCT', 'ATT', 'GCC', 'ACC', 'CTT', 'ACA', 'AGT', 'AAA', 'AG\\n', 'GCG', 'TCC', 'CGT', 'ACC', 'TTG', 'TCT', 'TAT', 'GCC', 'CAG', 'ACC', 'CGG', 'ACG', 'TGC', 'GGT', 'AGA', 'AAT', 'CGC', 'CTC', 'TAG', 'TGG', 'TTC', 'TAC', 'CGG', 'G\\nG', 'TAG', 'ATT', 'TTG', 'TCG', 'GTT', 'TCT', 'CGC', 'CAT', 'GTG', 'GAG', 'GCG', 'GTT', 'TTT', 'TAG', 'GTA', 'CAC', 'CGG', 'CCC', 'GCA', 'TAG', 'GTG', 'TTA', 'CAA', '\\nCT', 'GAA', 'ATG', 'TAG', 'ACA', 'CGG', 'TGA', 'CCT', 'TCC', 'TTC', 'ACT', 'GAC', 'GGC', 'GAA', 'CTT', 'ACC', 'ATT', 'AGG', 'GTG', 'CGA', 'CGG', 'CGA', 'GGT', 'TT\\n', 'TTG', 'TAC', 'CAC', 'AGG', 'CAG', 'GAG', 'CAA', 'CAG', 'GGA', 'AAA', 'AAC', 'TGC', 'GAG', 'GGG', 'CCA', 'AGA', 'CTT', 'TAC', 'CGA', 'GGC', 'GAC', 'CGT', 'ATA', 'T\\nC', 'GTC', 'CGA', 'GAG', 'GCA', 'GTT', 'CCA', 'GCA', 'GAA', 'AGG', 'TCG', 'CAG', 'ATG', 'TAC', 'CCG', 'TTC', 'TTA', 'AGG', 'TTA', 'TAA', 'CTA', 'ATA', 'AAA']\n",
      "AATGTAATAG 1 1943\n",
      "['TGT', 'AAT', 'AGA', 'AGA', 'CTT', 'TGT', 'ATA', 'TCG', 'CGT', 'G\\nG', 'AAC', 'AGG', 'TCC', 'GCC', 'GAC', 'AAA', 'CCT', 'GCC', 'GCC', 'CCG', 'ACC', 'TAC', 'TGA', 'CCG', 'AAC', 'GGC', 'TGT', 'CGC', 'CGG', 'ACT', 'ATG', 'GGA', 'AAG', '\\nTC', 'AAG', 'ACA', 'TTC', 'CGT', 'ATG', 'CGA', 'GAC', 'GGG', 'CAA', 'CCA', 'CAT', 'TCT', 'CCG', 'GTC', 'TAG', 'TCA', 'TGC', 'CAT', 'ACG', 'GAC', 'ATA', 'TGT', 'CG\\n', 'CCC', 'GCC', 'CTT', 'AGA', 'GCG', 'GTC', 'ATT', 'TCT', 'GTT', 'GAA', 'GTA', 'GGA', 'AAA', 'AAT', 'GGA', 'CCT', 'GGC', 'AAA', 'GCT', 'ACC', 'ACC', 'GTG', 'TCA', 'T\\nA', 'AAG', 'CCA', 'CGT', 'AGT', 'ACT', 'ATT', 'CGG', 'GAC', 'CTT', 'TCT', 'ATA', 'AGG', 'GCC', 'CCG', 'CGT', 'ATC', 'TCC', 'CAC', 'TTC', 'CTC', 'TCT', 'ATT', 'CCA', '\\nAG', 'GTC', 'GTC', 'AAC', 'GCA', 'GGG', 'ACT', 'AAG', 'GAA', 'GTT', 'ACG', 'GAC', 'AAG', 'GTT', 'ATG', 'TTA', 'GCC', 'CCG', 'GTT', 'ACT', 'CGC', 'CTT', 'CAG', 'GC\\n', 'GGC', 'CGC', 'ACG', 'ACT', 'GGC', 'CTG', 'ACA', 'TTA', 'TTT', 'CGG', 'GCA', 'TAA', 'GTT', 'TCG', 'TTT', 'AGA', 'ATG', 'TCA', 'GGC', 'AAT', 'GCA', 'AGG', 'TCG', 'G\\nC', 'TTG', 'TTC', 'GGG', 'ACG', 'AGG', 'TCG', 'GGC', 'ATT', 'GCC', 'TAT', 'GGT', 'AGG', 'GAC', 'TGT', 'CGC', 'AAA', 'ACT', 'TTT', 'GAG', 'ACC', 'AAG', 'TTC', 'ATA', '\\nGG', 'GTC', 'GCT', 'TTG', 'GGC', 'CGA', 'GAG', 'CAT', 'AAC', 'ATG', 'TGG', 'CCT', 'CGG', 'TTC', 'GCC', 'CTC', 'ACC', 'ACA', 'TTG', 'TCT', 'GTC', 'AGG', 'CTA', 'CC\\n', 'TAC', 'GGG', 'TTT', 'TGC', 'CCA', 'ACC', 'CGC', 'CGT', 'GGA', 'GCT', 'ATA', 'CCT', 'ACC', 'ACA', 'CCG', 'ACC', 'GAC', 'GAA', 'ACT', 'CGC', 'CGG', 'CGA', 'GGT', 'A\\nT', 'ATT', 'TAC', 'TGC', 'CAC', 'CCA', 'AGG', 'AAA', 'TGG', 'TGA', 'CAA', 'AGT', 'TCG', 'AAC', 'ATA', 'AAA', 'AGG', 'CTG', 'TCG', 'TTT', 'CGC', 'CTT', 'TGT', 'TGG', '\\nAG', 'GTT', 'GAC', 'GTG', 'GGC', 'CGG', 'GTT', 'TTT', 'TCT', 'TTC', 'TTA', 'CTA', 'GAG', 'TAC', 'CCA', 'CTA', 'CCT', 'TAG', 'GTG', 'GAG', 'CGT', 'CGC', 'GTT', 'TT\\n', 'CGC', 'CCA', 'GTC', 'ATA', 'GGC', 'GTT', 'CAA', 'CGC', 'ATT', 'CTC', 'GCA', 'GGT', 'CGT', 'CGG', 'CAA', 'GAG', 'AAA', 'CGC', 'GAC', 'GGC', 'AAA', 'AGC', 'CGC', 'G\\nT', 'TAG', 'CTG', 'CAG', 'GCG', 'TCG', 'TAC', 'CCC', 'TCC', 'CCC', 'AGG', 'AGT', 'GCG', 'GTG', 'GAA', 'AAT', 'GCT', 'CCC', 'TCG', 'GCC', 'CAA', 'CCC', 'AGG', 'GGA', '\\nTT', 'ATG', 'TAG', 'CAA', 'ATT', 'GGA', 'GTG', 'CGA', 'CAG', 'CGA', 'CCC', 'TTC', 'CTA', 'TTG', 'TTA', 'AAG', 'TGG', 'GCC', 'TAT', 'TCG', 'CCA', 'CAG', 'ACA', 'GG\\n', 'CTT', 'GTT', 'AAA', 'GGG', 'GAA', 'ACC', 'TAC', 'CTT', 'ATG', 'CGT', 'AGA', 'GAC', 'ACT', 'AAA', 'AGT', 'CGA', 'AAA', 'GAG', 'AGG', 'GCC', 'GGT', 'CCC', 'GGT', 'G\\nG', 'CAT', 'AGG', 'GCG', 'TCC', 'GCG', 'TCG', 'CAA', 'GGC', 'GAC', 'ATA', 'TCG', 'GCA', 'TCT', 'ATC', 'TGT', 'GCG', 'GCG', 'ACC', 'GGC', 'GTT', 'AGA', 'CAT', 'ATG', '\\nAG', 'GTG', 'GAA', 'CTT', 'TTG', 'CGA', 'CGG', 'CGT', 'ATC', 'CCG', 'CCG', 'CGA', 'GGG', 'GAC', 'AAG', 'GGG', 'TTA', 'GCC', 'AAC', 'CTT', 'GTC', 'GGG', 'ACA', 'GT\\n', 'GGC', 'GTA', 'GGT', 'AGT', 'TGC', 'CAA', 'CTT', 'ACG', 'GTT', 'CCG', 'GGA', 'AAA', 'ACC', 'GCG', 'ACG', 'GTA', 'TTA', 'TCT', 'GGC', 'CCT', 'TGT', 'CCC', 'TCC', 'G\\nC', 'AGA', 'ACT', 'TGG', 'GCG', 'GCG', 'ACA', 'AGG', 'AGG', 'GCG', 'TGT', 'TCA', 'AAA', 'AGG', 'GCC', 'GAC', 'TAA', 'CCA', 'AGA', 'GGA', 'CGC', 'TAT', 'ATG', 'AAA', '\\nAG', 'GTT', 'ATT', 'AAA', 'TAG', 'CAA', 'TAA', 'AAG', 'CTA', 'CTG', 'GCG', 'TAG', 'GGT', 'ACG', 'AAG', 'ATA', 'CAG', 'CCA', 'TAA', 'AAG', 'GAG', 'GTC', 'CTG', 'AT\\n', 'AAA', 'GGC', 'CCC', 'TGT', 'CGC', 'TGT', 'GGC', 'AGA', 'CGA', 'ACT', 'ACT', 'ATT', 'ATA', 'GCC', 'GCC', 'TCT', 'CGA', 'ATA', 'GGG', 'CTT', 'GTC', 'TGA', 'CTT', 'G\\nG', 'TGC', 'GAG', 'ACG', 'TTT', 'AGT', 'TGC', 'GGT', 'CGG', 'ACC', 'AGC', 'TAG', 'AAC', 'AAC', 'TAT', 'TTC', 'TAT', 'TGC', 'CAC', 'CCT', 'TAC', 'AAG', 'TAA', 'AAG', '\\nGC', 'GTC', 'CCG', 'TAC', 'CTT', 'GTC', 'TTA', 'TGC', 'CCA', 'GAC', 'CCG', 'GAC', 'GTG', 'CGG', 'TAG', 'AAA', 'TCG', 'CCT', 'CTA', 'GTG', 'GTT', 'CTA', 'CCG', 'GG\\n', 'GTA', 'GAT', 'TTT', 'GTC', 'GGT', 'TTC', 'TCG', 'CCA', 'TGT', 'GGA', 'GGC', 'GGT', 'TTT', 'TTA', 'GGT', 'ACA', 'CCG', 'GCC', 'CGC', 'ATA', 'GGT', 'GTT', 'ACA', 'A\\nC', 'TGA', 'AAT', 'GTA', 'GAC', 'ACG', 'GTG', 'ACC', 'TTC', 'CTT', 'CAC', 'TGA', 'CGG', 'CGA', 'ACT', 'TAC', 'CAT', 'TAG', 'GGT', 'GCG', 'ACG', 'GCG', 'AGG', 'TTT', '\\nTT', 'GTA', 'CCA', 'CAG', 'GCA', 'GGA', 'GCA', 'ACA', 'GGG', 'AAA', 'AAA', 'CTG', 'CGA', 'GGG', 'GCC', 'AAG', 'ACT', 'TTA', 'CCG', 'AGG', 'CGA', 'CCG', 'TAT', 'AT\\n', 'CGT', 'CCG', 'AGA', 'GGC', 'AGT', 'TCC', 'AGC', 'AGA', 'AAG', 'GTC', 'GCA', 'GAT', 'GTA', 'CCC', 'GTT', 'CTT', 'AAG', 'GTT', 'ATA', 'ACT', 'AAT', 'AAA']\n",
      "AATGTAATAG 0 1945\n",
      "['ATG', 'TAA', 'TAG', 'AAG', 'ACT', 'TTG', 'TAT', 'ATC', 'GCG', 'TG\\n', 'GAA', 'CAG', 'GTC', 'CGC', 'CGA', 'CAA', 'ACC', 'TGC', 'CGC', 'CCC', 'GAC', 'CTA', 'CTG', 'ACC', 'GAA', 'CGG', 'CTG', 'TCG', 'CCG', 'GAC', 'TAT', 'GGG', 'AAA', 'G\\nT', 'CAA', 'GAC', 'ATT', 'CCG', 'TAT', 'GCG', 'AGA', 'CGG', 'GCA', 'ACC', 'ACA', 'TTC', 'TCC', 'GGT', 'CTA', 'GTC', 'ATG', 'CCA', 'TAC', 'GGA', 'CAT', 'ATG', 'TCG', '\\nCC', 'CGC', 'CCT', 'TAG', 'AGC', 'GGT', 'CAT', 'TTC', 'TGT', 'TGA', 'AGT', 'AGG', 'AAA', 'AAA', 'TGG', 'ACC', 'TGG', 'CAA', 'AGC', 'TAC', 'CAC', 'CGT', 'GTC', 'AT\\n', 'AAA', 'GCC', 'ACG', 'TAG', 'TAC', 'TAT', 'TCG', 'GGA', 'CCT', 'TTC', 'TAT', 'AAG', 'GGC', 'CCC', 'GCG', 'TAT', 'CTC', 'CCA', 'CTT', 'CCT', 'CTC', 'TAT', 'TCC', 'A\\nA', 'GGT', 'CGT', 'CAA', 'CGC', 'AGG', 'GAC', 'TAA', 'GGA', 'AGT', 'TAC', 'GGA', 'CAA', 'GGT', 'TAT', 'GTT', 'AGC', 'CCC', 'GGT', 'TAC', 'TCG', 'CCT', 'TCA', 'GGC', '\\nGG', 'CCG', 'CAC', 'GAC', 'TGG', 'CCT', 'GAC', 'ATT', 'ATT', 'TCG', 'GGC', 'ATA', 'AGT', 'TTC', 'GTT', 'TAG', 'AAT', 'GTC', 'AGG', 'CAA', 'TGC', 'AAG', 'GTC', 'GG\\n', 'CTT', 'GTT', 'CGG', 'GAC', 'GAG', 'GTC', 'GGG', 'CAT', 'TGC', 'CTA', 'TGG', 'TAG', 'GGA', 'CTG', 'TCG', 'CAA', 'AAC', 'TTT', 'TGA', 'GAC', 'CAA', 'GTT', 'CAT', 'A\\nG', 'GGT', 'CGC', 'TTT', 'GGG', 'CCG', 'AGA', 'GCA', 'TAA', 'CAT', 'GTG', 'GCC', 'TCG', 'GTT', 'CGC', 'CCT', 'CAC', 'CAC', 'ATT', 'GTC', 'TGT', 'CAG', 'GCT', 'ACC', '\\nTA', 'CGG', 'GTT', 'TTG', 'CCC', 'AAC', 'CCG', 'CCG', 'TGG', 'AGC', 'TAT', 'ACC', 'TAC', 'CAC', 'ACC', 'GAC', 'CGA', 'CGA', 'AAC', 'TCG', 'CCG', 'GCG', 'AGG', 'TA\\n', 'TAT', 'TTA', 'CTG', 'CCA', 'CCC', 'AAG', 'GAA', 'ATG', 'GTG', 'ACA', 'AAG', 'TTC', 'GAA', 'CAT', 'AAA', 'AAG', 'GCT', 'GTC', 'GTT', 'TCG', 'CCT', 'TTG', 'TTG', 'G\\nA', 'GGT', 'TGA', 'CGT', 'GGG', 'CCG', 'GGT', 'TTT', 'TTC', 'TTT', 'CTT', 'ACT', 'AGA', 'GTA', 'CCC', 'ACT', 'ACC', 'TTA', 'GGT', 'GGA', 'GCG', 'TCG', 'CGT', 'TTT', '\\nCG', 'CCC', 'AGT', 'CAT', 'AGG', 'CGT', 'TCA', 'ACG', 'CAT', 'TCT', 'CGC', 'AGG', 'TCG', 'TCG', 'GCA', 'AGA', 'GAA', 'ACG', 'CGA', 'CGG', 'CAA', 'AAG', 'CCG', 'CG\\n', 'TTA', 'GCT', 'GCA', 'GGC', 'GTC', 'GTA', 'CCC', 'CTC', 'CCC', 'CAG', 'GAG', 'TGC', 'GGT', 'GGA', 'AAA', 'TGC', 'TCC', 'CTC', 'GGC', 'CCA', 'ACC', 'CAG', 'GGG', 'A\\nT', 'TAT', 'GTA', 'GCA', 'AAT', 'TGG', 'AGT', 'GCG', 'ACA', 'GCG', 'ACC', 'CTT', 'CCT', 'ATT', 'GTT', 'AAA', 'GTG', 'GGC', 'CTA', 'TTC', 'GCC', 'ACA', 'GAC', 'AGG', '\\nCT', 'TGT', 'TAA', 'AGG', 'GGA', 'AAC', 'CTA', 'CCT', 'TAT', 'GCG', 'TAG', 'AGA', 'CAC', 'TAA', 'AAG', 'TCG', 'AAA', 'AGA', 'GAG', 'GGC', 'CGG', 'TCC', 'CGG', 'TG\\n', 'GCA', 'TAG', 'GGC', 'GTC', 'CGC', 'GTC', 'GCA', 'AGG', 'CGA', 'CAT', 'ATC', 'GGC', 'ATC', 'TAT', 'CTG', 'TGC', 'GGC', 'GAC', 'CGG', 'CGT', 'TAG', 'ACA', 'TAT', 'G\\nA', 'GGT', 'GGA', 'ACT', 'TTT', 'GCG', 'ACG', 'GCG', 'TAT', 'CCC', 'GCC', 'GCG', 'AGG', 'GGA', 'CAA', 'GGG', 'GTT', 'AGC', 'CAA', 'CCT', 'TGT', 'CGG', 'GAC', 'AGT', '\\nGG', 'CGT', 'AGG', 'TAG', 'TTG', 'CCA', 'ACT', 'TAC', 'GGT', 'TCC', 'GGG', 'AAA', 'AAC', 'CGC', 'GAC', 'GGT', 'ATT', 'ATC', 'TGG', 'CCC', 'TTG', 'TCC', 'CTC', 'CG\\n', 'CAG', 'AAC', 'TTG', 'GGC', 'GGC', 'GAC', 'AAG', 'GAG', 'GGC', 'GTG', 'TTC', 'AAA', 'AAG', 'GGC', 'CGA', 'CTA', 'ACC', 'AAG', 'AGG', 'ACG', 'CTA', 'TAT', 'GAA', 'A\\nA', 'GGT', 'TAT', 'TAA', 'ATA', 'GCA', 'ATA', 'AAA', 'GCT', 'ACT', 'GGC', 'GTA', 'GGG', 'TAC', 'GAA', 'GAT', 'ACA', 'GCC', 'ATA', 'AAA', 'GGA', 'GGT', 'CCT', 'GAT', '\\nAA', 'AGG', 'CCC', 'CTG', 'TCG', 'CTG', 'TGG', 'CAG', 'ACG', 'AAC', 'TAC', 'TAT', 'TAT', 'AGC', 'CGC', 'CTC', 'TCG', 'AAT', 'AGG', 'GCT', 'TGT', 'CTG', 'ACT', 'TG\\n', 'GTG', 'CGA', 'GAC', 'GTT', 'TAG', 'TTG', 'CGG', 'TCG', 'GAC', 'CAG', 'CTA', 'GAA', 'CAA', 'CTA', 'TTT', 'CTA', 'TTG', 'CCA', 'CCC', 'TTA', 'CAA', 'GTA', 'AAA', 'G\\nG', 'CGT', 'CCC', 'GTA', 'CCT', 'TGT', 'CTT', 'ATG', 'CCC', 'AGA', 'CCC', 'GGA', 'CGT', 'GCG', 'GTA', 'GAA', 'ATC', 'GCC', 'TCT', 'AGT', 'GGT', 'TCT', 'ACC', 'GGG', '\\nGT', 'AGA', 'TTT', 'TGT', 'CGG', 'TTT', 'CTC', 'GCC', 'ATG', 'TGG', 'AGG', 'CGG', 'TTT', 'TTT', 'AGG', 'TAC', 'ACC', 'GGC', 'CCG', 'CAT', 'AGG', 'TGT', 'TAC', 'AA\\n', 'CTG', 'AAA', 'TGT', 'AGA', 'CAC', 'GGT', 'GAC', 'CTT', 'CCT', 'TCA', 'CTG', 'ACG', 'GCG', 'AAC', 'TTA', 'CCA', 'TTA', 'GGG', 'TGC', 'GAC', 'GGC', 'GAG', 'GTT', 'T\\nT', 'TGT', 'ACC', 'ACA', 'GGC', 'AGG', 'AGC', 'AAC', 'AGG', 'GAA', 'AAA', 'ACT', 'GCG', 'AGG', 'GGC', 'CAA', 'GAC', 'TTT', 'ACC', 'GAG', 'GCG', 'ACC', 'GTA', 'TAT', '\\nCG', 'TCC', 'GAG', 'AGG', 'CAG', 'TTC', 'CAG', 'CAG', 'AAA', 'GGT', 'CGC', 'AGA', 'TGT', 'ACC', 'CGT', 'TCT', 'TAA', 'GGT', 'TAT', 'AAC', 'TAA', 'TAA', 'AAG']\n",
      "AATGTAATAG -1 1944\n",
      "['AAT', 'GTA', 'ATA', 'GAA', 'GAC', 'TTT', 'GTA', 'TAT', 'CGC', 'GTG', '\\nGA', 'ACA', 'GGT', 'CCG', 'CCG', 'ACA', 'AAC', 'CTG', 'CCG', 'CCC', 'CGA', 'CCT', 'ACT', 'GAC', 'CGA', 'ACG', 'GCT', 'GTC', 'GCC', 'GGA', 'CTA', 'TGG', 'GAA', 'AG\\n', 'TCA', 'AGA', 'CAT', 'TCC', 'GTA', 'TGC', 'GAG', 'ACG', 'GGC', 'AAC', 'CAC', 'ATT', 'CTC', 'CGG', 'TCT', 'AGT', 'CAT', 'GCC', 'ATA', 'CGG', 'ACA', 'TAT', 'GTC', 'G\\nC', 'CCG', 'CCC', 'TTA', 'GAG', 'CGG', 'TCA', 'TTT', 'CTG', 'TTG', 'AAG', 'TAG', 'GAA', 'AAA', 'ATG', 'GAC', 'CTG', 'GCA', 'AAG', 'CTA', 'CCA', 'CCG', 'TGT', 'CAT', '\\nAA', 'AGC', 'CAC', 'GTA', 'GTA', 'CTA', 'TTC', 'GGG', 'ACC', 'TTT', 'CTA', 'TAA', 'GGG', 'CCC', 'CGC', 'GTA', 'TCT', 'CCC', 'ACT', 'TCC', 'TCT', 'CTA', 'TTC', 'CA\\n', 'AGG', 'TCG', 'TCA', 'ACG', 'CAG', 'GGA', 'CTA', 'AGG', 'AAG', 'TTA', 'CGG', 'ACA', 'AGG', 'TTA', 'TGT', 'TAG', 'CCC', 'CGG', 'TTA', 'CTC', 'GCC', 'TTC', 'AGG', 'C\\nG', 'GCC', 'GCA', 'CGA', 'CTG', 'GCC', 'TGA', 'CAT', 'TAT', 'TTC', 'GGG', 'CAT', 'AAG', 'TTT', 'CGT', 'TTA', 'GAA', 'TGT', 'CAG', 'GCA', 'ATG', 'CAA', 'GGT', 'CGG', '\\nCT', 'TGT', 'TCG', 'GGA', 'CGA', 'GGT', 'CGG', 'GCA', 'TTG', 'CCT', 'ATG', 'GTA', 'GGG', 'ACT', 'GTC', 'GCA', 'AAA', 'CTT', 'TTG', 'AGA', 'CCA', 'AGT', 'TCA', 'TA\\n', 'GGG', 'TCG', 'CTT', 'TGG', 'GCC', 'GAG', 'AGC', 'ATA', 'ACA', 'TGT', 'GGC', 'CTC', 'GGT', 'TCG', 'CCC', 'TCA', 'CCA', 'CAT', 'TGT', 'CTG', 'TCA', 'GGC', 'TAC', 'C\\nT', 'ACG', 'GGT', 'TTT', 'GCC', 'CAA', 'CCC', 'GCC', 'GTG', 'GAG', 'CTA', 'TAC', 'CTA', 'CCA', 'CAC', 'CGA', 'CCG', 'ACG', 'AAA', 'CTC', 'GCC', 'GGC', 'GAG', 'GTA', '\\nTA', 'TTT', 'ACT', 'GCC', 'ACC', 'CAA', 'GGA', 'AAT', 'GGT', 'GAC', 'AAA', 'GTT', 'CGA', 'ACA', 'TAA', 'AAA', 'GGC', 'TGT', 'CGT', 'TTC', 'GCC', 'TTT', 'GTT', 'GG\\n', 'AGG', 'TTG', 'ACG', 'TGG', 'GCC', 'GGG', 'TTT', 'TTT', 'CTT', 'TCT', 'TAC', 'TAG', 'AGT', 'ACC', 'CAC', 'TAC', 'CTT', 'AGG', 'TGG', 'AGC', 'GTC', 'GCG', 'TTT', 'T\\nC', 'GCC', 'CAG', 'TCA', 'TAG', 'GCG', 'TTC', 'AAC', 'GCA', 'TTC', 'TCG', 'CAG', 'GTC', 'GTC', 'GGC', 'AAG', 'AGA', 'AAC', 'GCG', 'ACG', 'GCA', 'AAA', 'GCC', 'GCG', '\\nTT', 'AGC', 'TGC', 'AGG', 'CGT', 'CGT', 'ACC', 'CCT', 'CCC', 'CCA', 'GGA', 'GTG', 'CGG', 'TGG', 'AAA', 'ATG', 'CTC', 'CCT', 'CGG', 'CCC', 'AAC', 'CCA', 'GGG', 'GA\\n', 'TTA', 'TGT', 'AGC', 'AAA', 'TTG', 'GAG', 'TGC', 'GAC', 'AGC', 'GAC', 'CCT', 'TCC', 'TAT', 'TGT', 'TAA', 'AGT', 'GGG', 'CCT', 'ATT', 'CGC', 'CAC', 'AGA', 'CAG', 'G\\nC', 'TTG', 'TTA', 'AAG', 'GGG', 'AAA', 'CCT', 'ACC', 'TTA', 'TGC', 'GTA', 'GAG', 'ACA', 'CTA', 'AAA', 'GTC', 'GAA', 'AAG', 'AGA', 'GGG', 'CCG', 'GTC', 'CCG', 'GTG', '\\nGC', 'ATA', 'GGG', 'CGT', 'CCG', 'CGT', 'CGC', 'AAG', 'GCG', 'ACA', 'TAT', 'CGG', 'CAT', 'CTA', 'TCT', 'GTG', 'CGG', 'CGA', 'CCG', 'GCG', 'TTA', 'GAC', 'ATA', 'TG\\n', 'AGG', 'TGG', 'AAC', 'TTT', 'TGC', 'GAC', 'GGC', 'GTA', 'TCC', 'CGC', 'CGC', 'GAG', 'GGG', 'ACA', 'AGG', 'GGT', 'TAG', 'CCA', 'ACC', 'TTG', 'TCG', 'GGA', 'CAG', 'T\\nG', 'GCG', 'TAG', 'GTA', 'GTT', 'GCC', 'AAC', 'TTA', 'CGG', 'TTC', 'CGG', 'GAA', 'AAA', 'CCG', 'CGA', 'CGG', 'TAT', 'TAT', 'CTG', 'GCC', 'CTT', 'GTC', 'CCT', 'CCG', '\\nCA', 'GAA', 'CTT', 'GGG', 'CGG', 'CGA', 'CAA', 'GGA', 'GGG', 'CGT', 'GTT', 'CAA', 'AAA', 'GGG', 'CCG', 'ACT', 'AAC', 'CAA', 'GAG', 'GAC', 'GCT', 'ATA', 'TGA', 'AA\\n', 'AGG', 'TTA', 'TTA', 'AAT', 'AGC', 'AAT', 'AAA', 'AGC', 'TAC', 'TGG', 'CGT', 'AGG', 'GTA', 'CGA', 'AGA', 'TAC', 'AGC', 'CAT', 'AAA', 'AGG', 'AGG', 'TCC', 'TGA', 'T\\nA', 'AAG', 'GCC', 'CCT', 'GTC', 'GCT', 'GTG', 'GCA', 'GAC', 'GAA', 'CTA', 'CTA', 'TTA', 'TAG', 'CCG', 'CCT', 'CTC', 'GAA', 'TAG', 'GGC', 'TTG', 'TCT', 'GAC', 'TTG', '\\nGT', 'GCG', 'AGA', 'CGT', 'TTA', 'GTT', 'GCG', 'GTC', 'GGA', 'CCA', 'GCT', 'AGA', 'ACA', 'ACT', 'ATT', 'TCT', 'ATT', 'GCC', 'ACC', 'CTT', 'ACA', 'AGT', 'AAA', 'AG\\n', 'GCG', 'TCC', 'CGT', 'ACC', 'TTG', 'TCT', 'TAT', 'GCC', 'CAG', 'ACC', 'CGG', 'ACG', 'TGC', 'GGT', 'AGA', 'AAT', 'CGC', 'CTC', 'TAG', 'TGG', 'TTC', 'TAC', 'CGG', 'G\\nG', 'TAG', 'ATT', 'TTG', 'TCG', 'GTT', 'TCT', 'CGC', 'CAT', 'GTG', 'GAG', 'GCG', 'GTT', 'TTT', 'TAG', 'GTA', 'CAC', 'CGG', 'CCC', 'GCA', 'TAG', 'GTG', 'TTA', 'CAA', '\\nCT', 'GAA', 'ATG', 'TAG', 'ACA', 'CGG', 'TGA', 'CCT', 'TCC', 'TTC', 'ACT', 'GAC', 'GGC', 'GAA', 'CTT', 'ACC', 'ATT', 'AGG', 'GTG', 'CGA', 'CGG', 'CGA', 'GGT', 'TT\\n', 'TTG', 'TAC', 'CAC', 'AGG', 'CAG', 'GAG', 'CAA', 'CAG', 'GGA', 'AAA', 'AAC', 'TGC', 'GAG', 'GGG', 'CCA', 'AGA', 'CTT', 'TAC', 'CGA', 'GGC', 'GAC', 'CGT', 'ATA', 'T\\nC', 'GTC', 'CGA', 'GAG', 'GCA', 'GTT', 'CCA', 'GCA', 'GAA', 'AGG', 'TCG', 'CAG', 'ATG', 'TAC', 'CCG', 'TTC', 'TTA', 'AGG', 'TTA', 'TAA', 'CTA', 'ATA', 'AAA']\n",
      "ATGAAAATAA 0 1945\n",
      "['TGA', 'AAA', 'TAA', 'TCA', 'ATA', 'TTG', 'GAA', 'TTC', 'TTG', 'CCC', 'ATG', 'TAG', 'ACG', 'CTG', 'GAA', 'AGA', 'CGA', 'CCT', 'TGA', 'CGG', 'AGA', 'GCC', 'TGC', '\\nTA', 'TAT', 'GCC', 'AGC', 'GGA', 'GCC', 'ATT', 'TCA', 'GAA', 'CCG', 'GGG', 'AGC', 'GTC', 'AAA', 'AAA', 'GGG', 'ACA', 'ACG', 'AGG', 'ACG', 'GAC', 'ACC', 'ATG', 'TT\\n', 'TTT', 'GGA', 'GCG', 'GCA', 'GCG', 'TGG', 'GAT', 'TAC', 'CAT', 'TCA', 'AGC', 'GGC', 'AGT', 'CAC', 'TTC', 'CTT', 'CCA', 'GTG', 'GCA', 'CAG', 'ATG', 'TAA', 'AGT', 'C\\nA', 'ACA', 'TTG', 'TGG', 'ATA', 'CGC', 'CCG', 'GCC', 'ACA', 'TGG', 'ATT', 'TTT', 'TGG', 'CGG', 'AGG', 'TGT', 'ACC', 'GCT', 'CTT', 'TGG', 'CTG', 'TTT', 'TAG', 'ATG', '\\nGG', 'GCC', 'ATC', 'TTG', 'GTG', 'ATC', 'TCC', 'GCT', 'AAA', 'GAT', 'GGC', 'GTG', 'CAG', 'GCC', 'CAG', 'ACC', 'CGT', 'ATT', 'CTG', 'TTC', 'CAT', 'GCC', 'CTG', 'CG\\n', 'GAA', 'AAT', 'GAA', 'CAT', 'TCC', 'CAC', 'CGT', 'TAT', 'CTT', 'TAT', 'CAA', 'CAA', 'GAT', 'CGA', 'CCA', 'GGC', 'TGG', 'CGT', 'TGA', 'TTT', 'GCA', 'GAG', 'CGT', 'G\\nG', 'TTC', 'AGT', 'CTG', 'TTC', 'GGG', 'ATA', 'AGC', 'TCT', 'CCG', 'CCG', 'ATA', 'TTA', 'TCA', 'TCA', 'AGC', 'AGA', 'CGG', 'TGT', 'CGC', 'TGT', 'CCC', 'CGG', 'AAA', '\\nTA', 'GTC', 'CTG', 'GAG', 'GAA', 'AAT', 'ACC', 'GAC', 'ATA', 'GAA', 'GCA', 'TGG', 'GAT', 'GCG', 'GTC', 'ATC', 'GAA', 'AAT', 'AAC', 'GAT', 'AAA', 'TTA', 'TTG', 'GA\\n', 'AAA', 'GTA', 'TAT', 'CGC', 'AGG', 'AGA', 'ACC', 'AAT', 'CAG', 'CCG', 'GGA', 'AAA', 'ACT', 'TGT', 'GCG', 'GGA', 'GGA', 'ACA', 'GCG', 'GCG', 'GGT', 'TCA', 'AGA', 'C\\nG', 'CCT', 'CCC', 'TGT', 'TCC', 'CGG', 'TCT', 'ATT', 'ATG', 'GCA', 'GCG', 'CCA', 'AAA', 'AGG', 'GCC', 'TTG', 'GCA', 'TTC', 'AAC', 'CGT', 'TGA', 'TGG', 'ATG', 'CGG', '\\nTG', 'ACA', 'GGG', 'CTG', 'TTC', 'CAA', 'CCG', 'ATT', 'GGG', 'GAA', 'CAG', 'GGG', 'AGC', 'GCC', 'GCC', 'CTA', 'TGC', 'GGC', 'AGC', 'GTT', 'TTC', 'AAG', 'GTG', 'GA\\n', 'GTA', 'TAC', 'AGA', 'TTG', 'CGG', 'CCA', 'GCG', 'GCG', 'TGT', 'CTA', 'TCT', 'ACG', 'GCT', 'ATA', 'CAG', 'CGG', 'AAC', 'GCT', 'GCG', 'CCT', 'GCG', 'GGA', 'TAC', 'G\\nG', 'TGG', 'CCC', 'TGG', 'CCG', 'GGA', 'GAG', 'AAA', 'AGC', 'TGA', 'AAA', 'TCA', 'CAG', 'AGA', 'TGC', 'GTA', 'TTC', 'CAT', 'CCA', 'AAG', 'GGG', 'AAA', 'TTG', 'TTC', '\\nGG', 'ACA', 'GAC', 'ACC', 'GCT', 'TAT', 'CCG', 'GGT', 'GAA', 'ATT', 'GTT', 'ATC', 'CTT', 'CCC', 'AGC', 'GAC', 'AGC', 'GTG', 'AGG', 'TTA', 'AAC', 'GAT', 'GTA', 'TT\\n', 'AGG', 'GGA', 'CCC', 'AAC', 'CCG', 'GCT', 'CCC', 'TCG', 'TAA', 'AAG', 'GTG', 'GCG', 'TGA', 'GGA', 'CCC', 'CCT', 'CCC', 'CAT', 'GCT', 'GCG', 'GAC', 'GTC', 'GAT', 'T\\nG', 'CGC', 'CGA', 'AAA', 'CGG', 'CAG', 'CGC', 'AAA', 'GAG', 'AAC', 'GGC', 'TGC', 'TGG', 'ACG', 'CTC', 'TTA', 'CGC', 'AAC', 'TTG', 'CGG', 'ATA', 'CTG', 'ACC', 'CGC', '\\nTT', 'TTG', 'CGC', 'TGC', 'GAG', 'GTG', 'GAT', 'TCC', 'ATC', 'ACC', 'CAT', 'GAG', 'ATC', 'ATT', 'CTT', 'TCT', 'TTT', 'TTG', 'GGC', 'CGG', 'GTG', 'CAG', 'TTG', 'GA\\n', 'GGT', 'TGT', 'TTC', 'CGC', 'TTT', 'GCT', 'GTC', 'GGA', 'AAA', 'ATA', 'CAA', 'GCT', 'TGA', 'AAC', 'AGT', 'GGT', 'AAA', 'GGA', 'ACC', 'CAC', 'CGT', 'CAT', 'TTA', 'T\\nA', 'TGG', 'AGC', 'GGC', 'CGC', 'TCA', 'AAG', 'CAG', 'CCA', 'GCC', 'ACA', 'CCA', 'TCC', 'ATA', 'TCG', 'AGG', 'TGC', 'CGC', 'CCA', 'ACC', 'CGT', 'TTT', 'GGG', 'CAT', '\\nCC', 'ATC', 'GGA', 'CTG', 'TCT', 'GTT', 'ACA', 'CCA', 'CTC', 'CCG', 'CTT', 'GGC', 'TCC', 'GGT', 'GTA', 'CAA', 'TAC', 'GAG', 'AGC', 'CGG', 'GTT', 'TCG', 'CTG', 'GG\\n', 'ATA', 'CTT', 'GAA', 'CCA', 'GAG', 'TTT', 'TCA', 'AAA', 'CGC', 'TGT', 'CAG', 'GGA', 'TGG', 'TAT', 'CCG', 'TTA', 'CGG', 'GCT', 'GGA', 'GCA', 'GGG', 'CTT', 'GTT', 'C\\nG', 'GCT', 'GGA', 'ACG', 'TAA', 'CGG', 'ACT', 'GTA', 'AGA', 'TTT', 'GCT', 'TTG', 'AAT', 'ACG', 'GGC', 'TTT', 'ATT', 'ACA', 'GTC', 'CGG', 'TCA', 'GCA', 'CGC', 'CGG', '\\nCG', 'GAC', 'TTC', 'CGC', 'TCA', 'TTG', 'GCC', 'CCG', 'ATT', 'GTA', 'TTG', 'GAA', 'CAG', 'GCA', 'TTG', 'AAG', 'GAA', 'TCA', 'GGG', 'ACG', 'CAA', 'CTG', 'CTG', 'GA\\n', 'ACC', 'TTA', 'TCT', 'CTC', 'CTT', 'CAC', 'CCT', 'CTA', 'TGC', 'GCC', 'CCG', 'GGA', 'ATA', 'TCT', 'TTC', 'CAG', 'GGC', 'TTA', 'TCA', 'TGA', 'TGC', 'ACC', 'GAA', 'A\\nT', 'ACT', 'GTG', 'CCA', 'CCA', 'TCG', 'AAA', 'CGG', 'TCC', 'AGG', 'TAA', 'AAA', 'AGG', 'ATG', 'AAG', 'TTG', 'TCT', 'TTA', 'CTG', 'GCG', 'AGA', 'TTC', 'CCG', 'CCC', '\\nGC', 'TGT', 'ATA', 'CAG', 'GCA', 'TAC', 'CGT', 'ACT', 'GAT', 'CTG', 'GCC', 'TCT', 'TAC', 'ACC', 'AAC', 'GGG', 'CAG', 'AGC', 'GTA', 'TGC', 'CTT', 'ACA', 'GAA', 'CT\\n', 'GAA', 'AGG', 'GTA', 'TCA', 'GGC', 'CGC', 'TGT', 'CGG', 'CAA', 'GCC', 'AGT', 'CAT', 'CCA', 'GCC', 'CCG', 'CCG', 'TCC', 'AAA', 'CAG', 'CCG', 'CCT', 'GGA', 'CAA', 'G\\nG', 'TGC', 'GCT', 'ATA', 'TGT', 'TTC', 'AGA', 'AGA', 'TAA', 'TGT']\n",
      "ATGAAAATAA 1 1943\n",
      "['GAA', 'AAT', 'AAT', 'CAA', 'TAT', 'TGG', 'AAT', 'TCT', 'TGC', 'CCA', 'TGT', 'AGA', 'CGC', 'TGG', 'AAA', 'GAC', 'GAC', 'CTT', 'GAC', 'GGA', 'GAG', 'CCT', 'GC\\n', 'TAT', 'ATG', 'CCA', 'GCG', 'GAG', 'CCA', 'TTT', 'CAG', 'AAC', 'CGG', 'GGA', 'GCG', 'TCA', 'AAA', 'AAG', 'GGA', 'CAA', 'CGA', 'GGA', 'CGG', 'ACA', 'CCA', 'TGT', 'T\\nT', 'TTG', 'GAG', 'CGG', 'CAG', 'CGT', 'GGG', 'ATT', 'ACC', 'ATT', 'CAA', 'GCG', 'GCA', 'GTC', 'ACT', 'TCC', 'TTC', 'CAG', 'TGG', 'CAC', 'AGA', 'TGT', 'AAA', 'GTC', '\\nAA', 'CAT', 'TGT', 'GGA', 'TAC', 'GCC', 'CGG', 'CCA', 'CAT', 'GGA', 'TTT', 'TTT', 'GGC', 'GGA', 'GGT', 'GTA', 'CCG', 'CTC', 'TTT', 'GGC', 'TGT', 'TTT', 'AGA', 'TG\\n', 'GGG', 'CCA', 'TCT', 'TGG', 'TGA', 'TCT', 'CCG', 'CTA', 'AAG', 'ATG', 'GCG', 'TGC', 'AGG', 'CCC', 'AGA', 'CCC', 'GTA', 'TTC', 'TGT', 'TCC', 'ATG', 'CCC', 'TGC', 'G\\nG', 'AAA', 'ATG', 'AAC', 'ATT', 'CCC', 'ACC', 'GTT', 'ATC', 'TTT', 'ATC', 'AAC', 'AAG', 'ATC', 'GAC', 'CAG', 'GCT', 'GGC', 'GTT', 'GAT', 'TTG', 'CAG', 'AGC', 'GTG', '\\nGT', 'TCA', 'GTC', 'TGT', 'TCG', 'GGA', 'TAA', 'GCT', 'CTC', 'CGC', 'CGA', 'TAT', 'TAT', 'CAT', 'CAA', 'GCA', 'GAC', 'GGT', 'GTC', 'GCT', 'GTC', 'CCC', 'GGA', 'AA\\n', 'TAG', 'TCC', 'TGG', 'AGG', 'AAA', 'ATA', 'CCG', 'ACA', 'TAG', 'AAG', 'CAT', 'GGG', 'ATG', 'CGG', 'TCA', 'TCG', 'AAA', 'ATA', 'ACG', 'ATA', 'AAT', 'TAT', 'TGG', 'A\\nA', 'AAG', 'TAT', 'ATC', 'GCA', 'GGA', 'GAA', 'CCA', 'ATC', 'AGC', 'CGG', 'GAA', 'AAA', 'CTT', 'GTG', 'CGG', 'GAG', 'GAA', 'CAG', 'CGG', 'CGG', 'GTT', 'CAA', 'GAC', '\\nGC', 'CTC', 'CCT', 'GTT', 'CCC', 'GGT', 'CTA', 'TTA', 'TGG', 'CAG', 'CGC', 'CAA', 'AAA', 'GGG', 'CCT', 'TGG', 'CAT', 'TCA', 'ACC', 'GTT', 'GAT', 'GGA', 'TGC', 'GG\\n', 'TGA', 'CAG', 'GGC', 'TGT', 'TCC', 'AAC', 'CGA', 'TTG', 'GGG', 'AAC', 'AGG', 'GGA', 'GCG', 'CCG', 'CCC', 'TAT', 'GCG', 'GCA', 'GCG', 'TTT', 'TCA', 'AGG', 'TGG', 'A\\nG', 'TAT', 'ACA', 'GAT', 'TGC', 'GGC', 'CAG', 'CGG', 'CGT', 'GTC', 'TAT', 'CTA', 'CGG', 'CTA', 'TAC', 'AGC', 'GGA', 'ACG', 'CTG', 'CGC', 'CTG', 'CGG', 'GAT', 'ACG', '\\nGT', 'GGC', 'CCT', 'GGC', 'CGG', 'GAG', 'AGA', 'AAA', 'GCT', 'GAA', 'AAT', 'CAC', 'AGA', 'GAT', 'GCG', 'TAT', 'TCC', 'ATC', 'CAA', 'AGG', 'GGA', 'AAT', 'TGT', 'TC\\n', 'GGA', 'CAG', 'ACA', 'CCG', 'CTT', 'ATC', 'CGG', 'GTG', 'AAA', 'TTG', 'TTA', 'TCC', 'TTC', 'CCA', 'GCG', 'ACA', 'GCG', 'TGA', 'GGT', 'TAA', 'ACG', 'ATG', 'TAT', 'T\\nA', 'GGG', 'GAC', 'CCA', 'ACC', 'CGG', 'CTC', 'CCT', 'CGT', 'AAA', 'AGG', 'TGG', 'CGT', 'GAG', 'GAC', 'CCC', 'CTC', 'CCC', 'ATG', 'CTG', 'CGG', 'ACG', 'TCG', 'ATT', '\\nGC', 'GCC', 'GAA', 'AAC', 'GGC', 'AGC', 'GCA', 'AAG', 'AGA', 'ACG', 'GCT', 'GCT', 'GGA', 'CGC', 'TCT', 'TAC', 'GCA', 'ACT', 'TGC', 'GGA', 'TAC', 'TGA', 'CCC', 'GC\\n', 'TTT', 'TGC', 'GCT', 'GCG', 'AGG', 'TGG', 'ATT', 'CCA', 'TCA', 'CCC', 'ATG', 'AGA', 'TCA', 'TTC', 'TTT', 'CTT', 'TTT', 'TGG', 'GCC', 'GGG', 'TGC', 'AGT', 'TGG', 'A\\nG', 'GTT', 'GTT', 'TCC', 'GCT', 'TTG', 'CTG', 'TCG', 'GAA', 'AAA', 'TAC', 'AAG', 'CTT', 'GAA', 'ACA', 'GTG', 'GTA', 'AAG', 'GAA', 'CCC', 'ACC', 'GTC', 'ATT', 'TAT', '\\nAT', 'GGA', 'GCG', 'GCC', 'GCT', 'CAA', 'AGC', 'AGC', 'CAG', 'CCA', 'CAC', 'CAT', 'CCA', 'TAT', 'CGA', 'GGT', 'GCC', 'GCC', 'CAA', 'CCC', 'GTT', 'TTG', 'GGC', 'AT\\n', 'CCA', 'TCG', 'GAC', 'TGT', 'CTG', 'TTA', 'CAC', 'CAC', 'TCC', 'CGC', 'TTG', 'GCT', 'CCG', 'GTG', 'TAC', 'AAT', 'ACG', 'AGA', 'GCC', 'GGG', 'TTT', 'CGC', 'TGG', 'G\\nA', 'TAC', 'TTG', 'AAC', 'CAG', 'AGT', 'TTT', 'CAA', 'AAC', 'GCT', 'GTC', 'AGG', 'GAT', 'GGT', 'ATC', 'CGT', 'TAC', 'GGG', 'CTG', 'GAG', 'CAG', 'GGC', 'TTG', 'TTC', '\\nGG', 'CTG', 'GAA', 'CGT', 'AAC', 'GGA', 'CTG', 'TAA', 'GAT', 'TTG', 'CTT', 'TGA', 'ATA', 'CGG', 'GCT', 'TTA', 'TTA', 'CAG', 'TCC', 'GGT', 'CAG', 'CAC', 'GCC', 'GG\\n', 'CGG', 'ACT', 'TCC', 'GCT', 'CAT', 'TGG', 'CCC', 'CGA', 'TTG', 'TAT', 'TGG', 'AAC', 'AGG', 'CAT', 'TGA', 'AGG', 'AAT', 'CAG', 'GGA', 'CGC', 'AAC', 'TGC', 'TGG', 'A\\nA', 'CCT', 'TAT', 'CTC', 'TCC', 'TTC', 'ACC', 'CTC', 'TAT', 'GCG', 'CCC', 'CGG', 'GAA', 'TAT', 'CTT', 'TCC', 'AGG', 'GCT', 'TAT', 'CAT', 'GAT', 'GCA', 'CCG', 'AAA', '\\nTA', 'CTG', 'TGC', 'CAC', 'CAT', 'CGA', 'AAC', 'GGT', 'CCA', 'GGT', 'AAA', 'AAA', 'GGA', 'TGA', 'AGT', 'TGT', 'CTT', 'TAC', 'TGG', 'CGA', 'GAT', 'TCC', 'CGC', 'CC\\n', 'GCT', 'GTA', 'TAC', 'AGG', 'CAT', 'ACC', 'GTA', 'CTG', 'ATC', 'TGG', 'CCT', 'CTT', 'ACA', 'CCA', 'ACG', 'GGC', 'AGA', 'GCG', 'TAT', 'GCC', 'TTA', 'CAG', 'AAC', 'T\\nG', 'AAA', 'GGG', 'TAT', 'CAG', 'GCC', 'GCT', 'GTC', 'GGC', 'AAG', 'CCA', 'GTC', 'ATC', 'CAG', 'CCC', 'CGC', 'CGT', 'CCA', 'AAC', 'AGC', 'CGC', 'CTG', 'GAC', 'AAG', '\\nGT', 'GCG', 'CTA', 'TAT', 'GTT', 'TCA', 'GAA', 'GAT', 'AAT']\n",
      "ATGAAAATAA 2 1944\n",
      "['AAA', 'ATA', 'ATC', 'AAT', 'ATT', 'GGA', 'ATT', 'CTT', 'GCC', 'CAT', 'GTA', 'GAC', 'GCT', 'GGA', 'AAG', 'ACG', 'ACC', 'TTG', 'ACG', 'GAG', 'AGC', 'CTG', 'C\\nT', 'ATA', 'TGC', 'CAG', 'CGG', 'AGC', 'CAT', 'TTC', 'AGA', 'ACC', 'GGG', 'GAG', 'CGT', 'CAA', 'AAA', 'AGG', 'GAC', 'AAC', 'GAG', 'GAC', 'GGA', 'CAC', 'CAT', 'GTT', '\\nTT', 'TGG', 'AGC', 'GGC', 'AGC', 'GTG', 'GGA', 'TTA', 'CCA', 'TTC', 'AAG', 'CGG', 'CAG', 'TCA', 'CTT', 'CCT', 'TCC', 'AGT', 'GGC', 'ACA', 'GAT', 'GTA', 'AAG', 'TC\\n', 'AAC', 'ATT', 'GTG', 'GAT', 'ACG', 'CCC', 'GGC', 'CAC', 'ATG', 'GAT', 'TTT', 'TTG', 'GCG', 'GAG', 'GTG', 'TAC', 'CGC', 'TCT', 'TTG', 'GCT', 'GTT', 'TTA', 'GAT', 'G\\nG', 'GGC', 'CAT', 'CTT', 'GGT', 'GAT', 'CTC', 'CGC', 'TAA', 'AGA', 'TGG', 'CGT', 'GCA', 'GGC', 'CCA', 'GAC', 'CCG', 'TAT', 'TCT', 'GTT', 'CCA', 'TGC', 'CCT', 'GCG', '\\nGA', 'AAA', 'TGA', 'ACA', 'TTC', 'CCA', 'CCG', 'TTA', 'TCT', 'TTA', 'TCA', 'ACA', 'AGA', 'TCG', 'ACC', 'AGG', 'CTG', 'GCG', 'TTG', 'ATT', 'TGC', 'AGA', 'GCG', 'TG\\n', 'GTT', 'CAG', 'TCT', 'GTT', 'CGG', 'GAT', 'AAG', 'CTC', 'TCC', 'GCC', 'GAT', 'ATT', 'ATC', 'ATC', 'AAG', 'CAG', 'ACG', 'GTG', 'TCG', 'CTG', 'TCC', 'CCG', 'GAA', 'A\\nT', 'AGT', 'CCT', 'GGA', 'GGA', 'AAA', 'TAC', 'CGA', 'CAT', 'AGA', 'AGC', 'ATG', 'GGA', 'TGC', 'GGT', 'CAT', 'CGA', 'AAA', 'TAA', 'CGA', 'TAA', 'ATT', 'ATT', 'GGA', '\\nAA', 'AGT', 'ATA', 'TCG', 'CAG', 'GAG', 'AAC', 'CAA', 'TCA', 'GCC', 'GGG', 'AAA', 'AAC', 'TTG', 'TGC', 'GGG', 'AGG', 'AAC', 'AGC', 'GGC', 'GGG', 'TTC', 'AAG', 'AC\\n', 'GCC', 'TCC', 'CTG', 'TTC', 'CCG', 'GTC', 'TAT', 'TAT', 'GGC', 'AGC', 'GCC', 'AAA', 'AAG', 'GGC', 'CTT', 'GGC', 'ATT', 'CAA', 'CCG', 'TTG', 'ATG', 'GAT', 'GCG', 'G\\nT', 'GAC', 'AGG', 'GCT', 'GTT', 'CCA', 'ACC', 'GAT', 'TGG', 'GGA', 'ACA', 'GGG', 'GAG', 'CGC', 'CGC', 'CCT', 'ATG', 'CGG', 'CAG', 'CGT', 'TTT', 'CAA', 'GGT', 'GGA', '\\nGT', 'ATA', 'CAG', 'ATT', 'GCG', 'GCC', 'AGC', 'GGC', 'GTG', 'TCT', 'ATC', 'TAC', 'GGC', 'TAT', 'ACA', 'GCG', 'GAA', 'CGC', 'TGC', 'GCC', 'TGC', 'GGG', 'ATA', 'CG\\n', 'GTG', 'GCC', 'CTG', 'GCC', 'GGG', 'AGA', 'GAA', 'AAG', 'CTG', 'AAA', 'ATC', 'ACA', 'GAG', 'ATG', 'CGT', 'ATT', 'CCA', 'TCC', 'AAA', 'GGG', 'GAA', 'ATT', 'GTT', 'C\\nG', 'GAC', 'AGA', 'CAC', 'CGC', 'TTA', 'TCC', 'GGG', 'TGA', 'AAT', 'TGT', 'TAT', 'CCT', 'TCC', 'CAG', 'CGA', 'CAG', 'CGT', 'GAG', 'GTT', 'AAA', 'CGA', 'TGT', 'ATT', '\\nAG', 'GGG', 'ACC', 'CAA', 'CCC', 'GGC', 'TCC', 'CTC', 'GTA', 'AAA', 'GGT', 'GGC', 'GTG', 'AGG', 'ACC', 'CCC', 'TCC', 'CCA', 'TGC', 'TGC', 'GGA', 'CGT', 'CGA', 'TT\\n', 'GCG', 'CCG', 'AAA', 'ACG', 'GCA', 'GCG', 'CAA', 'AGA', 'GAA', 'CGG', 'CTG', 'CTG', 'GAC', 'GCT', 'CTT', 'ACG', 'CAA', 'CTT', 'GCG', 'GAT', 'ACT', 'GAC', 'CCG', 'C\\nT', 'TTT', 'GCG', 'CTG', 'CGA', 'GGT', 'GGA', 'TTC', 'CAT', 'CAC', 'CCA', 'TGA', 'GAT', 'CAT', 'TCT', 'TTC', 'TTT', 'TTT', 'GGG', 'CCG', 'GGT', 'GCA', 'GTT', 'GGA', '\\nGG', 'TTG', 'TTT', 'CCG', 'CTT', 'TGC', 'TGT', 'CGG', 'AAA', 'AAT', 'ACA', 'AGC', 'TTG', 'AAA', 'CAG', 'TGG', 'TAA', 'AGG', 'AAC', 'CCA', 'CCG', 'TCA', 'TTT', 'AT\\n', 'ATG', 'GAG', 'CGG', 'CCG', 'CTC', 'AAA', 'GCA', 'GCC', 'AGC', 'CAC', 'ACC', 'ATC', 'CAT', 'ATC', 'GAG', 'GTG', 'CCG', 'CCC', 'AAC', 'CCG', 'TTT', 'TGG', 'GCA', 'T\\nC', 'CAT', 'CGG', 'ACT', 'GTC', 'TGT', 'TAC', 'ACC', 'ACT', 'CCC', 'GCT', 'TGG', 'CTC', 'CGG', 'TGT', 'ACA', 'ATA', 'CGA', 'GAG', 'CCG', 'GGT', 'TTC', 'GCT', 'GGG', '\\nAT', 'ACT', 'TGA', 'ACC', 'AGA', 'GTT', 'TTC', 'AAA', 'ACG', 'CTG', 'TCA', 'GGG', 'ATG', 'GTA', 'TCC', 'GTT', 'ACG', 'GGC', 'TGG', 'AGC', 'AGG', 'GCT', 'TGT', 'TC\\n', 'GGC', 'TGG', 'AAC', 'GTA', 'ACG', 'GAC', 'TGT', 'AAG', 'ATT', 'TGC', 'TTT', 'GAA', 'TAC', 'GGG', 'CTT', 'TAT', 'TAC', 'AGT', 'CCG', 'GTC', 'AGC', 'ACG', 'CCG', 'G\\nC', 'GGA', 'CTT', 'CCG', 'CTC', 'ATT', 'GGC', 'CCC', 'GAT', 'TGT', 'ATT', 'GGA', 'ACA', 'GGC', 'ATT', 'GAA', 'GGA', 'ATC', 'AGG', 'GAC', 'GCA', 'ACT', 'GCT', 'GGA', '\\nAC', 'CTT', 'ATC', 'TCT', 'CCT', 'TCA', 'CCC', 'TCT', 'ATG', 'CGC', 'CCC', 'GGG', 'AAT', 'ATC', 'TTT', 'CCA', 'GGG', 'CTT', 'ATC', 'ATG', 'ATG', 'CAC', 'CGA', 'AA\\n', 'TAC', 'TGT', 'GCC', 'ACC', 'ATC', 'GAA', 'ACG', 'GTC', 'CAG', 'GTA', 'AAA', 'AAG', 'GAT', 'GAA', 'GTT', 'GTC', 'TTT', 'ACT', 'GGC', 'GAG', 'ATT', 'CCC', 'GCC', 'C\\nG', 'CTG', 'TAT', 'ACA', 'GGC', 'ATA', 'CCG', 'TAC', 'TGA', 'TCT', 'GGC', 'CTC', 'TTA', 'CAC', 'CAA', 'CGG', 'GCA', 'GAG', 'CGT', 'ATG', 'CCT', 'TAC', 'AGA', 'ACT', '\\nGA', 'AAG', 'GGT', 'ATC', 'AGG', 'CCG', 'CTG', 'TCG', 'GCA', 'AGC', 'CAG', 'TCA', 'TCC', 'AGC', 'CCC', 'GCC', 'GTC', 'CAA', 'ACA', 'GCC', 'GCC', 'TGG', 'ACA', 'AG\\n', 'GTG', 'CGC', 'TAT', 'ATG', 'TTT', 'CAG', 'AAG', 'ATA', 'ATG']\n"
     ]
    }
   ],
   "source": [
    "for frame in range(-3,4,1):\n",
    "    seqlist = []\n",
    "    frameslist = []\n",
    "    frameelist = []\n",
    "    if frame > 0:\n",
    "        x = 0\n",
    "        start = frame - 1\n",
    "        end = (((len(TetW) - start) // 3) * 3) - (2 - start)\n",
    "        print(TetW[0:10], start, end)\n",
    "        for i in range((end - start) // 3):\n",
    "            seqlist.append(TetW[x+frame:(x+frame)+3])\n",
    "            x+=3\n",
    "        print(seqlist)\n",
    "    else:\n",
    "        x = 0\n",
    "        frame = abs(frame)\n",
    "        revDNASeq = TetW[::-1]\n",
    "        start = frame - 1\n",
    "        end = (((len(revDNASeq) - start) // 3) * 3) - (2 - start)\n",
    "        print(revDNASeq[0:10], start, end)\n",
    "        for i in range((end - start) // 3):\n",
    "            seqlist.append(revDNASeq[x+frame:(x+frame)+3])\n",
    "            x+=3\n",
    "        print(seqlist)\n",
    "        "
   ]
  },
  {
   "cell_type": "markdown",
   "metadata": {},
   "source": [
    "# Which frame has the most stop codons? #\n",
    "\n",
    "Once you have a list of start and stop and the DNASeq that goes with each, you can extract codons for any frame in the DNA sequence by passing those values to a function that uses them, which will just be a slight modification of your codon counting one-off above. \n",
    "\n",
    "The stop codon stops translation of a DNA sequence. TAA, TAG, or TGA are the typical stop codons. Now that you've counted the codons in each frame of this gene, which frame is the least broken up by stop codons? For bacteria, this is a primitive method of identifying where functional genes exist in the genome -- it's called identifying Open Reading Frames, and it is a first step in the pipeline of bacterial genefinding."
   ]
  },
  {
   "cell_type": "markdown",
   "metadata": {},
   "source": [
    "You can use this markdown cell to give me your answer to the question."
   ]
  }
 ],
 "metadata": {
  "kernelspec": {
   "display_name": "Python 3",
   "language": "python",
   "name": "python3"
  },
  "language_info": {
   "codemirror_mode": {
    "name": "ipython",
    "version": 3
   },
   "file_extension": ".py",
   "mimetype": "text/x-python",
   "name": "python",
   "nbconvert_exporter": "python",
   "pygments_lexer": "ipython3",
   "version": "3.7.4"
  }
 },
 "nbformat": 4,
 "nbformat_minor": 2
}
